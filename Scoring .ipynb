{
 "cells": [
  {
   "cell_type": "markdown",
   "id": "1388a6e2",
   "metadata": {},
   "source": [
    "# Scoring\n",
    "#### Gros probleme, la variable fraude a seulement 7246 on peut avoir un modele bete que previse toujours 0...."
   ]
  },
  {
   "cell_type": "code",
   "execution_count": 1,
   "id": "08e4faec",
   "metadata": {},
   "outputs": [],
   "source": [
    "import pandas as pd\n",
    "import numpy as np\n",
    "import matplotlib.pyplot as plt\n",
    "from sklearn.cluster import SpectralClustering, KMeans\n",
    "from sklearn.model_selection import train_test_split\n",
    "import scikitplot as skplt"
   ]
  },
  {
   "cell_type": "code",
   "execution_count": 2,
   "id": "e4eb0442",
   "metadata": {},
   "outputs": [],
   "source": [
    "data = pd.read_csv(\"D:\\\\Universita\\\\STatistica\\\\TIDE\\\\Deeplearn\\\\Scoring\\\\autorisations.csv\")"
   ]
  },
  {
   "cell_type": "code",
   "execution_count": 3,
   "id": "e0124585",
   "metadata": {},
   "outputs": [
    {
     "data": {
      "text/html": [
       "<div>\n",
       "<style scoped>\n",
       "    .dataframe tbody tr th:only-of-type {\n",
       "        vertical-align: middle;\n",
       "    }\n",
       "\n",
       "    .dataframe tbody tr th {\n",
       "        vertical-align: top;\n",
       "    }\n",
       "\n",
       "    .dataframe thead th {\n",
       "        text-align: right;\n",
       "    }\n",
       "</style>\n",
       "<table border=\"1\" class=\"dataframe\">\n",
       "  <thead>\n",
       "    <tr style=\"text-align: right;\">\n",
       "      <th></th>\n",
       "      <th>Carte</th>\n",
       "      <th>Pays</th>\n",
       "      <th>Date</th>\n",
       "      <th>Heure</th>\n",
       "      <th>dateheure</th>\n",
       "      <th>CodeRep</th>\n",
       "      <th>MCC</th>\n",
       "      <th>Montant</th>\n",
       "      <th>fraude</th>\n",
       "      <th>FM_Velocity_Condition_3</th>\n",
       "      <th>...</th>\n",
       "      <th>FM_Sum_12</th>\n",
       "      <th>FM_Sum_24</th>\n",
       "      <th>FM_Redondance_MCC_3</th>\n",
       "      <th>FM_Redondance_MCC_6</th>\n",
       "      <th>FM_Redondance_MCC_12</th>\n",
       "      <th>FM_Redondance_MCC_24</th>\n",
       "      <th>FM_Difference_Pays_3</th>\n",
       "      <th>FM_Difference_Pays_6</th>\n",
       "      <th>FM_Difference_Pays_12</th>\n",
       "      <th>FM_Difference_Pays_24</th>\n",
       "    </tr>\n",
       "  </thead>\n",
       "  <tbody>\n",
       "    <tr>\n",
       "      <th>0</th>\n",
       "      <td>0</td>\n",
       "      <td>840</td>\n",
       "      <td>02/12/2003</td>\n",
       "      <td>17:47:52</td>\n",
       "      <td>02/12/2003</td>\n",
       "      <td>15</td>\n",
       "      <td>5812</td>\n",
       "      <td>69.25</td>\n",
       "      <td>0</td>\n",
       "      <td>0</td>\n",
       "      <td>...</td>\n",
       "      <td>69.25</td>\n",
       "      <td>69.25</td>\n",
       "      <td>1</td>\n",
       "      <td>1</td>\n",
       "      <td>1</td>\n",
       "      <td>1</td>\n",
       "      <td>1</td>\n",
       "      <td>1</td>\n",
       "      <td>1</td>\n",
       "      <td>1</td>\n",
       "    </tr>\n",
       "    <tr>\n",
       "      <th>1</th>\n",
       "      <td>1</td>\n",
       "      <td>158</td>\n",
       "      <td>25/11/2003</td>\n",
       "      <td>06:00:20</td>\n",
       "      <td>25/11/2003</td>\n",
       "      <td>15</td>\n",
       "      <td>5311</td>\n",
       "      <td>1.00</td>\n",
       "      <td>0</td>\n",
       "      <td>0</td>\n",
       "      <td>...</td>\n",
       "      <td>1.00</td>\n",
       "      <td>1.00</td>\n",
       "      <td>1</td>\n",
       "      <td>1</td>\n",
       "      <td>1</td>\n",
       "      <td>1</td>\n",
       "      <td>1</td>\n",
       "      <td>1</td>\n",
       "      <td>1</td>\n",
       "      <td>1</td>\n",
       "    </tr>\n",
       "    <tr>\n",
       "      <th>2</th>\n",
       "      <td>2</td>\n",
       "      <td>826</td>\n",
       "      <td>12/11/2003</td>\n",
       "      <td>14:10:57</td>\n",
       "      <td>12/11/2003</td>\n",
       "      <td>15</td>\n",
       "      <td>5211</td>\n",
       "      <td>516.95</td>\n",
       "      <td>0</td>\n",
       "      <td>0</td>\n",
       "      <td>...</td>\n",
       "      <td>516.95</td>\n",
       "      <td>516.95</td>\n",
       "      <td>1</td>\n",
       "      <td>1</td>\n",
       "      <td>1</td>\n",
       "      <td>1</td>\n",
       "      <td>1</td>\n",
       "      <td>1</td>\n",
       "      <td>1</td>\n",
       "      <td>1</td>\n",
       "    </tr>\n",
       "    <tr>\n",
       "      <th>3</th>\n",
       "      <td>3</td>\n",
       "      <td>840</td>\n",
       "      <td>07/11/2003</td>\n",
       "      <td>03:41:55</td>\n",
       "      <td>07/11/2003</td>\n",
       "      <td>14</td>\n",
       "      <td>7399</td>\n",
       "      <td>0.01</td>\n",
       "      <td>0</td>\n",
       "      <td>0</td>\n",
       "      <td>...</td>\n",
       "      <td>0.01</td>\n",
       "      <td>0.01</td>\n",
       "      <td>1</td>\n",
       "      <td>1</td>\n",
       "      <td>1</td>\n",
       "      <td>1</td>\n",
       "      <td>1</td>\n",
       "      <td>1</td>\n",
       "      <td>1</td>\n",
       "      <td>1</td>\n",
       "    </tr>\n",
       "    <tr>\n",
       "      <th>4</th>\n",
       "      <td>4</td>\n",
       "      <td>158</td>\n",
       "      <td>23/11/2003</td>\n",
       "      <td>05:07:03</td>\n",
       "      <td>23/11/2003</td>\n",
       "      <td>15</td>\n",
       "      <td>5311</td>\n",
       "      <td>1.00</td>\n",
       "      <td>0</td>\n",
       "      <td>0</td>\n",
       "      <td>...</td>\n",
       "      <td>1.00</td>\n",
       "      <td>1.00</td>\n",
       "      <td>1</td>\n",
       "      <td>1</td>\n",
       "      <td>1</td>\n",
       "      <td>1</td>\n",
       "      <td>1</td>\n",
       "      <td>1</td>\n",
       "      <td>1</td>\n",
       "      <td>1</td>\n",
       "    </tr>\n",
       "  </tbody>\n",
       "</table>\n",
       "<p>5 rows × 25 columns</p>\n",
       "</div>"
      ],
      "text/plain": [
       "   Carte  Pays        Date     Heure   dateheure  CodeRep   MCC  Montant  \\\n",
       "0      0   840  02/12/2003  17:47:52  02/12/2003       15  5812    69.25   \n",
       "1      1   158  25/11/2003  06:00:20  25/11/2003       15  5311     1.00   \n",
       "2      2   826  12/11/2003  14:10:57  12/11/2003       15  5211   516.95   \n",
       "3      3   840  07/11/2003  03:41:55  07/11/2003       14  7399     0.01   \n",
       "4      4   158  23/11/2003  05:07:03  23/11/2003       15  5311     1.00   \n",
       "\n",
       "   fraude  FM_Velocity_Condition_3  ...  FM_Sum_12  FM_Sum_24  \\\n",
       "0       0                        0  ...      69.25      69.25   \n",
       "1       0                        0  ...       1.00       1.00   \n",
       "2       0                        0  ...     516.95     516.95   \n",
       "3       0                        0  ...       0.01       0.01   \n",
       "4       0                        0  ...       1.00       1.00   \n",
       "\n",
       "   FM_Redondance_MCC_3  FM_Redondance_MCC_6  FM_Redondance_MCC_12  \\\n",
       "0                    1                    1                     1   \n",
       "1                    1                    1                     1   \n",
       "2                    1                    1                     1   \n",
       "3                    1                    1                     1   \n",
       "4                    1                    1                     1   \n",
       "\n",
       "   FM_Redondance_MCC_24  FM_Difference_Pays_3  FM_Difference_Pays_6  \\\n",
       "0                     1                     1                     1   \n",
       "1                     1                     1                     1   \n",
       "2                     1                     1                     1   \n",
       "3                     1                     1                     1   \n",
       "4                     1                     1                     1   \n",
       "\n",
       "   FM_Difference_Pays_12  FM_Difference_Pays_24  \n",
       "0                      1                      1  \n",
       "1                      1                      1  \n",
       "2                      1                      1  \n",
       "3                      1                      1  \n",
       "4                      1                      1  \n",
       "\n",
       "[5 rows x 25 columns]"
      ]
     },
     "execution_count": 3,
     "metadata": {},
     "output_type": "execute_result"
    }
   ],
   "source": [
    "data.head()"
   ]
  },
  {
   "cell_type": "code",
   "execution_count": 4,
   "id": "6efeae85",
   "metadata": {},
   "outputs": [
    {
     "data": {
      "text/plain": [
       "(1151432, 25)"
      ]
     },
     "execution_count": 4,
     "metadata": {},
     "output_type": "execute_result"
    }
   ],
   "source": [
    "data.shape"
   ]
  },
  {
   "cell_type": "code",
   "execution_count": 5,
   "id": "ff749514",
   "metadata": {},
   "outputs": [
    {
     "data": {
      "text/plain": [
       "Carte                         int64\n",
       "Pays                          int64\n",
       "Date                         object\n",
       "Heure                        object\n",
       "dateheure                    object\n",
       "CodeRep                       int64\n",
       "MCC                           int64\n",
       "Montant                     float64\n",
       "fraude                        int64\n",
       "FM_Velocity_Condition_3       int64\n",
       "FM_Velocity_Condition_6       int64\n",
       "FM_Velocity_Condition_12      int64\n",
       "FM_Velocity_Condition_24      int64\n",
       "FM_Sum_3                    float64\n",
       "FM_Sum_6                    float64\n",
       "FM_Sum_12                   float64\n",
       "FM_Sum_24                   float64\n",
       "FM_Redondance_MCC_3           int64\n",
       "FM_Redondance_MCC_6           int64\n",
       "FM_Redondance_MCC_12          int64\n",
       "FM_Redondance_MCC_24          int64\n",
       "FM_Difference_Pays_3          int64\n",
       "FM_Difference_Pays_6          int64\n",
       "FM_Difference_Pays_12         int64\n",
       "FM_Difference_Pays_24         int64\n",
       "dtype: object"
      ]
     },
     "execution_count": 5,
     "metadata": {},
     "output_type": "execute_result"
    }
   ],
   "source": [
    "data.dtypes"
   ]
  },
  {
   "cell_type": "code",
   "execution_count": 6,
   "id": "c75a919b",
   "metadata": {},
   "outputs": [
    {
     "data": {
      "text/plain": [
       "0.006293033370620237"
      ]
     },
     "execution_count": 6,
     "metadata": {},
     "output_type": "execute_result"
    }
   ],
   "source": [
    "data[\"fraude\"].sum()/len(data)"
   ]
  },
  {
   "cell_type": "code",
   "execution_count": 7,
   "id": "96c6e78c",
   "metadata": {},
   "outputs": [
    {
     "data": {
      "text/plain": [
       "Carte                         int64\n",
       "Pays                          int64\n",
       "Date                         object\n",
       "Heure                        object\n",
       "dateheure                    object\n",
       "CodeRep                       int64\n",
       "MCC                           int64\n",
       "Montant                     float64\n",
       "fraude                        int64\n",
       "FM_Velocity_Condition_3       int64\n",
       "FM_Velocity_Condition_6       int64\n",
       "FM_Velocity_Condition_12      int64\n",
       "FM_Velocity_Condition_24      int64\n",
       "FM_Sum_3                    float64\n",
       "FM_Sum_6                    float64\n",
       "FM_Sum_12                   float64\n",
       "FM_Sum_24                   float64\n",
       "FM_Redondance_MCC_3           int64\n",
       "FM_Redondance_MCC_6           int64\n",
       "FM_Redondance_MCC_12          int64\n",
       "FM_Redondance_MCC_24          int64\n",
       "FM_Difference_Pays_3          int64\n",
       "FM_Difference_Pays_6          int64\n",
       "FM_Difference_Pays_12         int64\n",
       "FM_Difference_Pays_24         int64\n",
       "dtype: object"
      ]
     },
     "execution_count": 7,
     "metadata": {},
     "output_type": "execute_result"
    }
   ],
   "source": [
    "data.dtypes"
   ]
  },
  {
   "cell_type": "code",
   "execution_count": 8,
   "id": "578d76e4",
   "metadata": {},
   "outputs": [],
   "source": [
    "info_df_num = data.describe()\n",
    "info_types = pd.DataFrame(data.dtypes)"
   ]
  },
  {
   "cell_type": "code",
   "execution_count": 9,
   "id": "29f03140",
   "metadata": {},
   "outputs": [
    {
     "name": "stdout",
     "output_type": "stream",
     "text": [
      "                   variables  Nb value distinct  Nb value missing  \\\n",
      "0                      Carte             198044                 0   \n",
      "1                       Pays                167                 0   \n",
      "2                    CodeRep                 15                 0   \n",
      "3                        MCC                661                 0   \n",
      "4                    Montant              81202                 0   \n",
      "5                     fraude                  2                 0   \n",
      "6    FM_Velocity_Condition_3                 47                 0   \n",
      "7    FM_Velocity_Condition_6                 82                 0   \n",
      "8   FM_Velocity_Condition_12                111                 0   \n",
      "9   FM_Velocity_Condition_24                130                 0   \n",
      "10                  FM_Sum_3             109836                 0   \n",
      "11                  FM_Sum_6             115524                 0   \n",
      "12                 FM_Sum_12             121192                 0   \n",
      "13                 FM_Sum_24             134264                 0   \n",
      "14       FM_Redondance_MCC_3                 39                 0   \n",
      "15       FM_Redondance_MCC_6                 39                 0   \n",
      "16      FM_Redondance_MCC_12                 46                 0   \n",
      "17      FM_Redondance_MCC_24                 59                 0   \n",
      "18      FM_Difference_Pays_3                 10                 0   \n",
      "19      FM_Difference_Pays_6                 15                 0   \n",
      "20     FM_Difference_Pays_12                 15                 0   \n",
      "21     FM_Difference_Pays_24                 17                 0   \n",
      "\n",
      "    %Modalité_missing  \n",
      "0                 0.0  \n",
      "1                 0.0  \n",
      "2                 0.0  \n",
      "3                 0.0  \n",
      "4                 0.0  \n",
      "5                 0.0  \n",
      "6                 0.0  \n",
      "7                 0.0  \n",
      "8                 0.0  \n",
      "9                 0.0  \n",
      "10                0.0  \n",
      "11                0.0  \n",
      "12                0.0  \n",
      "13                0.0  \n",
      "14                0.0  \n",
      "15                0.0  \n",
      "16                0.0  \n",
      "17                0.0  \n",
      "18                0.0  \n",
      "19                0.0  \n",
      "20                0.0  \n",
      "21                0.0  \n"
     ]
    }
   ],
   "source": [
    "nb_nan = []\n",
    "nb_distincts =[]\n",
    "for v in info_df_num.columns.tolist():\n",
    "    nb_nan.append(data[v].isnull().sum())\n",
    "    nb_distincts.append(len(set(data[v])))\n",
    "    \n",
    "info_df_num_2 = pd.DataFrame()\n",
    "info_df_num_2 [\"variables\"] = info_df_num.columns.tolist()\n",
    "info_df_num_2[\"Nb value distinct\"] = nb_distincts\n",
    "info_df_num_2[\"Nb value missing\"] = nb_nan \n",
    "info_df_num_2[\"%Modalité_missing\"] = info_df_num_2[\"Nb value missing\"]/len(data)\n",
    "\n",
    "print(info_df_num_2)"
   ]
  },
  {
   "cell_type": "code",
   "execution_count": 10,
   "id": "cdda7c06",
   "metadata": {},
   "outputs": [
    {
     "name": "stdout",
     "output_type": "stream",
     "text": [
      "   variables  Nb value distinct  Nb value missing\n",
      "0       Date                243                 0\n",
      "1      Heure              85697                 0\n",
      "2  dateheure                243                 0\n"
     ]
    }
   ],
   "source": [
    "list_var_cat = info_types[info_types[0]==\"object\"].index.tolist()\n",
    "\n",
    "info_df_cat = pd.DataFrame()\n",
    "nb_nan = []\n",
    "nb_distincts =[]\n",
    "for v in list_var_cat :\n",
    "    nb_nan.append(data[v].isnull().sum())\n",
    "    nb_distincts.append(len(set(data[v])))\n",
    "    \n",
    "info_df_cat[\"variables\"] = list_var_cat\n",
    "info_df_cat[\"Nb value distinct\"] = nb_distincts\n",
    "info_df_cat[\"Nb value missing\"] = nb_nan\n",
    "\n",
    "print(info_df_cat)"
   ]
  },
  {
   "cell_type": "code",
   "execution_count": 11,
   "id": "1386b687",
   "metadata": {},
   "outputs": [],
   "source": [
    "data[\"Heure\"] = data[\"Heure\"].str.split(':', expand=True)[0]\n",
    "data[\"Date\"] = pd.to_datetime(data[\"Date\"], format='%d/%m/%Y')\n",
    "data[\"Month\"] = data[\"Date\"].dt.month\n",
    "data[\"Month\"] = data[\"Month\"].astype('object')\n",
    "data[\"CodeRep\"]=np.where(data[\"CodeRep\"] == 0,1,0)\n",
    "continents = pd.read_excel(\"D:\\\\Universita\\\\STatistica\\\\TIDE\\\\Deeplearn\\\\Scoring\\\\continents.xlsx\", index_col = \"Code numérique\")\n",
    "data[\"Continent\"] = data['Pays'].map(continents[\"Continent\"])\n",
    "data[\"Continent\"] = np.where(data[\"Pays\"]==891, 'Europe', data[\"Continent\"])\n",
    "data[\"Continent\"] = np.where(data[\"Pays\"]==530, 'Amérique du Nord', data[\"Continent\"])\n",
    "data[\"Continent\"] = np.where((data[\"Pays\"]==999)|(data[\"Pays\"]==900), 'Unknown', data[\"Continent\"])\n",
    "data[\"FD\"] = data['Pays'].map(continents[\"FD\"])\n",
    "data[\"FD\"] = np.where((data[\"FD\"].isna()) & (data[\"Continent\"]=='Europe'), 0.502679705619812, data[\"FD\"])\n",
    "data[\"FD\"] = np.where((data[\"FD\"].isna()) & ((data[\"Continent\"]=='Asie')|(data[\"Continent\"]=='Océanie')), 0.350481420755386, data[\"FD\"])\n",
    "data[\"FD\"] = np.where((data[\"FD\"].isna()) & (data[\"Continent\"]=='Afrique'), 0.1582290828228, data[\"FD\"])\n",
    "data[\"FD\"] = np.where((data[\"FD\"].isna()) & ((data[\"Continent\"]=='Amérique du Nord')|(data[\"Continent\"]=='Amérique du Sud')), 0.324424803256989, data[\"FD\"])\n",
    "data[\"FD\"] = np.where((data[\"FD\"].isna()) & (data[\"Continent\"]=='Unknown'), 0.319519817829132, data[\"FD\"])"
   ]
  },
  {
   "cell_type": "markdown",
   "id": "a517c97e",
   "metadata": {},
   "source": [
    "# Division of test and train data.\n",
    "Is it necessary to do it before analysing for possible seasonalities or country risk?"
   ]
  },
  {
   "cell_type": "code",
   "execution_count": 12,
   "id": "e03e8152",
   "metadata": {},
   "outputs": [
    {
     "data": {
      "image/png": "[encoded data removed]",
      "text/plain": [
       "<Figure size 432x288 with 1 Axes>"
      ]
     },
     "metadata": {
      "needs_background": "light"
     },
     "output_type": "display_data"
    }
   ],
   "source": [
    "data[\"fraude\"].plot(kind = 'hist');"
   ]
  },
  {
   "cell_type": "code",
   "execution_count": 13,
   "id": "405bda51",
   "metadata": {},
   "outputs": [],
   "source": [
    "X = data.drop(columns=[\"fraude\",\"Carte\", \"Date\", \"dateheure\", \"MCC\"])\n",
    "Y = data[\"fraude\"]"
   ]
  },
  {
   "cell_type": "code",
   "execution_count": 14,
   "id": "a0098f90",
   "metadata": {},
   "outputs": [],
   "source": [
    "X_train, X_test, Y_train, Y_test = train_test_split(X, Y,\n",
    "                                                    test_size=0.3, stratify=Y)\n",
    "train = X_train.join(Y_train)"
   ]
  },
  {
   "cell_type": "markdown",
   "id": "bc3065c3",
   "metadata": {},
   "source": [
    "## Is there a country specific risk involved?"
   ]
  },
  {
   "cell_type": "code",
   "execution_count": 15,
   "id": "b58ee6c7",
   "metadata": {},
   "outputs": [
    {
     "data": {
      "text/html": [
       "<div>\n",
       "<style scoped>\n",
       "    .dataframe tbody tr th:only-of-type {\n",
       "        vertical-align: middle;\n",
       "    }\n",
       "\n",
       "    .dataframe tbody tr th {\n",
       "        vertical-align: top;\n",
       "    }\n",
       "\n",
       "    .dataframe thead th {\n",
       "        text-align: right;\n",
       "    }\n",
       "</style>\n",
       "<table border=\"1\" class=\"dataframe\">\n",
       "  <thead>\n",
       "    <tr style=\"text-align: right;\">\n",
       "      <th></th>\n",
       "      <th>fraude</th>\n",
       "    </tr>\n",
       "    <tr>\n",
       "      <th>Pays</th>\n",
       "      <th></th>\n",
       "    </tr>\n",
       "  </thead>\n",
       "  <tbody>\n",
       "    <tr>\n",
       "      <th>8</th>\n",
       "      <td>0</td>\n",
       "    </tr>\n",
       "    <tr>\n",
       "      <th>524</th>\n",
       "      <td>0</td>\n",
       "    </tr>\n",
       "    <tr>\n",
       "      <th>512</th>\n",
       "      <td>0</td>\n",
       "    </tr>\n",
       "    <tr>\n",
       "      <th>508</th>\n",
       "      <td>0</td>\n",
       "    </tr>\n",
       "    <tr>\n",
       "      <th>498</th>\n",
       "      <td>0</td>\n",
       "    </tr>\n",
       "    <tr>\n",
       "      <th>...</th>\n",
       "      <td>...</td>\n",
       "    </tr>\n",
       "    <tr>\n",
       "      <th>56</th>\n",
       "      <td>394</td>\n",
       "    </tr>\n",
       "    <tr>\n",
       "      <th>380</th>\n",
       "      <td>487</td>\n",
       "    </tr>\n",
       "    <tr>\n",
       "      <th>826</th>\n",
       "      <td>659</td>\n",
       "    </tr>\n",
       "    <tr>\n",
       "      <th>840</th>\n",
       "      <td>665</td>\n",
       "    </tr>\n",
       "    <tr>\n",
       "      <th>724</th>\n",
       "      <td>855</td>\n",
       "    </tr>\n",
       "  </tbody>\n",
       "</table>\n",
       "<p>167 rows × 1 columns</p>\n",
       "</div>"
      ],
      "text/plain": [
       "      fraude\n",
       "Pays        \n",
       "8          0\n",
       "524        0\n",
       "512        0\n",
       "508        0\n",
       "498        0\n",
       "...      ...\n",
       "56       394\n",
       "380      487\n",
       "826      659\n",
       "840      665\n",
       "724      855\n",
       "\n",
       "[167 rows x 1 columns]"
      ]
     },
     "execution_count": 15,
     "metadata": {},
     "output_type": "execute_result"
    }
   ],
   "source": [
    "summa= train.groupby(\"Pays\").sum()[[\"fraude\"]]\n",
    "summa.sort_values(by=\"fraude\")"
   ]
  },
  {
   "cell_type": "code",
   "execution_count": 16,
   "id": "04b78f42",
   "metadata": {},
   "outputs": [],
   "source": [
    "counts = pd.Series(train[\"Pays\"]).value_counts()\n",
    "counts = pd.DataFrame(counts)\n",
    "counts = counts.rename(columns={\"Pays\":\"NTrans\"})"
   ]
  },
  {
   "cell_type": "code",
   "execution_count": 17,
   "id": "0a946f11",
   "metadata": {
    "scrolled": true
   },
   "outputs": [
    {
     "data": {
      "image/png": "[encoded data removed]",
      "text/plain": [
       "<Figure size 432x288 with 1 Axes>"
      ]
     },
     "metadata": {
      "needs_background": "light"
     },
     "output_type": "display_data"
    }
   ],
   "source": [
    "cmerged = pd.merge(counts,summa,left_index=True, right_index=True)\n",
    "cmerged.reset_index(inplace=True)\n",
    "cmerged = cmerged.rename(columns={\"index\":\"Pays\"})\n",
    "cmerged[\"Fratio\"] = cmerged[\"fraude\"]/cmerged[\"NTrans\"]\n",
    "cmerged[\"Fratio\"].plot(kind = 'hist');"
   ]
  },
  {
   "cell_type": "code",
   "execution_count": 18,
   "id": "46a499ac",
   "metadata": {},
   "outputs": [
    {
     "data": {
      "text/plain": [
       "10"
      ]
     },
     "execution_count": 18,
     "metadata": {},
     "output_type": "execute_result"
    }
   ],
   "source": [
    "sum(cmerged[\"Fratio\"]>0.025)"
   ]
  },
  {
   "cell_type": "code",
   "execution_count": 19,
   "id": "6c2f2f71",
   "metadata": {},
   "outputs": [
    {
     "data": {
      "text/html": [
       "<div>\n",
       "<style scoped>\n",
       "    .dataframe tbody tr th:only-of-type {\n",
       "        vertical-align: middle;\n",
       "    }\n",
       "\n",
       "    .dataframe tbody tr th {\n",
       "        vertical-align: top;\n",
       "    }\n",
       "\n",
       "    .dataframe thead th {\n",
       "        text-align: right;\n",
       "    }\n",
       "</style>\n",
       "<table border=\"1\" class=\"dataframe\">\n",
       "  <thead>\n",
       "    <tr style=\"text-align: right;\">\n",
       "      <th></th>\n",
       "      <th>Pays</th>\n",
       "      <th>NTrans</th>\n",
       "      <th>fraude</th>\n",
       "      <th>Fratio</th>\n",
       "    </tr>\n",
       "  </thead>\n",
       "  <tbody>\n",
       "    <tr>\n",
       "      <th>13</th>\n",
       "      <td>36</td>\n",
       "      <td>5615</td>\n",
       "      <td>155</td>\n",
       "      <td>0.027605</td>\n",
       "    </tr>\n",
       "    <tr>\n",
       "      <th>14</th>\n",
       "      <td>76</td>\n",
       "      <td>5220</td>\n",
       "      <td>256</td>\n",
       "      <td>0.049042</td>\n",
       "    </tr>\n",
       "    <tr>\n",
       "      <th>17</th>\n",
       "      <td>792</td>\n",
       "      <td>4255</td>\n",
       "      <td>264</td>\n",
       "      <td>0.062045</td>\n",
       "    </tr>\n",
       "    <tr>\n",
       "      <th>37</th>\n",
       "      <td>356</td>\n",
       "      <td>1859</td>\n",
       "      <td>47</td>\n",
       "      <td>0.025282</td>\n",
       "    </tr>\n",
       "    <tr>\n",
       "      <th>52</th>\n",
       "      <td>188</td>\n",
       "      <td>859</td>\n",
       "      <td>34</td>\n",
       "      <td>0.039581</td>\n",
       "    </tr>\n",
       "    <tr>\n",
       "      <th>65</th>\n",
       "      <td>608</td>\n",
       "      <td>535</td>\n",
       "      <td>15</td>\n",
       "      <td>0.028037</td>\n",
       "    </tr>\n",
       "    <tr>\n",
       "      <th>79</th>\n",
       "      <td>320</td>\n",
       "      <td>252</td>\n",
       "      <td>11</td>\n",
       "      <td>0.043651</td>\n",
       "    </tr>\n",
       "    <tr>\n",
       "      <th>97</th>\n",
       "      <td>218</td>\n",
       "      <td>119</td>\n",
       "      <td>10</td>\n",
       "      <td>0.084034</td>\n",
       "    </tr>\n",
       "    <tr>\n",
       "      <th>101</th>\n",
       "      <td>862</td>\n",
       "      <td>108</td>\n",
       "      <td>10</td>\n",
       "      <td>0.092593</td>\n",
       "    </tr>\n",
       "    <tr>\n",
       "      <th>103</th>\n",
       "      <td>690</td>\n",
       "      <td>103</td>\n",
       "      <td>3</td>\n",
       "      <td>0.029126</td>\n",
       "    </tr>\n",
       "  </tbody>\n",
       "</table>\n",
       "</div>"
      ],
      "text/plain": [
       "     Pays  NTrans  fraude    Fratio\n",
       "13     36    5615     155  0.027605\n",
       "14     76    5220     256  0.049042\n",
       "17    792    4255     264  0.062045\n",
       "37    356    1859      47  0.025282\n",
       "52    188     859      34  0.039581\n",
       "65    608     535      15  0.028037\n",
       "79    320     252      11  0.043651\n",
       "97    218     119      10  0.084034\n",
       "101   862     108      10  0.092593\n",
       "103   690     103       3  0.029126"
      ]
     },
     "execution_count": 19,
     "metadata": {},
     "output_type": "execute_result"
    }
   ],
   "source": [
    "cmerged[(cmerged[\"Fratio\"]>0.025)]"
   ]
  },
  {
   "cell_type": "code",
   "execution_count": 20,
   "id": "0798ea9f",
   "metadata": {},
   "outputs": [
    {
     "name": "stderr",
     "output_type": "stream",
     "text": [
      "D:\\Users\\alepi\\anaconda3\\lib\\site-packages\\sklearn\\cluster\\_kmeans.py:1332: UserWarning: KMeans is known to have a memory leak on Windows with MKL, when there are less chunks than available threads. You can avoid it by setting the environment variable OMP_NUM_THREADS=1.\n",
      "  warnings.warn(\n"
     ]
    },
    {
     "data": {
      "image/png": "[encoded data removed]",
      "text/plain": [
       "<Figure size 432x288 with 1 Axes>"
      ]
     },
     "metadata": {
      "needs_background": "light"
     },
     "output_type": "display_data"
    }
   ],
   "source": [
    "kmeans = KMeans(n_clusters=2, init='random', n_init=1000)\n",
    "cmerged['label'] = kmeans.fit_predict(cmerged[['Fratio']])\n",
    "ax = cmerged[cmerged['label']==0].plot.scatter(x='Fratio', y='label', s=50, color='white', edgecolor='black')\n",
    "cmerged[cmerged['label']==1].plot.scatter(x='Fratio', y='label', s=50, color='white', ax=ax, edgecolor='red')\n",
    "plt.scatter(kmeans.cluster_centers_.ravel(), [0.5]*len(kmeans.cluster_centers_), s=100, color='green', marker='*');"
   ]
  },
  {
   "cell_type": "code",
   "execution_count": 21,
   "id": "80d627f2",
   "metadata": {},
   "outputs": [
    {
     "data": {
      "text/html": [
       "<div>\n",
       "<style scoped>\n",
       "    .dataframe tbody tr th:only-of-type {\n",
       "        vertical-align: middle;\n",
       "    }\n",
       "\n",
       "    .dataframe tbody tr th {\n",
       "        vertical-align: top;\n",
       "    }\n",
       "\n",
       "    .dataframe thead th {\n",
       "        text-align: right;\n",
       "    }\n",
       "</style>\n",
       "<table border=\"1\" class=\"dataframe\">\n",
       "  <thead>\n",
       "    <tr style=\"text-align: right;\">\n",
       "      <th></th>\n",
       "      <th>Pays</th>\n",
       "      <th>NTrans</th>\n",
       "      <th>fraude</th>\n",
       "      <th>Fratio</th>\n",
       "      <th>label</th>\n",
       "    </tr>\n",
       "  </thead>\n",
       "  <tbody>\n",
       "    <tr>\n",
       "      <th>14</th>\n",
       "      <td>76</td>\n",
       "      <td>5220</td>\n",
       "      <td>256</td>\n",
       "      <td>0.049042</td>\n",
       "      <td>1</td>\n",
       "    </tr>\n",
       "    <tr>\n",
       "      <th>17</th>\n",
       "      <td>792</td>\n",
       "      <td>4255</td>\n",
       "      <td>264</td>\n",
       "      <td>0.062045</td>\n",
       "      <td>1</td>\n",
       "    </tr>\n",
       "    <tr>\n",
       "      <th>52</th>\n",
       "      <td>188</td>\n",
       "      <td>859</td>\n",
       "      <td>34</td>\n",
       "      <td>0.039581</td>\n",
       "      <td>1</td>\n",
       "    </tr>\n",
       "    <tr>\n",
       "      <th>79</th>\n",
       "      <td>320</td>\n",
       "      <td>252</td>\n",
       "      <td>11</td>\n",
       "      <td>0.043651</td>\n",
       "      <td>1</td>\n",
       "    </tr>\n",
       "    <tr>\n",
       "      <th>97</th>\n",
       "      <td>218</td>\n",
       "      <td>119</td>\n",
       "      <td>10</td>\n",
       "      <td>0.084034</td>\n",
       "      <td>1</td>\n",
       "    </tr>\n",
       "    <tr>\n",
       "      <th>101</th>\n",
       "      <td>862</td>\n",
       "      <td>108</td>\n",
       "      <td>10</td>\n",
       "      <td>0.092593</td>\n",
       "      <td>1</td>\n",
       "    </tr>\n",
       "  </tbody>\n",
       "</table>\n",
       "</div>"
      ],
      "text/plain": [
       "     Pays  NTrans  fraude    Fratio  label\n",
       "14     76    5220     256  0.049042      1\n",
       "17    792    4255     264  0.062045      1\n",
       "52    188     859      34  0.039581      1\n",
       "79    320     252      11  0.043651      1\n",
       "97    218     119      10  0.084034      1\n",
       "101   862     108      10  0.092593      1"
      ]
     },
     "execution_count": 21,
     "metadata": {},
     "output_type": "execute_result"
    }
   ],
   "source": [
    "cmerged[cmerged['label']==1]"
   ]
  },
  {
   "cell_type": "code",
   "execution_count": 22,
   "id": "b3bda40c",
   "metadata": {},
   "outputs": [],
   "source": [
    "# K-Means and a 0.025 threshold level bring the same result"
   ]
  },
  {
   "cell_type": "markdown",
   "id": "56d15923",
   "metadata": {},
   "source": [
    "#### And the high risk countries are: Australia (36), Brasil (76), Turkey (792), India (356), Costa Rica (188), Philippines (608), Taiwan (158), Guatemala (320), Ecuador (218), Venezuela (862)."
   ]
  },
  {
   "cell_type": "code",
   "execution_count": 23,
   "id": "a878e972",
   "metadata": {},
   "outputs": [],
   "source": [
    "X_train[\"Pays_ris\"]=0"
   ]
  },
  {
   "cell_type": "code",
   "execution_count": 24,
   "id": "ebbd7eee",
   "metadata": {},
   "outputs": [],
   "source": [
    "X_train[\"Pays_ris\"]=0\n",
    "#conditions = [X_train.Pays==36, X_train.Pays==76, X_train.Pays==792, X_train.Pays==356, X_train.Pays==188,\n",
    "#                                X_train.Pays==608, X_train.Pays==158, X_train.Pays==320, X_train.Pays==218, X_train.Pays==862]\n",
    "X_train['AUX1'] = np.where(np.logical_or(X_train.Pays==36, X_train.Pays==76, X_train.Pays==792)\n",
    "                               ,1, 0)\n",
    "X_train['AUX2'] = np.where(np.logical_or(X_train.Pays==356, X_train.Pays==188, X_train.Pays==608)\n",
    "                               ,1, 0)\n",
    "X_train['AUX3'] = np.where(np.logical_or(X_train.Pays==158, X_train.Pays==320, X_train.Pays==218)\n",
    "                               ,1, 0)\n",
    "X_train['AUX4'] = np.where(X_train.Pays==862,1,0)\n",
    "X_train['AUX12'] = np.where(np.logical_or(X_train.AUX1==1, X_train.AUX2==1)\n",
    "                               ,1, 0)\n",
    "X_train['Pays_ris'] = np.where(np.logical_or(X_train.AUX12==1, X_train.AUX3==1, X_train.AUX4==1)\n",
    "                               ,1, 0)\n",
    "X_train = X_train.drop(columns=[\"AUX1\",\"AUX2\", \"AUX3\", \"AUX4\", \"AUX12\",\"Pays\"])"
   ]
  },
  {
   "cell_type": "code",
   "execution_count": 25,
   "id": "805c9d4d",
   "metadata": {},
   "outputs": [],
   "source": [
    "X_test[\"Pays_ris\"]=0\n",
    "X_test['AUX1'] = np.where(np.logical_or(X_test.Pays==36, X_test.Pays==76, X_test.Pays==792)\n",
    "                               ,1, 0)\n",
    "X_test['AUX2'] = np.where(np.logical_or(X_test.Pays==356, X_test.Pays==188, X_test.Pays==608)\n",
    "                               ,1, 0)\n",
    "X_test['AUX3'] = np.where(np.logical_or(X_test.Pays==158, X_test.Pays==320, X_test.Pays==218)\n",
    "                               ,1, 0)\n",
    "X_test['AUX4'] = np.where(X_test.Pays==862,1,0)\n",
    "X_test['AUX12'] = np.where(np.logical_or(X_test.AUX1==1, X_test.AUX2==1)\n",
    "                               ,1, 0)\n",
    "X_test['Pays_ris'] = np.where(np.logical_or(X_test.AUX12==1, X_test.AUX3==1, X_test.AUX4==1)\n",
    "                               ,1, 0)\n",
    "X_test = X_test.drop(columns=[\"AUX1\",\"AUX2\", \"AUX3\", \"AUX4\", \"AUX12\",\"Pays\"])"
   ]
  },
  {
   "cell_type": "code",
   "execution_count": 26,
   "id": "6217b980",
   "metadata": {},
   "outputs": [
    {
     "data": {
      "text/plain": [
       "0.01768357894893561"
      ]
     },
     "execution_count": 26,
     "metadata": {},
     "output_type": "execute_result"
    }
   ],
   "source": [
    "sum(X_train[\"Pays_ris\"])/len(X_train)"
   ]
  },
  {
   "cell_type": "code",
   "execution_count": 27,
   "id": "9c83bde1",
   "metadata": {},
   "outputs": [
    {
     "data": {
      "text/plain": [
       "0.017190168775149815"
      ]
     },
     "execution_count": 27,
     "metadata": {},
     "output_type": "execute_result"
    }
   ],
   "source": [
    "sum(X_test[\"Pays_ris\"])/len(X_test)"
   ]
  },
  {
   "cell_type": "markdown",
   "id": "794f36e9",
   "metadata": {},
   "source": [
    "## Verifying if there are clusters in the hours of the day."
   ]
  },
  {
   "cell_type": "code",
   "execution_count": 28,
   "id": "cc9b4985",
   "metadata": {},
   "outputs": [
    {
     "data": {
      "text/html": [
       "<div>\n",
       "<style scoped>\n",
       "    .dataframe tbody tr th:only-of-type {\n",
       "        vertical-align: middle;\n",
       "    }\n",
       "\n",
       "    .dataframe tbody tr th {\n",
       "        vertical-align: top;\n",
       "    }\n",
       "\n",
       "    .dataframe thead th {\n",
       "        text-align: right;\n",
       "    }\n",
       "</style>\n",
       "<table border=\"1\" class=\"dataframe\">\n",
       "  <thead>\n",
       "    <tr style=\"text-align: right;\">\n",
       "      <th></th>\n",
       "      <th>fraude</th>\n",
       "    </tr>\n",
       "    <tr>\n",
       "      <th>Heure</th>\n",
       "      <th></th>\n",
       "    </tr>\n",
       "  </thead>\n",
       "  <tbody>\n",
       "    <tr>\n",
       "      <th>06</th>\n",
       "      <td>73</td>\n",
       "    </tr>\n",
       "    <tr>\n",
       "      <th>05</th>\n",
       "      <td>75</td>\n",
       "    </tr>\n",
       "    <tr>\n",
       "      <th>07</th>\n",
       "      <td>83</td>\n",
       "    </tr>\n",
       "    <tr>\n",
       "      <th>04</th>\n",
       "      <td>95</td>\n",
       "    </tr>\n",
       "    <tr>\n",
       "      <th>08</th>\n",
       "      <td>97</td>\n",
       "    </tr>\n",
       "    <tr>\n",
       "      <th>03</th>\n",
       "      <td>104</td>\n",
       "    </tr>\n",
       "    <tr>\n",
       "      <th>01</th>\n",
       "      <td>130</td>\n",
       "    </tr>\n",
       "    <tr>\n",
       "      <th>02</th>\n",
       "      <td>136</td>\n",
       "    </tr>\n",
       "    <tr>\n",
       "      <th>09</th>\n",
       "      <td>147</td>\n",
       "    </tr>\n",
       "    <tr>\n",
       "      <th>00</th>\n",
       "      <td>157</td>\n",
       "    </tr>\n",
       "    <tr>\n",
       "      <th>22</th>\n",
       "      <td>183</td>\n",
       "    </tr>\n",
       "    <tr>\n",
       "      <th>10</th>\n",
       "      <td>194</td>\n",
       "    </tr>\n",
       "    <tr>\n",
       "      <th>23</th>\n",
       "      <td>195</td>\n",
       "    </tr>\n",
       "    <tr>\n",
       "      <th>21</th>\n",
       "      <td>231</td>\n",
       "    </tr>\n",
       "    <tr>\n",
       "      <th>11</th>\n",
       "      <td>249</td>\n",
       "    </tr>\n",
       "    <tr>\n",
       "      <th>20</th>\n",
       "      <td>274</td>\n",
       "    </tr>\n",
       "    <tr>\n",
       "      <th>13</th>\n",
       "      <td>289</td>\n",
       "    </tr>\n",
       "    <tr>\n",
       "      <th>15</th>\n",
       "      <td>317</td>\n",
       "    </tr>\n",
       "    <tr>\n",
       "      <th>12</th>\n",
       "      <td>318</td>\n",
       "    </tr>\n",
       "    <tr>\n",
       "      <th>18</th>\n",
       "      <td>321</td>\n",
       "    </tr>\n",
       "    <tr>\n",
       "      <th>14</th>\n",
       "      <td>327</td>\n",
       "    </tr>\n",
       "    <tr>\n",
       "      <th>19</th>\n",
       "      <td>337</td>\n",
       "    </tr>\n",
       "    <tr>\n",
       "      <th>17</th>\n",
       "      <td>369</td>\n",
       "    </tr>\n",
       "    <tr>\n",
       "      <th>16</th>\n",
       "      <td>371</td>\n",
       "    </tr>\n",
       "  </tbody>\n",
       "</table>\n",
       "</div>"
      ],
      "text/plain": [
       "       fraude\n",
       "Heure        \n",
       "06         73\n",
       "05         75\n",
       "07         83\n",
       "04         95\n",
       "08         97\n",
       "03        104\n",
       "01        130\n",
       "02        136\n",
       "09        147\n",
       "00        157\n",
       "22        183\n",
       "10        194\n",
       "23        195\n",
       "21        231\n",
       "11        249\n",
       "20        274\n",
       "13        289\n",
       "15        317\n",
       "12        318\n",
       "18        321\n",
       "14        327\n",
       "19        337\n",
       "17        369\n",
       "16        371"
      ]
     },
     "execution_count": 28,
     "metadata": {},
     "output_type": "execute_result"
    }
   ],
   "source": [
    "sumh= train.groupby(\"Heure\").sum()[[\"fraude\"]]\n",
    "sumh.sort_values(by=\"fraude\")"
   ]
  },
  {
   "cell_type": "code",
   "execution_count": 29,
   "id": "999c326e",
   "metadata": {},
   "outputs": [],
   "source": [
    "counth = pd.Series(train[\"Heure\"]).value_counts()\n",
    "counth = pd.DataFrame(counth)\n",
    "counth = counth.rename(columns={\"Heure\":\"NTrans\"})"
   ]
  },
  {
   "cell_type": "code",
   "execution_count": 30,
   "id": "7ee24e18",
   "metadata": {},
   "outputs": [
    {
     "data": {
      "image/png": "[encoded data removed]",
      "text/plain": [
       "<Figure size 432x288 with 1 Axes>"
      ]
     },
     "metadata": {
      "needs_background": "light"
     },
     "output_type": "display_data"
    }
   ],
   "source": [
    "hmerged = pd.merge(counth, sumh, left_index=True, right_index=True)\n",
    "hmerged.reset_index(inplace=True)\n",
    "hmerged = hmerged.rename(columns={\"index\":\"Heure\"})\n",
    "hmerged[\"Fratio\"] = hmerged[\"fraude\"]/hmerged[\"NTrans\"]\n",
    "hmerged[\"Fratio\"].plot(kind = 'hist');"
   ]
  },
  {
   "cell_type": "code",
   "execution_count": 31,
   "id": "694563f8",
   "metadata": {},
   "outputs": [
    {
     "name": "stderr",
     "output_type": "stream",
     "text": [
      "D:\\Users\\alepi\\anaconda3\\lib\\site-packages\\sklearn\\cluster\\_kmeans.py:1332: UserWarning: KMeans is known to have a memory leak on Windows with MKL, when there are less chunks than available threads. You can avoid it by setting the environment variable OMP_NUM_THREADS=1.\n",
      "  warnings.warn(\n"
     ]
    },
    {
     "data": {
      "image/png": "[encoded data removed]",
      "text/plain": [
       "<Figure size 432x288 with 1 Axes>"
      ]
     },
     "metadata": {
      "needs_background": "light"
     },
     "output_type": "display_data"
    }
   ],
   "source": [
    "kmeans = KMeans(n_clusters=2, init='random', n_init=1000)\n",
    "hmerged['label'] = kmeans.fit_predict(hmerged[['Fratio']])\n",
    "ax = hmerged[hmerged['label']==0].plot.scatter(x='Fratio', y='label', s=50, color='white', edgecolor='black')\n",
    "hmerged[hmerged['label']==1].plot.scatter(x='Fratio', y='label', s=50, color='white', ax=ax, edgecolor='red')\n",
    "plt.scatter(kmeans.cluster_centers_.ravel(), [0.5]*len(kmeans.cluster_centers_), s=100, color='green', marker='*');"
   ]
  },
  {
   "cell_type": "code",
   "execution_count": 32,
   "id": "62a2eb09",
   "metadata": {},
   "outputs": [
    {
     "data": {
      "text/html": [
       "<div>\n",
       "<style scoped>\n",
       "    .dataframe tbody tr th:only-of-type {\n",
       "        vertical-align: middle;\n",
       "    }\n",
       "\n",
       "    .dataframe tbody tr th {\n",
       "        vertical-align: top;\n",
       "    }\n",
       "\n",
       "    .dataframe thead th {\n",
       "        text-align: right;\n",
       "    }\n",
       "</style>\n",
       "<table border=\"1\" class=\"dataframe\">\n",
       "  <thead>\n",
       "    <tr style=\"text-align: right;\">\n",
       "      <th></th>\n",
       "      <th>Heure</th>\n",
       "      <th>NTrans</th>\n",
       "      <th>fraude</th>\n",
       "      <th>Fratio</th>\n",
       "      <th>label</th>\n",
       "    </tr>\n",
       "  </thead>\n",
       "  <tbody>\n",
       "    <tr>\n",
       "      <th>9</th>\n",
       "      <td>19</td>\n",
       "      <td>40762</td>\n",
       "      <td>337</td>\n",
       "      <td>0.008268</td>\n",
       "      <td>1</td>\n",
       "    </tr>\n",
       "    <tr>\n",
       "      <th>11</th>\n",
       "      <td>20</td>\n",
       "      <td>30968</td>\n",
       "      <td>274</td>\n",
       "      <td>0.008848</td>\n",
       "      <td>1</td>\n",
       "    </tr>\n",
       "    <tr>\n",
       "      <th>12</th>\n",
       "      <td>21</td>\n",
       "      <td>28776</td>\n",
       "      <td>231</td>\n",
       "      <td>0.008028</td>\n",
       "      <td>1</td>\n",
       "    </tr>\n",
       "    <tr>\n",
       "      <th>15</th>\n",
       "      <td>23</td>\n",
       "      <td>21824</td>\n",
       "      <td>195</td>\n",
       "      <td>0.008935</td>\n",
       "      <td>1</td>\n",
       "    </tr>\n",
       "    <tr>\n",
       "      <th>16</th>\n",
       "      <td>00</td>\n",
       "      <td>16062</td>\n",
       "      <td>157</td>\n",
       "      <td>0.009775</td>\n",
       "      <td>1</td>\n",
       "    </tr>\n",
       "    <tr>\n",
       "      <th>18</th>\n",
       "      <td>01</td>\n",
       "      <td>12305</td>\n",
       "      <td>130</td>\n",
       "      <td>0.010565</td>\n",
       "      <td>1</td>\n",
       "    </tr>\n",
       "    <tr>\n",
       "      <th>19</th>\n",
       "      <td>02</td>\n",
       "      <td>10253</td>\n",
       "      <td>136</td>\n",
       "      <td>0.013264</td>\n",
       "      <td>1</td>\n",
       "    </tr>\n",
       "    <tr>\n",
       "      <th>20</th>\n",
       "      <td>03</td>\n",
       "      <td>8897</td>\n",
       "      <td>104</td>\n",
       "      <td>0.011689</td>\n",
       "      <td>1</td>\n",
       "    </tr>\n",
       "    <tr>\n",
       "      <th>21</th>\n",
       "      <td>04</td>\n",
       "      <td>8531</td>\n",
       "      <td>95</td>\n",
       "      <td>0.011136</td>\n",
       "      <td>1</td>\n",
       "    </tr>\n",
       "    <tr>\n",
       "      <th>22</th>\n",
       "      <td>06</td>\n",
       "      <td>8197</td>\n",
       "      <td>73</td>\n",
       "      <td>0.008906</td>\n",
       "      <td>1</td>\n",
       "    </tr>\n",
       "    <tr>\n",
       "      <th>23</th>\n",
       "      <td>05</td>\n",
       "      <td>7153</td>\n",
       "      <td>75</td>\n",
       "      <td>0.010485</td>\n",
       "      <td>1</td>\n",
       "    </tr>\n",
       "  </tbody>\n",
       "</table>\n",
       "</div>"
      ],
      "text/plain": [
       "   Heure  NTrans  fraude    Fratio  label\n",
       "9     19   40762     337  0.008268      1\n",
       "11    20   30968     274  0.008848      1\n",
       "12    21   28776     231  0.008028      1\n",
       "15    23   21824     195  0.008935      1\n",
       "16    00   16062     157  0.009775      1\n",
       "18    01   12305     130  0.010565      1\n",
       "19    02   10253     136  0.013264      1\n",
       "20    03    8897     104  0.011689      1\n",
       "21    04    8531      95  0.011136      1\n",
       "22    06    8197      73  0.008906      1\n",
       "23    05    7153      75  0.010485      1"
      ]
     },
     "execution_count": 32,
     "metadata": {},
     "output_type": "execute_result"
    }
   ],
   "source": [
    "hmerged[hmerged['label']==1]"
   ]
  },
  {
   "cell_type": "markdown",
   "id": "55811e00",
   "metadata": {},
   "source": [
    "Fraudes are more frequent during night hours even if it is possible that they are constant during the day and the thing which changes the most is the number of transactions during the day."
   ]
  },
  {
   "cell_type": "markdown",
   "id": "fd4c11d3",
   "metadata": {},
   "source": [
    "## Checking possible seasonalities."
   ]
  },
  {
   "cell_type": "code",
   "execution_count": 33,
   "id": "dd766442",
   "metadata": {},
   "outputs": [
    {
     "data": {
      "text/html": [
       "<div>\n",
       "<style scoped>\n",
       "    .dataframe tbody tr th:only-of-type {\n",
       "        vertical-align: middle;\n",
       "    }\n",
       "\n",
       "    .dataframe tbody tr th {\n",
       "        vertical-align: top;\n",
       "    }\n",
       "\n",
       "    .dataframe thead th {\n",
       "        text-align: right;\n",
       "    }\n",
       "</style>\n",
       "<table border=\"1\" class=\"dataframe\">\n",
       "  <thead>\n",
       "    <tr style=\"text-align: right;\">\n",
       "      <th></th>\n",
       "      <th>fraude</th>\n",
       "    </tr>\n",
       "    <tr>\n",
       "      <th>Month</th>\n",
       "      <th></th>\n",
       "    </tr>\n",
       "  </thead>\n",
       "  <tbody>\n",
       "    <tr>\n",
       "      <th>4</th>\n",
       "      <td>494</td>\n",
       "    </tr>\n",
       "    <tr>\n",
       "      <th>2</th>\n",
       "      <td>547</td>\n",
       "    </tr>\n",
       "    <tr>\n",
       "      <th>11</th>\n",
       "      <td>567</td>\n",
       "    </tr>\n",
       "    <tr>\n",
       "      <th>3</th>\n",
       "      <td>632</td>\n",
       "    </tr>\n",
       "    <tr>\n",
       "      <th>5</th>\n",
       "      <td>658</td>\n",
       "    </tr>\n",
       "    <tr>\n",
       "      <th>1</th>\n",
       "      <td>696</td>\n",
       "    </tr>\n",
       "    <tr>\n",
       "      <th>12</th>\n",
       "      <td>713</td>\n",
       "    </tr>\n",
       "    <tr>\n",
       "      <th>6</th>\n",
       "      <td>765</td>\n",
       "    </tr>\n",
       "  </tbody>\n",
       "</table>\n",
       "</div>"
      ],
      "text/plain": [
       "       fraude\n",
       "Month        \n",
       "4         494\n",
       "2         547\n",
       "11        567\n",
       "3         632\n",
       "5         658\n",
       "1         696\n",
       "12        713\n",
       "6         765"
      ]
     },
     "execution_count": 33,
     "metadata": {},
     "output_type": "execute_result"
    }
   ],
   "source": [
    "summ= train.groupby(\"Month\").sum()[[\"fraude\"]]\n",
    "summ.sort_values(by=\"fraude\")"
   ]
  },
  {
   "cell_type": "code",
   "execution_count": 34,
   "id": "ca1db424",
   "metadata": {},
   "outputs": [],
   "source": [
    "mcount = pd.Series(train[\"Month\"]).value_counts()\n",
    "mcount = pd.DataFrame(mcount)\n",
    "mcount = mcount.rename(columns={\"Month\":\"NTrans\"})"
   ]
  },
  {
   "cell_type": "code",
   "execution_count": 35,
   "id": "6daac7cf",
   "metadata": {},
   "outputs": [
    {
     "data": {
      "image/png": "[encoded data removed]",
      "text/plain": [
       "<Figure size 432x288 with 1 Axes>"
      ]
     },
     "metadata": {
      "needs_background": "light"
     },
     "output_type": "display_data"
    }
   ],
   "source": [
    "mmerged = pd.merge(mcount, summ, left_index=True, right_index=True)\n",
    "mmerged.reset_index(inplace=True)\n",
    "mmerged = mmerged.rename(columns={\"index\":\"Month\"})\n",
    "mmerged[\"Fratio\"] = mmerged[\"fraude\"]/mmerged[\"NTrans\"]\n",
    "mmerged[\"Fratio\"].plot(kind = 'hist');"
   ]
  },
  {
   "cell_type": "code",
   "execution_count": 36,
   "id": "6ee116ff",
   "metadata": {},
   "outputs": [
    {
     "name": "stderr",
     "output_type": "stream",
     "text": [
      "D:\\Users\\alepi\\anaconda3\\lib\\site-packages\\sklearn\\cluster\\_kmeans.py:1332: UserWarning: KMeans is known to have a memory leak on Windows with MKL, when there are less chunks than available threads. You can avoid it by setting the environment variable OMP_NUM_THREADS=1.\n",
      "  warnings.warn(\n"
     ]
    },
    {
     "data": {
      "image/png": "[encoded data removed]",
      "text/plain": [
       "<Figure size 432x288 with 1 Axes>"
      ]
     },
     "metadata": {
      "needs_background": "light"
     },
     "output_type": "display_data"
    }
   ],
   "source": [
    "kmeans = KMeans(n_clusters=2)\n",
    "mmerged['label'] = kmeans.fit_predict(mmerged[['Fratio']])\n",
    "ax = mmerged[mmerged['label']==0].plot.scatter(x='Fratio', y='label', s=50, color='white', edgecolor='black')\n",
    "mmerged[mmerged['label']==1].plot.scatter(x='Fratio', y='label', s=50, color='white', ax=ax, edgecolor='red')\n",
    "plt.scatter(kmeans.cluster_centers_.ravel(), [0.5]*len(kmeans.cluster_centers_), s=100, color='green', marker='*');"
   ]
  },
  {
   "cell_type": "code",
   "execution_count": 37,
   "id": "ec743e73",
   "metadata": {},
   "outputs": [
    {
     "data": {
      "text/html": [
       "<div>\n",
       "<style scoped>\n",
       "    .dataframe tbody tr th:only-of-type {\n",
       "        vertical-align: middle;\n",
       "    }\n",
       "\n",
       "    .dataframe tbody tr th {\n",
       "        vertical-align: top;\n",
       "    }\n",
       "\n",
       "    .dataframe thead th {\n",
       "        text-align: right;\n",
       "    }\n",
       "</style>\n",
       "<table border=\"1\" class=\"dataframe\">\n",
       "  <thead>\n",
       "    <tr style=\"text-align: right;\">\n",
       "      <th></th>\n",
       "      <th>Month</th>\n",
       "      <th>NTrans</th>\n",
       "      <th>fraude</th>\n",
       "      <th>Fratio</th>\n",
       "      <th>label</th>\n",
       "    </tr>\n",
       "  </thead>\n",
       "  <tbody>\n",
       "    <tr>\n",
       "      <th>0</th>\n",
       "      <td>5</td>\n",
       "      <td>119385</td>\n",
       "      <td>658</td>\n",
       "      <td>0.005512</td>\n",
       "      <td>1</td>\n",
       "    </tr>\n",
       "    <tr>\n",
       "      <th>1</th>\n",
       "      <td>4</td>\n",
       "      <td>114476</td>\n",
       "      <td>494</td>\n",
       "      <td>0.004315</td>\n",
       "      <td>1</td>\n",
       "    </tr>\n",
       "    <tr>\n",
       "      <th>5</th>\n",
       "      <td>2</td>\n",
       "      <td>95108</td>\n",
       "      <td>547</td>\n",
       "      <td>0.005751</td>\n",
       "      <td>1</td>\n",
       "    </tr>\n",
       "  </tbody>\n",
       "</table>\n",
       "</div>"
      ],
      "text/plain": [
       "   Month  NTrans  fraude    Fratio  label\n",
       "0      5  119385     658  0.005512      1\n",
       "1      4  114476     494  0.004315      1\n",
       "5      2   95108     547  0.005751      1"
      ]
     },
     "execution_count": 37,
     "metadata": {},
     "output_type": "execute_result"
    }
   ],
   "source": [
    "mmerged[mmerged['label']==1]"
   ]
  },
  {
   "cell_type": "code",
   "execution_count": 38,
   "id": "1553667c",
   "metadata": {},
   "outputs": [
    {
     "data": {
      "text/html": [
       "<div>\n",
       "<style scoped>\n",
       "    .dataframe tbody tr th:only-of-type {\n",
       "        vertical-align: middle;\n",
       "    }\n",
       "\n",
       "    .dataframe tbody tr th {\n",
       "        vertical-align: top;\n",
       "    }\n",
       "\n",
       "    .dataframe thead th {\n",
       "        text-align: right;\n",
       "    }\n",
       "</style>\n",
       "<table border=\"1\" class=\"dataframe\">\n",
       "  <thead>\n",
       "    <tr style=\"text-align: right;\">\n",
       "      <th></th>\n",
       "      <th>Month</th>\n",
       "      <th>NTrans</th>\n",
       "      <th>fraude</th>\n",
       "      <th>Fratio</th>\n",
       "      <th>label</th>\n",
       "    </tr>\n",
       "  </thead>\n",
       "  <tbody>\n",
       "    <tr>\n",
       "      <th>2</th>\n",
       "      <td>6</td>\n",
       "      <td>107873</td>\n",
       "      <td>765</td>\n",
       "      <td>0.007092</td>\n",
       "      <td>0</td>\n",
       "    </tr>\n",
       "    <tr>\n",
       "      <th>3</th>\n",
       "      <td>3</td>\n",
       "      <td>98329</td>\n",
       "      <td>632</td>\n",
       "      <td>0.006427</td>\n",
       "      <td>0</td>\n",
       "    </tr>\n",
       "    <tr>\n",
       "      <th>4</th>\n",
       "      <td>12</td>\n",
       "      <td>96043</td>\n",
       "      <td>713</td>\n",
       "      <td>0.007424</td>\n",
       "      <td>0</td>\n",
       "    </tr>\n",
       "    <tr>\n",
       "      <th>6</th>\n",
       "      <td>11</td>\n",
       "      <td>88441</td>\n",
       "      <td>567</td>\n",
       "      <td>0.006411</td>\n",
       "      <td>0</td>\n",
       "    </tr>\n",
       "    <tr>\n",
       "      <th>7</th>\n",
       "      <td>1</td>\n",
       "      <td>86347</td>\n",
       "      <td>696</td>\n",
       "      <td>0.008061</td>\n",
       "      <td>0</td>\n",
       "    </tr>\n",
       "  </tbody>\n",
       "</table>\n",
       "</div>"
      ],
      "text/plain": [
       "   Month  NTrans  fraude    Fratio  label\n",
       "2      6  107873     765  0.007092      0\n",
       "3      3   98329     632  0.006427      0\n",
       "4     12   96043     713  0.007424      0\n",
       "6     11   88441     567  0.006411      0\n",
       "7      1   86347     696  0.008061      0"
      ]
     },
     "execution_count": 38,
     "metadata": {},
     "output_type": "execute_result"
    }
   ],
   "source": [
    "mmerged[mmerged['label']==0]"
   ]
  },
  {
   "cell_type": "markdown",
   "id": "3620e45b",
   "metadata": {},
   "source": [
    "In this case I can't see a difference in frauds given the month."
   ]
  },
  {
   "cell_type": "markdown",
   "id": "e5dba2c8",
   "metadata": {},
   "source": [
    "## Modelisation"
   ]
  },
  {
   "cell_type": "code",
   "execution_count": 39,
   "id": "349c39e7",
   "metadata": {},
   "outputs": [],
   "source": [
    "X_train = X_train.drop(columns=[\"Heure\",\"Month\",\"Continent\"]) # Can be held eventually\n",
    "X_test = X_test.drop(columns=[\"Heure\",\"Month\", \"Continent\"]) # Can be held eventually"
   ]
  },
  {
   "cell_type": "markdown",
   "id": "10306f72",
   "metadata": {},
   "source": [
    "## Random Forest for base model"
   ]
  },
  {
   "cell_type": "code",
   "execution_count": 40,
   "id": "b0867a45",
   "metadata": {},
   "outputs": [],
   "source": [
    "from sklearn.model_selection import train_test_split\n",
    "from sklearn.ensemble import RandomForestClassifier\n",
    "from skopt import BayesSearchCV\n",
    "from skopt.space import Real, Integer,Categorical\n",
    "from timeit import default_timer as timer\n",
    "from sklearn.metrics import roc_curve, auc\n",
    "import matplotlib.pyplot as plt\n",
    "from sklearn.metrics import precision_recall_curve"
   ]
  },
  {
   "cell_type": "code",
   "execution_count": 41,
   "id": "3a00aac5",
   "metadata": {},
   "outputs": [],
   "source": [
    "# param_dict_bayes_RF = {\n",
    "#     'n_estimators' : Integer(10,200),\n",
    "#     'criterion': Categorical(['gini', 'entropy']), \n",
    "#     'max_depth': Integer(3,10),\n",
    "#     'bootstrap':Categorical([True,False])}\n",
    "\n",
    "# NB_ITER = 5\n",
    "\n",
    "# opt = BayesSearchCV(RandomForestClassifier(),param_dict_bayes_RF,n_iter=NB_ITER,cv=5,scoring = 'roc_auc')\n",
    "\n",
    "# start = timer()  \n",
    "# opt.fit(X_train, Y_train)\n",
    "# delais = timer()- start\n",
    "# best_param_opti_bayes = opt.best_params_\n",
    "# best_score_opti_bayes = opt.best_score_\n",
    "# all_result_opti_bayes = opt.cv_results_\n",
    "# print(\" #### RECHERCHE DES PARAMETRES OPTIMAUX POUR LE RANDOM FOREST #### \")\n",
    "# print(\" \\n Durée de recherche en seconde :\")\n",
    "# print(delais)\n",
    "# print(\"\\n Paramètres optimaux : \")\n",
    "# best_param_opti_bayes =opt.best_params_\n",
    "# print(best_param_opti_bayes)\n",
    "# best_score_opti_bayes = opt.best_score_\n",
    "# print(\"\\n Résultats  : \" + str(best_score_opti_bayes))"
   ]
  },
  {
   "cell_type": "code",
   "execution_count": 42,
   "id": "77128823",
   "metadata": {},
   "outputs": [],
   "source": [
    "# rf_clf = RandomForestClassifier(**opt.best_params_)\n",
    "\n",
    "# rf_clf.fit(X_train,Y_train)\n",
    "\n",
    "# #Calcul des métriques\n",
    "\n",
    "# fpr_train_RF, tpr_train_RF, thresholds_train_RF = roc_curve(Y_train, rf_clf.predict_proba(X_train)[:,1])\n",
    "# roc_auc_train_RF = auc(fpr_train_RF, tpr_train_RF)\n",
    "\n",
    "# fpr_test_RF, tpr_test_RF, thresholds_test_RF = roc_curve(Y_test, rf_clf.predict_proba(X_test)[:,1])\n",
    "# roc_auc_test_RF = auc(fpr_test_RF, tpr_test_RF)\n",
    "\n",
    "# plt.figure()\n",
    "# lw = 2\n",
    "# plt.plot(fpr_train_RF, tpr_train_RF, color='darkorange',\n",
    "#          lw=lw, label='Train -RF - ROC curve (area = %0.2f)' % roc_auc_train_RF)\n",
    "# plt.plot(fpr_test_RF, tpr_test_RF, color='darkblue',\n",
    "#          lw=lw, label='Test -RF - ROC curve (area = %0.2f)' % roc_auc_test_RF)\n",
    "\n",
    "# plt.plot([0, 1], [0, 1], color='navy', lw=lw, linestyle='--')\n",
    "# plt.xlim([0.0, 1.0])\n",
    "# plt.ylim([0.0, 1.05])\n",
    "# plt.xlabel('False Positive Rate')\n",
    "# plt.ylabel('True Positive Rate')\n",
    "# plt.title('Comparaison courve ROC Train ')\n",
    "# plt.legend(loc=\"lower right\")\n",
    "# plt.show()\n",
    "\n",
    "\n",
    "\n",
    "# ### COURBES PRECISION RAPPEL\n",
    "\n",
    "# precision_train_RF, recall_train_RF, thresholds_train_RF = precision_recall_curve(Y_train,\n",
    "#                                                                          rf_clf.predict_proba(X_train)[:,1])\n",
    "\n",
    "# precision_test_RF, recall_test_RF, thresholds_test_RF = precision_recall_curve(Y_test,\n",
    "#                                                                          rf_clf.predict_proba(X_test)[:,1])\n",
    "\n",
    "# plt.figure()\n",
    "# lw = 2\n",
    "# plt.plot(recall_train_RF,precision_train_RF, color='darkorange',\n",
    "#          lw=lw, label='Train - RF')\n",
    "# plt.plot(recall_test_RF,precision_test_RF, color='darkblue',\n",
    "#          lw=lw, label='Test - RF')\n",
    "# plt.xlim([0.0, 1.0])\n",
    "# plt.ylim([0.0, 1.05])\n",
    "# plt.xlabel('Recall')\n",
    "# plt.ylabel('Precision')\n",
    "# plt.title('Comparaison courbe PRECISION / RAPPEL')\n",
    "# plt.legend(loc=\"lower left\")\n",
    "# plt.show()"
   ]
  },
  {
   "cell_type": "code",
   "execution_count": 43,
   "id": "bba4df34",
   "metadata": {},
   "outputs": [],
   "source": [
    "# importance_variable_rf = pd.DataFrame()\n",
    "# importance_variable_rf[\"Variable\"]= X_train.columns.tolist()\n",
    "# importance_variable_rf[\"Feature Importance\"] = rf_clf.feature_importances_\n",
    "\n",
    "# importance_variable_rf.sort_values(by = \"Feature Importance\", axis=0, ascending=False, inplace=True)\n",
    "\n",
    "# print(\"Les 10 variables les plus importantes : \\n\")\n",
    "# importance_variable_rf.head(10)"
   ]
  },
  {
   "cell_type": "markdown",
   "id": "c6dcc550",
   "metadata": {},
   "source": [
    "### Without country risk"
   ]
  },
  {
   "cell_type": "code",
   "execution_count": 48,
   "id": "e9d0ecdd",
   "metadata": {},
   "outputs": [],
   "source": [
    "X_train2 = X_train.drop(columns=[\"Pays_ris\"]) # Can be held eventually\n",
    "X_test2 = X_test.drop(columns=[\"Pays_ris\"]) # Can be held eventually"
   ]
  },
  {
   "cell_type": "code",
   "execution_count": 49,
   "id": "0619fc91",
   "metadata": {},
   "outputs": [
    {
     "name": "stdout",
     "output_type": "stream",
     "text": [
      " #### RECHERCHE DES PARAMETRES OPTIMAUX POUR LE RANDOM FOREST #### \n",
      " \n",
      " Durée de recherche en seconde :\n",
      "2337.3084000999997\n",
      "\n",
      " Paramètres optimaux : \n",
      "OrderedDict([('bootstrap', False), ('criterion', 'entropy'), ('max_depth', 8), ('n_estimators', 161)])\n",
      "\n",
      " Résultats  : 0.8118506437929076\n"
     ]
    }
   ],
   "source": [
    "param_dict_bayes_RF = {\n",
    "    'n_estimators' : Integer(10,200),\n",
    "    'criterion': Categorical(['gini', 'entropy']), \n",
    "    'max_depth': Integer(3,10),\n",
    "    'bootstrap':Categorical([True,False])}\n",
    "\n",
    "NB_ITER = 5\n",
    "\n",
    "opt = BayesSearchCV(RandomForestClassifier(),param_dict_bayes_RF,n_iter=NB_ITER,cv=5,scoring = 'roc_auc')\n",
    "\n",
    "start = timer()  \n",
    "opt.fit(X_train2, Y_train)\n",
    "delais = timer()- start\n",
    "best_param_opti_bayes = opt.best_params_\n",
    "best_score_opti_bayes = opt.best_score_\n",
    "all_result_opti_bayes = opt.cv_results_\n",
    "print(\" #### RECHERCHE DES PARAMETRES OPTIMAUX POUR LE RANDOM FOREST #### \")\n",
    "print(\" \\n Durée de recherche en seconde :\")\n",
    "print(delais)\n",
    "print(\"\\n Paramètres optimaux : \")\n",
    "best_param_opti_bayes =opt.best_params_\n",
    "print(best_param_opti_bayes)\n",
    "best_score_opti_bayes = opt.best_score_\n",
    "print(\"\\n Résultats  : \" + str(best_score_opti_bayes))"
   ]
  },
  {
   "cell_type": "code",
   "execution_count": 50,
   "id": "3e306fc6",
   "metadata": {},
   "outputs": [
    {
     "data": {
      "image/png": "[encoded data removed]",
      "text/plain": [
       "<Figure size 432x288 with 1 Axes>"
      ]
     },
     "metadata": {
      "needs_background": "light"
     },
     "output_type": "display_data"
    },
    {
     "data": {
      "image/png": "[encoded data removed]",
      "text/plain": [
       "<Figure size 432x288 with 1 Axes>"
      ]
     },
     "metadata": {
      "needs_background": "light"
     },
     "output_type": "display_data"
    }
   ],
   "source": [
    "rf_clf = RandomForestClassifier(**opt.best_params_)\n",
    "\n",
    "rf_clf.fit(X_train2,Y_train)\n",
    "\n",
    "#Calcul des métriques\n",
    "\n",
    "fpr_train_RF, tpr_train_RF, thresholds_train_RF = roc_curve(Y_train, rf_clf.predict_proba(X_train2)[:,1])\n",
    "roc_auc_train_RF = auc(fpr_train_RF, tpr_train_RF)\n",
    "\n",
    "fpr_test_RF, tpr_test_RF, thresholds_test_RF = roc_curve(Y_test, rf_clf.predict_proba(X_test2)[:,1])\n",
    "roc_auc_test_RF = auc(fpr_test_RF, tpr_test_RF)\n",
    "\n",
    "plt.figure()\n",
    "lw = 2\n",
    "plt.plot(fpr_train_RF, tpr_train_RF, color='darkorange',\n",
    "         lw=lw, label='Train -RF - ROC curve (area = %0.2f)' % roc_auc_train_RF)\n",
    "plt.plot(fpr_test_RF, tpr_test_RF, color='darkblue',\n",
    "         lw=lw, label='Test -RF - ROC curve (area = %0.2f)' % roc_auc_test_RF)\n",
    "\n",
    "plt.plot([0, 1], [0, 1], color='navy', lw=lw, linestyle='--')\n",
    "plt.xlim([0.0, 1.0])\n",
    "plt.ylim([0.0, 1.05])\n",
    "plt.xlabel('False Positive Rate')\n",
    "plt.ylabel('True Positive Rate')\n",
    "plt.title('Comparaison courve ROC Train ')\n",
    "plt.legend(loc=\"lower right\")\n",
    "plt.show()\n",
    "\n",
    "\n",
    "\n",
    "### COURBES PRECISION RAPPEL\n",
    "\n",
    "precision_train_RF, recall_train_RF, thresholds_train_RF = precision_recall_curve(Y_train,\n",
    "                                                                         rf_clf.predict_proba(X_train2)[:,1])\n",
    "\n",
    "precision_test_RF, recall_test_RF, thresholds_test_RF = precision_recall_curve(Y_test,\n",
    "                                                                         rf_clf.predict_proba(X_test2)[:,1])\n",
    "\n",
    "plt.figure()\n",
    "lw = 2\n",
    "plt.plot(recall_train_RF,precision_train_RF, color='darkorange',\n",
    "         lw=lw, label='Train - RF')\n",
    "plt.plot(recall_test_RF,precision_test_RF, color='darkblue',\n",
    "         lw=lw, label='Test - RF')\n",
    "plt.xlim([0.0, 1.0])\n",
    "plt.ylim([0.0, 1.05])\n",
    "plt.xlabel('Recall')\n",
    "plt.ylabel('Precision')\n",
    "plt.title('Comparaison courbe PRECISION / RAPPEL')\n",
    "plt.legend(loc=\"lower left\")\n",
    "plt.show()"
   ]
  },
  {
   "cell_type": "code",
   "execution_count": 53,
   "id": "35dd4366",
   "metadata": {},
   "outputs": [
    {
     "name": "stdout",
     "output_type": "stream",
     "text": [
      "Les 10 variables les plus importantes : \n",
      "\n"
     ]
    },
    {
     "data": {
      "text/html": [
       "<div>\n",
       "<style scoped>\n",
       "    .dataframe tbody tr th:only-of-type {\n",
       "        vertical-align: middle;\n",
       "    }\n",
       "\n",
       "    .dataframe tbody tr th {\n",
       "        vertical-align: top;\n",
       "    }\n",
       "\n",
       "    .dataframe thead th {\n",
       "        text-align: right;\n",
       "    }\n",
       "</style>\n",
       "<table border=\"1\" class=\"dataframe\">\n",
       "  <thead>\n",
       "    <tr style=\"text-align: right;\">\n",
       "      <th></th>\n",
       "      <th>Variable</th>\n",
       "      <th>Feature Importance</th>\n",
       "    </tr>\n",
       "  </thead>\n",
       "  <tbody>\n",
       "    <tr>\n",
       "      <th>5</th>\n",
       "      <td>FM_Velocity_Condition_24</td>\n",
       "      <td>0.148670</td>\n",
       "    </tr>\n",
       "    <tr>\n",
       "      <th>9</th>\n",
       "      <td>FM_Sum_24</td>\n",
       "      <td>0.142235</td>\n",
       "    </tr>\n",
       "    <tr>\n",
       "      <th>4</th>\n",
       "      <td>FM_Velocity_Condition_12</td>\n",
       "      <td>0.104916</td>\n",
       "    </tr>\n",
       "    <tr>\n",
       "      <th>8</th>\n",
       "      <td>FM_Sum_12</td>\n",
       "      <td>0.102081</td>\n",
       "    </tr>\n",
       "    <tr>\n",
       "      <th>3</th>\n",
       "      <td>FM_Velocity_Condition_6</td>\n",
       "      <td>0.077726</td>\n",
       "    </tr>\n",
       "    <tr>\n",
       "      <th>7</th>\n",
       "      <td>FM_Sum_6</td>\n",
       "      <td>0.065147</td>\n",
       "    </tr>\n",
       "    <tr>\n",
       "      <th>2</th>\n",
       "      <td>FM_Velocity_Condition_3</td>\n",
       "      <td>0.057726</td>\n",
       "    </tr>\n",
       "    <tr>\n",
       "      <th>18</th>\n",
       "      <td>FD</td>\n",
       "      <td>0.041825</td>\n",
       "    </tr>\n",
       "    <tr>\n",
       "      <th>1</th>\n",
       "      <td>Montant</td>\n",
       "      <td>0.041258</td>\n",
       "    </tr>\n",
       "    <tr>\n",
       "      <th>6</th>\n",
       "      <td>FM_Sum_3</td>\n",
       "      <td>0.036072</td>\n",
       "    </tr>\n",
       "  </tbody>\n",
       "</table>\n",
       "</div>"
      ],
      "text/plain": [
       "                    Variable  Feature Importance\n",
       "5   FM_Velocity_Condition_24            0.148670\n",
       "9                  FM_Sum_24            0.142235\n",
       "4   FM_Velocity_Condition_12            0.104916\n",
       "8                  FM_Sum_12            0.102081\n",
       "3    FM_Velocity_Condition_6            0.077726\n",
       "7                   FM_Sum_6            0.065147\n",
       "2    FM_Velocity_Condition_3            0.057726\n",
       "18                        FD            0.041825\n",
       "1                    Montant            0.041258\n",
       "6                   FM_Sum_3            0.036072"
      ]
     },
     "execution_count": 53,
     "metadata": {},
     "output_type": "execute_result"
    }
   ],
   "source": [
    "importance_variable_rf = pd.DataFrame()\n",
    "importance_variable_rf[\"Variable\"]= X_train2.columns.tolist()\n",
    "importance_variable_rf[\"Feature Importance\"] = rf_clf.feature_importances_\n",
    "\n",
    "importance_variable_rf.sort_values(by = \"Feature Importance\", axis=0, ascending=False, inplace=True)\n",
    "\n",
    "print(\"Les 10 variables les plus importantes : \\n\")\n",
    "importance_variable_rf.head(10)"
   ]
  },
  {
   "cell_type": "code",
   "execution_count": 51,
   "id": "62cc7210",
   "metadata": {
    "scrolled": true
   },
   "outputs": [
    {
     "data": {
      "text/plain": [
       "<Figure size 504x504 with 0 Axes>"
      ]
     },
     "metadata": {},
     "output_type": "display_data"
    },
    {
     "data": {
      "image/png": "[encoded data removed]",
      "text/plain": [
       "<Figure size 432x288 with 1 Axes>"
      ]
     },
     "metadata": {
      "needs_background": "light"
     },
     "output_type": "display_data"
    }
   ],
   "source": [
    "plt.figure(figsize=(7,7))\n",
    "Y_predict_proba = rf_clf.predict_proba(X_test2)\n",
    "skplt.metrics.plot_lift_curve(Y_test,Y_predict_proba  )\n",
    "plt.show()\n",
    "plt.show()"
   ]
  },
  {
   "cell_type": "code",
   "execution_count": 54,
   "id": "7bec0855",
   "metadata": {},
   "outputs": [
    {
     "data": {
      "text/html": [
       "<div>\n",
       "<style scoped>\n",
       "    .dataframe tbody tr th:only-of-type {\n",
       "        vertical-align: middle;\n",
       "    }\n",
       "\n",
       "    .dataframe tbody tr th {\n",
       "        vertical-align: top;\n",
       "    }\n",
       "\n",
       "    .dataframe thead th {\n",
       "        text-align: right;\n",
       "    }\n",
       "</style>\n",
       "<table border=\"1\" class=\"dataframe\">\n",
       "  <thead>\n",
       "    <tr style=\"text-align: right;\">\n",
       "      <th></th>\n",
       "      <th>Target</th>\n",
       "      <th>Proba_target</th>\n",
       "      <th>QuantileRank</th>\n",
       "    </tr>\n",
       "  </thead>\n",
       "  <tbody>\n",
       "    <tr>\n",
       "      <th>999600</th>\n",
       "      <td>1</td>\n",
       "      <td>0.738188</td>\n",
       "      <td>4</td>\n",
       "    </tr>\n",
       "    <tr>\n",
       "      <th>999601</th>\n",
       "      <td>1</td>\n",
       "      <td>0.730752</td>\n",
       "      <td>4</td>\n",
       "    </tr>\n",
       "    <tr>\n",
       "      <th>999608</th>\n",
       "      <td>1</td>\n",
       "      <td>0.721582</td>\n",
       "      <td>4</td>\n",
       "    </tr>\n",
       "    <tr>\n",
       "      <th>472787</th>\n",
       "      <td>1</td>\n",
       "      <td>0.712127</td>\n",
       "      <td>4</td>\n",
       "    </tr>\n",
       "    <tr>\n",
       "      <th>1110464</th>\n",
       "      <td>1</td>\n",
       "      <td>0.711481</td>\n",
       "      <td>4</td>\n",
       "    </tr>\n",
       "    <tr>\n",
       "      <th>472779</th>\n",
       "      <td>1</td>\n",
       "      <td>0.711332</td>\n",
       "      <td>4</td>\n",
       "    </tr>\n",
       "    <tr>\n",
       "      <th>999611</th>\n",
       "      <td>1</td>\n",
       "      <td>0.708912</td>\n",
       "      <td>4</td>\n",
       "    </tr>\n",
       "  </tbody>\n",
       "</table>\n",
       "</div>"
      ],
      "text/plain": [
       "         Target  Proba_target  QuantileRank\n",
       "999600        1      0.738188             4\n",
       "999601        1      0.730752             4\n",
       "999608        1      0.721582             4\n",
       "472787        1      0.712127             4\n",
       "1110464       1      0.711481             4\n",
       "472779        1      0.711332             4\n",
       "999611        1      0.708912             4"
      ]
     },
     "execution_count": 54,
     "metadata": {},
     "output_type": "execute_result"
    }
   ],
   "source": [
    "res_modele=pd.DataFrame()\n",
    "res_modele[\"Target\"]=Y_test\n",
    "res_modele[\"Proba_target\"]=rf_clf.predict_proba(X_test2)[:,1]\n",
    "\n",
    "res_modele.sort_values(by =[\"Proba_target\"], inplace = True,ascending=False)\n",
    "\n",
    "res_modele['QuantileRank']= pd.qcut(res_modele[\"Proba_target\"], q = 5, labels = False)\n",
    "res_modele.head(7)"
   ]
  },
  {
   "cell_type": "code",
   "execution_count": 55,
   "id": "92cee9a8",
   "metadata": {},
   "outputs": [
    {
     "name": "stdout",
     "output_type": "stream",
     "text": [
      "               sum  count\n",
      "QuantileRank             \n",
      "4             1538  69067\n",
      "3              216  67663\n",
      "2              126  51408\n",
      "1              153  74471\n",
      "0              141  82821\n"
     ]
    }
   ],
   "source": [
    "agg_tmp=pd.DataFrame(res_modele.groupby('QuantileRank')['Target'].agg(['sum','count']))\n",
    "\n",
    "agg_tmp.sort_values(by =[\"QuantileRank\"], inplace = True,ascending=False)\n",
    "\n",
    "print(agg_tmp)"
   ]
  },
  {
   "cell_type": "code",
   "execution_count": 56,
   "id": "86afd5b9",
   "metadata": {},
   "outputs": [
    {
     "name": "stdout",
     "output_type": "stream",
     "text": [
      "               sum  count  Precision  Proba_alatoire      lift  \\\n",
      "QuantileRank                                                     \n",
      "4             1538  69067   0.022268        0.006294  3.538232   \n",
      "3              216  67663   0.003192        0.006294  0.507228   \n",
      "2              126  51408   0.002451        0.006294  0.389440   \n",
      "1              153  74471   0.002054        0.006294  0.326441   \n",
      "0              141  82821   0.001702        0.006294  0.270507   \n",
      "\n",
      "              Part population cible  Part population  \n",
      "QuantileRank                                          \n",
      "4                          0.707452         0.199945  \n",
      "3                          0.099356         0.195880  \n",
      "2                          0.057958         0.148823  \n",
      "1                          0.070377         0.215589  \n",
      "0                          0.064857         0.239762  \n"
     ]
    }
   ],
   "source": [
    "agg_tmp[\"Precision\"] = agg_tmp[\"sum\"]/agg_tmp[\"count\"]\n",
    "agg_tmp[\"Proba_alatoire\"]= Y_test.mean()\n",
    "agg_tmp[\"lift\"]=agg_tmp[\"Precision\"]/agg_tmp[\"Proba_alatoire\"]\n",
    "agg_tmp[\"Part population cible\"]=agg_tmp[\"sum\"]/Y_test.sum()\n",
    "agg_tmp[\"Part population\"]=agg_tmp[\"count\"]/Y_test.count()\n",
    "print(agg_tmp)"
   ]
  },
  {
   "cell_type": "markdown",
   "id": "e8289632",
   "metadata": {},
   "source": [
    "### Trying resampling techniques"
   ]
  },
  {
   "cell_type": "code",
   "execution_count": 57,
   "id": "b10724e9",
   "metadata": {},
   "outputs": [],
   "source": [
    "from imblearn.over_sampling import SMOTE\n",
    "from collections import Counter"
   ]
  },
  {
   "cell_type": "code",
   "execution_count": 58,
   "id": "7884bb01",
   "metadata": {},
   "outputs": [
    {
     "name": "stdout",
     "output_type": "stream",
     "text": [
      "Training target statistics: Counter({0: 800930, 1: 800930})\n",
      "Testing target statistics: Counter({0: 343256, 1: 2174})\n"
     ]
    }
   ],
   "source": [
    "over_sampler = SMOTE(k_neighbors=2)\n",
    "X_res, Y_res = over_sampler.fit_resample(X_train2, Y_train)\n",
    "print(f\"Training target statistics: {Counter(Y_res)}\")\n",
    "print(f\"Testing target statistics: {Counter(Y_test)}\")"
   ]
  },
  {
   "cell_type": "code",
   "execution_count": 59,
   "id": "5a4d7377",
   "metadata": {},
   "outputs": [
    {
     "name": "stdout",
     "output_type": "stream",
     "text": [
      " #### RECHERCHE DES PARAMETRES OPTIMAUX POUR LE RANDOM FOREST #### \n",
      " \n",
      " Durée de recherche en seconde :\n",
      "6453.647114800001\n",
      "\n",
      " Paramètres optimaux : \n",
      "OrderedDict([('bootstrap', False), ('criterion', 'gini'), ('max_depth', 6), ('n_estimators', 164)])\n",
      "\n",
      " Résultats  : 0.8595681674512882\n"
     ]
    }
   ],
   "source": [
    "param_dict_bayes_RF = {\n",
    "    'n_estimators' : Integer(10,200),\n",
    "    'criterion': Categorical(['gini', 'entropy']), \n",
    "    'max_depth': Integer(3,10),\n",
    "    'bootstrap':Categorical([True,False])}\n",
    "\n",
    "NB_ITER = 5\n",
    "\n",
    "opt = BayesSearchCV(RandomForestClassifier(),param_dict_bayes_RF,n_iter=NB_ITER,cv=5,scoring = 'roc_auc')\n",
    "\n",
    "start = timer()  \n",
    "opt.fit(X_res, Y_res)\n",
    "delais = timer()- start\n",
    "best_param_opti_bayes = opt.best_params_\n",
    "best_score_opti_bayes = opt.best_score_\n",
    "all_result_opti_bayes = opt.cv_results_\n",
    "print(\" #### RECHERCHE DES PARAMETRES OPTIMAUX POUR LE RANDOM FOREST #### \")\n",
    "print(\" \\n Durée de recherche en seconde :\")\n",
    "print(delais)\n",
    "print(\"\\n Paramètres optimaux : \")\n",
    "best_param_opti_bayes =opt.best_params_\n",
    "print(best_param_opti_bayes)\n",
    "best_score_opti_bayes = opt.best_score_\n",
    "print(\"\\n Résultats  : \" + str(best_score_opti_bayes))"
   ]
  },
  {
   "cell_type": "code",
   "execution_count": 60,
   "id": "5545bfbc",
   "metadata": {},
   "outputs": [
    {
     "data": {
      "image/png": "[encoded data removed]",
      "text/plain": [
       "<Figure size 432x288 with 1 Axes>"
      ]
     },
     "metadata": {
      "needs_background": "light"
     },
     "output_type": "display_data"
    },
    {
     "data": {
      "image/png": "[encoded data removed]",
      "text/plain": [
       "<Figure size 432x288 with 1 Axes>"
      ]
     },
     "metadata": {
      "needs_background": "light"
     },
     "output_type": "display_data"
    }
   ],
   "source": [
    "rf_clf = RandomForestClassifier(**opt.best_params_)\n",
    "# rf_clf = RandomForestClassifier(bootstrap=True, criterion = \"entropy\", max_depth=8,n_estimators=199)\n",
    "rf_clf.fit(X_res,Y_res)\n",
    "\n",
    "#Calcul des métriques\n",
    "\n",
    "fpr_train_RF, tpr_train_RF, thresholds_train_RF = roc_curve(Y_res, rf_clf.predict_proba(X_res)[:,1])\n",
    "roc_auc_train_RF = auc(fpr_train_RF, tpr_train_RF)\n",
    "\n",
    "fpr_test_RF, tpr_test_RF, thresholds_test_RF = roc_curve(Y_test, rf_clf.predict_proba(X_test2)[:,1])\n",
    "roc_auc_test_RF = auc(fpr_test_RF, tpr_test_RF)\n",
    "\n",
    "plt.figure()\n",
    "lw = 2\n",
    "plt.plot(fpr_train_RF, tpr_train_RF, color='darkorange',\n",
    "         lw=lw, label='Train -RF - ROC curve (area = %0.2f)' % roc_auc_train_RF)\n",
    "plt.plot(fpr_test_RF, tpr_test_RF, color='darkblue',\n",
    "         lw=lw, label='Test -RF - ROC curve (area = %0.2f)' % roc_auc_test_RF)\n",
    "\n",
    "plt.plot([0, 1], [0, 1], color='navy', lw=lw, linestyle='--')\n",
    "plt.xlim([0.0, 1.0])\n",
    "plt.ylim([0.0, 1.05])\n",
    "plt.xlabel('False Positive Rate')\n",
    "plt.ylabel('True Positive Rate')\n",
    "plt.title('Comparaison courve ROC Train ')\n",
    "plt.legend(loc=\"lower right\")\n",
    "plt.show()\n",
    "\n",
    "\n",
    "\n",
    "### COURBES PRECISION RAPPEL\n",
    "\n",
    "precision_train_RF, recall_train_RF, thresholds_train_RF = precision_recall_curve(Y_res,\n",
    "                                                                         rf_clf.predict_proba(X_res)[:,1])\n",
    "\n",
    "precision_test_RF, recall_test_RF, thresholds_test_RF = precision_recall_curve(Y_test,\n",
    "                                                                         rf_clf.predict_proba(X_test2)[:,1])\n",
    "\n",
    "plt.figure()\n",
    "lw = 2\n",
    "plt.plot(recall_train_RF,precision_train_RF, color='darkorange',\n",
    "         lw=lw, label='Train - RF')\n",
    "plt.plot(recall_test_RF,precision_test_RF, color='darkblue',\n",
    "         lw=lw, label='Test - RF')\n",
    "plt.xlim([0.0, 1.0])\n",
    "plt.ylim([0.0, 1.05])\n",
    "plt.xlabel('Recall')\n",
    "plt.ylabel('Precision')\n",
    "plt.title('Comparaison courbe PRECISION / RAPPEL')\n",
    "plt.legend(loc=\"lower left\")\n",
    "plt.show()"
   ]
  },
  {
   "cell_type": "code",
   "execution_count": 61,
   "id": "9427fdb2",
   "metadata": {},
   "outputs": [
    {
     "name": "stdout",
     "output_type": "stream",
     "text": [
      "Les 10 variables les plus importantes : \n",
      "\n"
     ]
    },
    {
     "data": {
      "text/html": [
       "<div>\n",
       "<style scoped>\n",
       "    .dataframe tbody tr th:only-of-type {\n",
       "        vertical-align: middle;\n",
       "    }\n",
       "\n",
       "    .dataframe tbody tr th {\n",
       "        vertical-align: top;\n",
       "    }\n",
       "\n",
       "    .dataframe thead th {\n",
       "        text-align: right;\n",
       "    }\n",
       "</style>\n",
       "<table border=\"1\" class=\"dataframe\">\n",
       "  <thead>\n",
       "    <tr style=\"text-align: right;\">\n",
       "      <th></th>\n",
       "      <th>Variable</th>\n",
       "      <th>Feature Importance</th>\n",
       "    </tr>\n",
       "  </thead>\n",
       "  <tbody>\n",
       "    <tr>\n",
       "      <th>9</th>\n",
       "      <td>FM_Sum_24</td>\n",
       "      <td>0.204222</td>\n",
       "    </tr>\n",
       "    <tr>\n",
       "      <th>18</th>\n",
       "      <td>FD</td>\n",
       "      <td>0.125505</td>\n",
       "    </tr>\n",
       "    <tr>\n",
       "      <th>0</th>\n",
       "      <td>CodeRep</td>\n",
       "      <td>0.109439</td>\n",
       "    </tr>\n",
       "    <tr>\n",
       "      <th>8</th>\n",
       "      <td>FM_Sum_12</td>\n",
       "      <td>0.105540</td>\n",
       "    </tr>\n",
       "    <tr>\n",
       "      <th>7</th>\n",
       "      <td>FM_Sum_6</td>\n",
       "      <td>0.099255</td>\n",
       "    </tr>\n",
       "    <tr>\n",
       "      <th>5</th>\n",
       "      <td>FM_Velocity_Condition_24</td>\n",
       "      <td>0.087581</td>\n",
       "    </tr>\n",
       "    <tr>\n",
       "      <th>3</th>\n",
       "      <td>FM_Velocity_Condition_6</td>\n",
       "      <td>0.054700</td>\n",
       "    </tr>\n",
       "    <tr>\n",
       "      <th>4</th>\n",
       "      <td>FM_Velocity_Condition_12</td>\n",
       "      <td>0.051976</td>\n",
       "    </tr>\n",
       "    <tr>\n",
       "      <th>6</th>\n",
       "      <td>FM_Sum_3</td>\n",
       "      <td>0.049370</td>\n",
       "    </tr>\n",
       "    <tr>\n",
       "      <th>2</th>\n",
       "      <td>FM_Velocity_Condition_3</td>\n",
       "      <td>0.044271</td>\n",
       "    </tr>\n",
       "  </tbody>\n",
       "</table>\n",
       "</div>"
      ],
      "text/plain": [
       "                    Variable  Feature Importance\n",
       "9                  FM_Sum_24            0.204222\n",
       "18                        FD            0.125505\n",
       "0                    CodeRep            0.109439\n",
       "8                  FM_Sum_12            0.105540\n",
       "7                   FM_Sum_6            0.099255\n",
       "5   FM_Velocity_Condition_24            0.087581\n",
       "3    FM_Velocity_Condition_6            0.054700\n",
       "4   FM_Velocity_Condition_12            0.051976\n",
       "6                   FM_Sum_3            0.049370\n",
       "2    FM_Velocity_Condition_3            0.044271"
      ]
     },
     "execution_count": 61,
     "metadata": {},
     "output_type": "execute_result"
    }
   ],
   "source": [
    "importance_variable_rf = pd.DataFrame()\n",
    "importance_variable_rf[\"Variable\"]= X_res.columns.tolist()\n",
    "importance_variable_rf[\"Feature Importance\"] = rf_clf.feature_importances_\n",
    "\n",
    "importance_variable_rf.sort_values(by = \"Feature Importance\", axis=0, ascending=False, inplace=True)\n",
    "\n",
    "print(\"Les 10 variables les plus importantes : \\n\")\n",
    "importance_variable_rf.head(10)"
   ]
  },
  {
   "cell_type": "code",
   "execution_count": 48,
   "id": "2fada034",
   "metadata": {},
   "outputs": [
    {
     "data": {
      "text/plain": [
       "<Figure size 504x504 with 0 Axes>"
      ]
     },
     "metadata": {},
     "output_type": "display_data"
    },
    {
     "data": {
      "image/png": "[encoded data removed]",
      "text/plain": [
       "<Figure size 432x288 with 1 Axes>"
      ]
     },
     "metadata": {
      "needs_background": "light"
     },
     "output_type": "display_data"
    }
   ],
   "source": [
    "plt.figure(figsize=(7,7))\n",
    "Y_predict_proba = rf_clf.predict_proba(X_test2)\n",
    "skplt.metrics.plot_lift_curve(Y_test,Y_predict_proba  )\n",
    "plt.show()\n",
    "plt.show();"
   ]
  },
  {
   "cell_type": "code",
   "execution_count": 49,
   "id": "23857e14",
   "metadata": {},
   "outputs": [
    {
     "data": {
      "text/html": [
       "<div>\n",
       "<style scoped>\n",
       "    .dataframe tbody tr th:only-of-type {\n",
       "        vertical-align: middle;\n",
       "    }\n",
       "\n",
       "    .dataframe tbody tr th {\n",
       "        vertical-align: top;\n",
       "    }\n",
       "\n",
       "    .dataframe thead th {\n",
       "        text-align: right;\n",
       "    }\n",
       "</style>\n",
       "<table border=\"1\" class=\"dataframe\">\n",
       "  <thead>\n",
       "    <tr style=\"text-align: right;\">\n",
       "      <th></th>\n",
       "      <th>Target</th>\n",
       "      <th>Proba_target</th>\n",
       "      <th>QuantileRank</th>\n",
       "    </tr>\n",
       "  </thead>\n",
       "  <tbody>\n",
       "    <tr>\n",
       "      <th>1110463</th>\n",
       "      <td>1</td>\n",
       "      <td>0.993002</td>\n",
       "      <td>4</td>\n",
       "    </tr>\n",
       "    <tr>\n",
       "      <th>130801</th>\n",
       "      <td>1</td>\n",
       "      <td>0.992729</td>\n",
       "      <td>4</td>\n",
       "    </tr>\n",
       "    <tr>\n",
       "      <th>883929</th>\n",
       "      <td>1</td>\n",
       "      <td>0.992671</td>\n",
       "      <td>4</td>\n",
       "    </tr>\n",
       "    <tr>\n",
       "      <th>472786</th>\n",
       "      <td>1</td>\n",
       "      <td>0.992490</td>\n",
       "      <td>4</td>\n",
       "    </tr>\n",
       "    <tr>\n",
       "      <th>182279</th>\n",
       "      <td>1</td>\n",
       "      <td>0.992237</td>\n",
       "      <td>4</td>\n",
       "    </tr>\n",
       "    <tr>\n",
       "      <th>237373</th>\n",
       "      <td>1</td>\n",
       "      <td>0.992154</td>\n",
       "      <td>4</td>\n",
       "    </tr>\n",
       "    <tr>\n",
       "      <th>472790</th>\n",
       "      <td>1</td>\n",
       "      <td>0.992123</td>\n",
       "      <td>4</td>\n",
       "    </tr>\n",
       "  </tbody>\n",
       "</table>\n",
       "</div>"
      ],
      "text/plain": [
       "         Target  Proba_target  QuantileRank\n",
       "1110463       1      0.993002             4\n",
       "130801        1      0.992729             4\n",
       "883929        1      0.992671             4\n",
       "472786        1      0.992490             4\n",
       "182279        1      0.992237             4\n",
       "237373        1      0.992154             4\n",
       "472790        1      0.992123             4"
      ]
     },
     "execution_count": 49,
     "metadata": {},
     "output_type": "execute_result"
    }
   ],
   "source": [
    "res_modele=pd.DataFrame()\n",
    "res_modele[\"Target\"]=Y_test\n",
    "res_modele[\"Proba_target\"]=rf_clf.predict_proba(X_test2)[:,1]\n",
    "\n",
    "res_modele.sort_values(by =[\"Proba_target\"], inplace = True,ascending=False)\n",
    "\n",
    "res_modele['QuantileRank']= pd.qcut(res_modele[\"Proba_target\"], q = 5, labels = False)\n",
    "res_modele.head(7)"
   ]
  },
  {
   "cell_type": "code",
   "execution_count": 51,
   "id": "6d836c58",
   "metadata": {},
   "outputs": [
    {
     "name": "stdout",
     "output_type": "stream",
     "text": [
      "               sum  count\n",
      "QuantileRank             \n",
      "4             1470  69012\n",
      "3              183  58236\n",
      "2              173  80008\n",
      "1              197  69088\n",
      "0              151  69086\n"
     ]
    }
   ],
   "source": [
    "agg_tmp=pd.DataFrame(res_modele.groupby('QuantileRank')['Target'].agg(['sum','count']))\n",
    "\n",
    "agg_tmp.sort_values(by =[\"QuantileRank\"], inplace = True,ascending=False)\n",
    "\n",
    "print(agg_tmp)"
   ]
  },
  {
   "cell_type": "code",
   "execution_count": 52,
   "id": "85b0d4d7",
   "metadata": {},
   "outputs": [
    {
     "name": "stdout",
     "output_type": "stream",
     "text": [
      "               sum  count  Precision  Proba_alatoire      lift  \\\n",
      "QuantileRank                                                     \n",
      "4             1470  69012   0.021301        0.006294  3.384490   \n",
      "3              183  58236   0.003142        0.006294  0.499298   \n",
      "2              173  80008   0.002162        0.006294  0.343568   \n",
      "1              197  69088   0.002851        0.006294  0.453069   \n",
      "0              151  69086   0.002186        0.006294  0.347286   \n",
      "\n",
      "              Part population cible  Part population  \n",
      "QuantileRank                                          \n",
      "4                          0.676173         0.199786  \n",
      "3                          0.084177         0.168590  \n",
      "2                          0.079577         0.231619  \n",
      "1                          0.090616         0.200006  \n",
      "0                          0.069457         0.200000  \n"
     ]
    }
   ],
   "source": [
    "agg_tmp[\"Precision\"] = agg_tmp[\"sum\"]/agg_tmp[\"count\"]\n",
    "agg_tmp[\"Proba_alatoire\"]= Y_test.mean()\n",
    "agg_tmp[\"lift\"]=agg_tmp[\"Precision\"]/agg_tmp[\"Proba_alatoire\"]\n",
    "agg_tmp[\"Part population cible\"]=agg_tmp[\"sum\"]/Y_test.sum()\n",
    "agg_tmp[\"Part population\"]=agg_tmp[\"count\"]/Y_test.count()\n",
    "print(agg_tmp)"
   ]
  },
  {
   "cell_type": "code",
   "execution_count": null,
   "id": "d532d2a8",
   "metadata": {},
   "outputs": [],
   "source": []
  }
 ],
 "metadata": {
  "kernelspec": {
   "display_name": "Python 3 (ipykernel)",
   "language": "python",
   "name": "python3"
  },
  "language_info": {
   "codemirror_mode": {
    "name": "ipython",
    "version": 3
   },
   "file_extension": ".py",
   "mimetype": "text/x-python",
   "name": "python",
   "nbconvert_exporter": "python",
   "pygments_lexer": "ipython3",
   "version": "3.9.7"
  }
 },
 "nbformat": 4,
 "nbformat_minor": 5
}
