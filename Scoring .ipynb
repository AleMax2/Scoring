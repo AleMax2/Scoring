{
 "cells": [
  {
   "cell_type": "markdown",
   "id": "1388a6e2",
   "metadata": {},
   "source": [
    "# Scoring\n",
    "#### Gros probleme, la variable fraude a seulement 7246 on peut avoir un modele bete que previse toujours 0...."
   ]
  },
  {
   "cell_type": "code",
   "execution_count": 50,
   "id": "08e4faec",
   "metadata": {},
   "outputs": [],
   "source": [
    "import pandas as pd\n",
    "import numpy as np\n",
    "import matplotlib.pyplot as plt\n",
    "from sklearn.cluster import SpectralClustering, KMeans\n",
    "from sklearn.model_selection import train_test_split"
   ]
  },
  {
   "cell_type": "code",
   "execution_count": 95,
   "id": "e4eb0442",
   "metadata": {},
   "outputs": [],
   "source": [
    "data = pd.read_csv(\"D:\\\\Universita\\\\STatistica\\\\TIDE\\\\Deeplearn\\\\Scoring\\\\autorisations.csv\")"
   ]
  },
  {
   "cell_type": "code",
   "execution_count": 96,
   "id": "e0124585",
   "metadata": {},
   "outputs": [
    {
     "data": {
      "text/html": [
       "<div>\n",
       "<style scoped>\n",
       "    .dataframe tbody tr th:only-of-type {\n",
       "        vertical-align: middle;\n",
       "    }\n",
       "\n",
       "    .dataframe tbody tr th {\n",
       "        vertical-align: top;\n",
       "    }\n",
       "\n",
       "    .dataframe thead th {\n",
       "        text-align: right;\n",
       "    }\n",
       "</style>\n",
       "<table border=\"1\" class=\"dataframe\">\n",
       "  <thead>\n",
       "    <tr style=\"text-align: right;\">\n",
       "      <th></th>\n",
       "      <th>Carte</th>\n",
       "      <th>Pays</th>\n",
       "      <th>Date</th>\n",
       "      <th>Heure</th>\n",
       "      <th>dateheure</th>\n",
       "      <th>CodeRep</th>\n",
       "      <th>MCC</th>\n",
       "      <th>Montant</th>\n",
       "      <th>fraude</th>\n",
       "      <th>FM_Velocity_Condition_3</th>\n",
       "      <th>...</th>\n",
       "      <th>FM_Sum_12</th>\n",
       "      <th>FM_Sum_24</th>\n",
       "      <th>FM_Redondance_MCC_3</th>\n",
       "      <th>FM_Redondance_MCC_6</th>\n",
       "      <th>FM_Redondance_MCC_12</th>\n",
       "      <th>FM_Redondance_MCC_24</th>\n",
       "      <th>FM_Difference_Pays_3</th>\n",
       "      <th>FM_Difference_Pays_6</th>\n",
       "      <th>FM_Difference_Pays_12</th>\n",
       "      <th>FM_Difference_Pays_24</th>\n",
       "    </tr>\n",
       "  </thead>\n",
       "  <tbody>\n",
       "    <tr>\n",
       "      <th>0</th>\n",
       "      <td>0</td>\n",
       "      <td>840</td>\n",
       "      <td>02/12/2003</td>\n",
       "      <td>17:47:52</td>\n",
       "      <td>02/12/2003</td>\n",
       "      <td>15</td>\n",
       "      <td>5812</td>\n",
       "      <td>69.25</td>\n",
       "      <td>0</td>\n",
       "      <td>0</td>\n",
       "      <td>...</td>\n",
       "      <td>69.25</td>\n",
       "      <td>69.25</td>\n",
       "      <td>1</td>\n",
       "      <td>1</td>\n",
       "      <td>1</td>\n",
       "      <td>1</td>\n",
       "      <td>1</td>\n",
       "      <td>1</td>\n",
       "      <td>1</td>\n",
       "      <td>1</td>\n",
       "    </tr>\n",
       "    <tr>\n",
       "      <th>1</th>\n",
       "      <td>1</td>\n",
       "      <td>158</td>\n",
       "      <td>25/11/2003</td>\n",
       "      <td>06:00:20</td>\n",
       "      <td>25/11/2003</td>\n",
       "      <td>15</td>\n",
       "      <td>5311</td>\n",
       "      <td>1.00</td>\n",
       "      <td>0</td>\n",
       "      <td>0</td>\n",
       "      <td>...</td>\n",
       "      <td>1.00</td>\n",
       "      <td>1.00</td>\n",
       "      <td>1</td>\n",
       "      <td>1</td>\n",
       "      <td>1</td>\n",
       "      <td>1</td>\n",
       "      <td>1</td>\n",
       "      <td>1</td>\n",
       "      <td>1</td>\n",
       "      <td>1</td>\n",
       "    </tr>\n",
       "    <tr>\n",
       "      <th>2</th>\n",
       "      <td>2</td>\n",
       "      <td>826</td>\n",
       "      <td>12/11/2003</td>\n",
       "      <td>14:10:57</td>\n",
       "      <td>12/11/2003</td>\n",
       "      <td>15</td>\n",
       "      <td>5211</td>\n",
       "      <td>516.95</td>\n",
       "      <td>0</td>\n",
       "      <td>0</td>\n",
       "      <td>...</td>\n",
       "      <td>516.95</td>\n",
       "      <td>516.95</td>\n",
       "      <td>1</td>\n",
       "      <td>1</td>\n",
       "      <td>1</td>\n",
       "      <td>1</td>\n",
       "      <td>1</td>\n",
       "      <td>1</td>\n",
       "      <td>1</td>\n",
       "      <td>1</td>\n",
       "    </tr>\n",
       "    <tr>\n",
       "      <th>3</th>\n",
       "      <td>3</td>\n",
       "      <td>840</td>\n",
       "      <td>07/11/2003</td>\n",
       "      <td>03:41:55</td>\n",
       "      <td>07/11/2003</td>\n",
       "      <td>14</td>\n",
       "      <td>7399</td>\n",
       "      <td>0.01</td>\n",
       "      <td>0</td>\n",
       "      <td>0</td>\n",
       "      <td>...</td>\n",
       "      <td>0.01</td>\n",
       "      <td>0.01</td>\n",
       "      <td>1</td>\n",
       "      <td>1</td>\n",
       "      <td>1</td>\n",
       "      <td>1</td>\n",
       "      <td>1</td>\n",
       "      <td>1</td>\n",
       "      <td>1</td>\n",
       "      <td>1</td>\n",
       "    </tr>\n",
       "    <tr>\n",
       "      <th>4</th>\n",
       "      <td>4</td>\n",
       "      <td>158</td>\n",
       "      <td>23/11/2003</td>\n",
       "      <td>05:07:03</td>\n",
       "      <td>23/11/2003</td>\n",
       "      <td>15</td>\n",
       "      <td>5311</td>\n",
       "      <td>1.00</td>\n",
       "      <td>0</td>\n",
       "      <td>0</td>\n",
       "      <td>...</td>\n",
       "      <td>1.00</td>\n",
       "      <td>1.00</td>\n",
       "      <td>1</td>\n",
       "      <td>1</td>\n",
       "      <td>1</td>\n",
       "      <td>1</td>\n",
       "      <td>1</td>\n",
       "      <td>1</td>\n",
       "      <td>1</td>\n",
       "      <td>1</td>\n",
       "    </tr>\n",
       "  </tbody>\n",
       "</table>\n",
       "<p>5 rows × 25 columns</p>\n",
       "</div>"
      ],
      "text/plain": [
       "   Carte  Pays        Date     Heure   dateheure  CodeRep   MCC  Montant  \\\n",
       "0      0   840  02/12/2003  17:47:52  02/12/2003       15  5812    69.25   \n",
       "1      1   158  25/11/2003  06:00:20  25/11/2003       15  5311     1.00   \n",
       "2      2   826  12/11/2003  14:10:57  12/11/2003       15  5211   516.95   \n",
       "3      3   840  07/11/2003  03:41:55  07/11/2003       14  7399     0.01   \n",
       "4      4   158  23/11/2003  05:07:03  23/11/2003       15  5311     1.00   \n",
       "\n",
       "   fraude  FM_Velocity_Condition_3  ...  FM_Sum_12  FM_Sum_24  \\\n",
       "0       0                        0  ...      69.25      69.25   \n",
       "1       0                        0  ...       1.00       1.00   \n",
       "2       0                        0  ...     516.95     516.95   \n",
       "3       0                        0  ...       0.01       0.01   \n",
       "4       0                        0  ...       1.00       1.00   \n",
       "\n",
       "   FM_Redondance_MCC_3  FM_Redondance_MCC_6  FM_Redondance_MCC_12  \\\n",
       "0                    1                    1                     1   \n",
       "1                    1                    1                     1   \n",
       "2                    1                    1                     1   \n",
       "3                    1                    1                     1   \n",
       "4                    1                    1                     1   \n",
       "\n",
       "   FM_Redondance_MCC_24  FM_Difference_Pays_3  FM_Difference_Pays_6  \\\n",
       "0                     1                     1                     1   \n",
       "1                     1                     1                     1   \n",
       "2                     1                     1                     1   \n",
       "3                     1                     1                     1   \n",
       "4                     1                     1                     1   \n",
       "\n",
       "   FM_Difference_Pays_12  FM_Difference_Pays_24  \n",
       "0                      1                      1  \n",
       "1                      1                      1  \n",
       "2                      1                      1  \n",
       "3                      1                      1  \n",
       "4                      1                      1  \n",
       "\n",
       "[5 rows x 25 columns]"
      ]
     },
     "execution_count": 96,
     "metadata": {},
     "output_type": "execute_result"
    }
   ],
   "source": [
    "data.head()"
   ]
  },
  {
   "cell_type": "code",
   "execution_count": 97,
   "id": "6efeae85",
   "metadata": {},
   "outputs": [
    {
     "data": {
      "text/plain": [
       "(1151432, 25)"
      ]
     },
     "execution_count": 97,
     "metadata": {},
     "output_type": "execute_result"
    }
   ],
   "source": [
    "data.shape"
   ]
  },
  {
   "cell_type": "code",
   "execution_count": 98,
   "id": "ff749514",
   "metadata": {},
   "outputs": [
    {
     "data": {
      "text/plain": [
       "Carte                         int64\n",
       "Pays                          int64\n",
       "Date                         object\n",
       "Heure                        object\n",
       "dateheure                    object\n",
       "CodeRep                       int64\n",
       "MCC                           int64\n",
       "Montant                     float64\n",
       "fraude                        int64\n",
       "FM_Velocity_Condition_3       int64\n",
       "FM_Velocity_Condition_6       int64\n",
       "FM_Velocity_Condition_12      int64\n",
       "FM_Velocity_Condition_24      int64\n",
       "FM_Sum_3                    float64\n",
       "FM_Sum_6                    float64\n",
       "FM_Sum_12                   float64\n",
       "FM_Sum_24                   float64\n",
       "FM_Redondance_MCC_3           int64\n",
       "FM_Redondance_MCC_6           int64\n",
       "FM_Redondance_MCC_12          int64\n",
       "FM_Redondance_MCC_24          int64\n",
       "FM_Difference_Pays_3          int64\n",
       "FM_Difference_Pays_6          int64\n",
       "FM_Difference_Pays_12         int64\n",
       "FM_Difference_Pays_24         int64\n",
       "dtype: object"
      ]
     },
     "execution_count": 98,
     "metadata": {},
     "output_type": "execute_result"
    }
   ],
   "source": [
    "data.dtypes"
   ]
  },
  {
   "cell_type": "code",
   "execution_count": 99,
   "id": "c75a919b",
   "metadata": {},
   "outputs": [
    {
     "data": {
      "text/plain": [
       "0.006293033370620237"
      ]
     },
     "execution_count": 99,
     "metadata": {},
     "output_type": "execute_result"
    }
   ],
   "source": [
    "data[\"fraude\"].sum()/len(data)"
   ]
  },
  {
   "cell_type": "code",
   "execution_count": 100,
   "id": "96c6e78c",
   "metadata": {},
   "outputs": [
    {
     "data": {
      "text/plain": [
       "Carte                         int64\n",
       "Pays                          int64\n",
       "Date                         object\n",
       "Heure                        object\n",
       "dateheure                    object\n",
       "CodeRep                       int64\n",
       "MCC                           int64\n",
       "Montant                     float64\n",
       "fraude                        int64\n",
       "FM_Velocity_Condition_3       int64\n",
       "FM_Velocity_Condition_6       int64\n",
       "FM_Velocity_Condition_12      int64\n",
       "FM_Velocity_Condition_24      int64\n",
       "FM_Sum_3                    float64\n",
       "FM_Sum_6                    float64\n",
       "FM_Sum_12                   float64\n",
       "FM_Sum_24                   float64\n",
       "FM_Redondance_MCC_3           int64\n",
       "FM_Redondance_MCC_6           int64\n",
       "FM_Redondance_MCC_12          int64\n",
       "FM_Redondance_MCC_24          int64\n",
       "FM_Difference_Pays_3          int64\n",
       "FM_Difference_Pays_6          int64\n",
       "FM_Difference_Pays_12         int64\n",
       "FM_Difference_Pays_24         int64\n",
       "dtype: object"
      ]
     },
     "execution_count": 100,
     "metadata": {},
     "output_type": "execute_result"
    }
   ],
   "source": [
    "data.dtypes"
   ]
  },
  {
   "cell_type": "code",
   "execution_count": 101,
   "id": "578d76e4",
   "metadata": {},
   "outputs": [],
   "source": [
    "info_df_num = data.describe()\n",
    "info_types = pd.DataFrame(data.dtypes)"
   ]
  },
  {
   "cell_type": "code",
   "execution_count": 102,
   "id": "29f03140",
   "metadata": {},
   "outputs": [
    {
     "name": "stdout",
     "output_type": "stream",
     "text": [
      "                   variables  Nb value distinct  Nb value missing  \\\n",
      "0                      Carte             198044                 0   \n",
      "1                       Pays                167                 0   \n",
      "2                    CodeRep                 15                 0   \n",
      "3                        MCC                661                 0   \n",
      "4                    Montant              81202                 0   \n",
      "5                     fraude                  2                 0   \n",
      "6    FM_Velocity_Condition_3                 47                 0   \n",
      "7    FM_Velocity_Condition_6                 82                 0   \n",
      "8   FM_Velocity_Condition_12                111                 0   \n",
      "9   FM_Velocity_Condition_24                130                 0   \n",
      "10                  FM_Sum_3             109836                 0   \n",
      "11                  FM_Sum_6             115524                 0   \n",
      "12                 FM_Sum_12             121192                 0   \n",
      "13                 FM_Sum_24             134264                 0   \n",
      "14       FM_Redondance_MCC_3                 39                 0   \n",
      "15       FM_Redondance_MCC_6                 39                 0   \n",
      "16      FM_Redondance_MCC_12                 46                 0   \n",
      "17      FM_Redondance_MCC_24                 59                 0   \n",
      "18      FM_Difference_Pays_3                 10                 0   \n",
      "19      FM_Difference_Pays_6                 15                 0   \n",
      "20     FM_Difference_Pays_12                 15                 0   \n",
      "21     FM_Difference_Pays_24                 17                 0   \n",
      "\n",
      "    %Modalité_missing  \n",
      "0                 0.0  \n",
      "1                 0.0  \n",
      "2                 0.0  \n",
      "3                 0.0  \n",
      "4                 0.0  \n",
      "5                 0.0  \n",
      "6                 0.0  \n",
      "7                 0.0  \n",
      "8                 0.0  \n",
      "9                 0.0  \n",
      "10                0.0  \n",
      "11                0.0  \n",
      "12                0.0  \n",
      "13                0.0  \n",
      "14                0.0  \n",
      "15                0.0  \n",
      "16                0.0  \n",
      "17                0.0  \n",
      "18                0.0  \n",
      "19                0.0  \n",
      "20                0.0  \n",
      "21                0.0  \n"
     ]
    }
   ],
   "source": [
    "nb_nan = []\n",
    "nb_distincts =[]\n",
    "for v in info_df_num.columns.tolist():\n",
    "    nb_nan.append(data[v].isnull().sum())\n",
    "    nb_distincts.append(len(set(data[v])))\n",
    "    \n",
    "info_df_num_2 = pd.DataFrame()\n",
    "info_df_num_2 [\"variables\"] = info_df_num.columns.tolist()\n",
    "info_df_num_2[\"Nb value distinct\"] = nb_distincts\n",
    "info_df_num_2[\"Nb value missing\"] = nb_nan \n",
    "info_df_num_2[\"%Modalité_missing\"] = info_df_num_2[\"Nb value missing\"]/len(data)\n",
    "\n",
    "print(info_df_num_2)"
   ]
  },
  {
   "cell_type": "code",
   "execution_count": 103,
   "id": "cdda7c06",
   "metadata": {},
   "outputs": [
    {
     "name": "stdout",
     "output_type": "stream",
     "text": [
      "   variables  Nb value distinct  Nb value missing\n",
      "0       Date                243                 0\n",
      "1      Heure              85697                 0\n",
      "2  dateheure                243                 0\n"
     ]
    }
   ],
   "source": [
    "list_var_cat = info_types[info_types[0]==\"object\"].index.tolist()\n",
    "\n",
    "info_df_cat = pd.DataFrame()\n",
    "nb_nan = []\n",
    "nb_distincts =[]\n",
    "for v in list_var_cat :\n",
    "    nb_nan.append(data[v].isnull().sum())\n",
    "    nb_distincts.append(len(set(data[v])))\n",
    "    \n",
    "info_df_cat[\"variables\"] = list_var_cat\n",
    "info_df_cat[\"Nb value distinct\"] = nb_distincts\n",
    "info_df_cat[\"Nb value missing\"] = nb_nan\n",
    "\n",
    "print(info_df_cat)"
   ]
  },
  {
   "cell_type": "code",
   "execution_count": 104,
   "id": "1386b687",
   "metadata": {},
   "outputs": [],
   "source": [
    "data[\"Heure\"] = data[\"Heure\"].str.split(':', expand=True)[0]\n",
    "data[\"Date\"] = pd.to_datetime(data[\"Date\"], format='%d/%m/%Y')\n",
    "data[\"Month\"] = data[\"Date\"].dt.month\n",
    "data[\"Month\"] = data[\"Month\"].astype('object')\n",
    "data[\"CodeRep\"]=np.where(data[\"CodeRep\"] == 0,1,0)"
   ]
  },
  {
   "cell_type": "markdown",
   "id": "a517c97e",
   "metadata": {},
   "source": [
    "# Division of test and train data.\n",
    "Is it necessary to do it before analysing for possible seasonalities or country risk?"
   ]
  },
  {
   "cell_type": "code",
   "execution_count": 105,
   "id": "e03e8152",
   "metadata": {},
   "outputs": [
    {
     "data": {
      "image/png": "[encoded data removed]",
      "text/plain": [
       "<Figure size 432x288 with 1 Axes>"
      ]
     },
     "metadata": {
      "needs_background": "light"
     },
     "output_type": "display_data"
    }
   ],
   "source": [
    "data[\"fraude\"].plot(kind = 'hist');"
   ]
  },
  {
   "cell_type": "code",
   "execution_count": 106,
   "id": "405bda51",
   "metadata": {},
   "outputs": [],
   "source": [
    "X = data.drop(columns=[\"fraude\",\"Carte\", \"Date\", \"dateheure\", \"MCC\"])\n",
    "Y = data[\"fraude\"]"
   ]
  },
  {
   "cell_type": "code",
   "execution_count": 107,
   "id": "a0098f90",
   "metadata": {},
   "outputs": [],
   "source": [
    "X_train, X_test, Y_train, Y_test = train_test_split(X, Y,\n",
    "                                                    test_size=0.3, stratify=Y)\n",
    "train = X_train.join(Y_train)"
   ]
  },
  {
   "cell_type": "markdown",
   "id": "bc3065c3",
   "metadata": {},
   "source": [
    "## Is there a country specific risk involved?"
   ]
  },
  {
   "cell_type": "code",
   "execution_count": 108,
   "id": "b58ee6c7",
   "metadata": {},
   "outputs": [
    {
     "data": {
      "text/html": [
       "<div>\n",
       "<style scoped>\n",
       "    .dataframe tbody tr th:only-of-type {\n",
       "        vertical-align: middle;\n",
       "    }\n",
       "\n",
       "    .dataframe tbody tr th {\n",
       "        vertical-align: top;\n",
       "    }\n",
       "\n",
       "    .dataframe thead th {\n",
       "        text-align: right;\n",
       "    }\n",
       "</style>\n",
       "<table border=\"1\" class=\"dataframe\">\n",
       "  <thead>\n",
       "    <tr style=\"text-align: right;\">\n",
       "      <th></th>\n",
       "      <th>fraude</th>\n",
       "    </tr>\n",
       "    <tr>\n",
       "      <th>Pays</th>\n",
       "      <th></th>\n",
       "    </tr>\n",
       "  </thead>\n",
       "  <tbody>\n",
       "    <tr>\n",
       "      <th>8</th>\n",
       "      <td>0</td>\n",
       "    </tr>\n",
       "    <tr>\n",
       "      <th>508</th>\n",
       "      <td>0</td>\n",
       "    </tr>\n",
       "    <tr>\n",
       "      <th>498</th>\n",
       "      <td>0</td>\n",
       "    </tr>\n",
       "    <tr>\n",
       "      <th>496</th>\n",
       "      <td>0</td>\n",
       "    </tr>\n",
       "    <tr>\n",
       "      <th>492</th>\n",
       "      <td>0</td>\n",
       "    </tr>\n",
       "    <tr>\n",
       "      <th>...</th>\n",
       "      <td>...</td>\n",
       "    </tr>\n",
       "    <tr>\n",
       "      <th>56</th>\n",
       "      <td>390</td>\n",
       "    </tr>\n",
       "    <tr>\n",
       "      <th>380</th>\n",
       "      <td>493</td>\n",
       "    </tr>\n",
       "    <tr>\n",
       "      <th>840</th>\n",
       "      <td>650</td>\n",
       "    </tr>\n",
       "    <tr>\n",
       "      <th>826</th>\n",
       "      <td>664</td>\n",
       "    </tr>\n",
       "    <tr>\n",
       "      <th>724</th>\n",
       "      <td>873</td>\n",
       "    </tr>\n",
       "  </tbody>\n",
       "</table>\n",
       "<p>167 rows × 1 columns</p>\n",
       "</div>"
      ],
      "text/plain": [
       "      fraude\n",
       "Pays        \n",
       "8          0\n",
       "508        0\n",
       "498        0\n",
       "496        0\n",
       "492        0\n",
       "...      ...\n",
       "56       390\n",
       "380      493\n",
       "840      650\n",
       "826      664\n",
       "724      873\n",
       "\n",
       "[167 rows x 1 columns]"
      ]
     },
     "execution_count": 108,
     "metadata": {},
     "output_type": "execute_result"
    }
   ],
   "source": [
    "summa= train.groupby(\"Pays\").sum()[[\"fraude\"]]\n",
    "summa.sort_values(by=\"fraude\")"
   ]
  },
  {
   "cell_type": "code",
   "execution_count": 109,
   "id": "04b78f42",
   "metadata": {},
   "outputs": [],
   "source": [
    "counts = pd.Series(train[\"Pays\"]).value_counts()\n",
    "counts = pd.DataFrame(counts)\n",
    "counts = counts.rename(columns={\"Pays\":\"NTrans\"})"
   ]
  },
  {
   "cell_type": "code",
   "execution_count": 110,
   "id": "0a946f11",
   "metadata": {
    "scrolled": true
   },
   "outputs": [
    {
     "data": {
      "image/png": "[encoded data removed]",
      "text/plain": [
       "<Figure size 432x288 with 1 Axes>"
      ]
     },
     "metadata": {
      "needs_background": "light"
     },
     "output_type": "display_data"
    }
   ],
   "source": [
    "cmerged = pd.merge(counts,summa,left_index=True, right_index=True)\n",
    "cmerged.reset_index(inplace=True)\n",
    "cmerged = cmerged.rename(columns={\"index\":\"Pays\"})\n",
    "cmerged[\"Fratio\"] = cmerged[\"fraude\"]/cmerged[\"NTrans\"]\n",
    "cmerged[\"Fratio\"].plot(kind = 'hist');"
   ]
  },
  {
   "cell_type": "code",
   "execution_count": 111,
   "id": "46a499ac",
   "metadata": {},
   "outputs": [
    {
     "data": {
      "text/plain": [
       "10"
      ]
     },
     "execution_count": 111,
     "metadata": {},
     "output_type": "execute_result"
    }
   ],
   "source": [
    "sum(cmerged[\"Fratio\"]>0.025)"
   ]
  },
  {
   "cell_type": "code",
   "execution_count": 112,
   "id": "6c2f2f71",
   "metadata": {},
   "outputs": [
    {
     "data": {
      "text/html": [
       "<div>\n",
       "<style scoped>\n",
       "    .dataframe tbody tr th:only-of-type {\n",
       "        vertical-align: middle;\n",
       "    }\n",
       "\n",
       "    .dataframe tbody tr th {\n",
       "        vertical-align: top;\n",
       "    }\n",
       "\n",
       "    .dataframe thead th {\n",
       "        text-align: right;\n",
       "    }\n",
       "</style>\n",
       "<table border=\"1\" class=\"dataframe\">\n",
       "  <thead>\n",
       "    <tr style=\"text-align: right;\">\n",
       "      <th></th>\n",
       "      <th>Pays</th>\n",
       "      <th>NTrans</th>\n",
       "      <th>fraude</th>\n",
       "      <th>Fratio</th>\n",
       "    </tr>\n",
       "  </thead>\n",
       "  <tbody>\n",
       "    <tr>\n",
       "      <th>13</th>\n",
       "      <td>36</td>\n",
       "      <td>5569</td>\n",
       "      <td>157</td>\n",
       "      <td>0.028192</td>\n",
       "    </tr>\n",
       "    <tr>\n",
       "      <th>14</th>\n",
       "      <td>76</td>\n",
       "      <td>5159</td>\n",
       "      <td>246</td>\n",
       "      <td>0.047684</td>\n",
       "    </tr>\n",
       "    <tr>\n",
       "      <th>16</th>\n",
       "      <td>792</td>\n",
       "      <td>4315</td>\n",
       "      <td>253</td>\n",
       "      <td>0.058633</td>\n",
       "    </tr>\n",
       "    <tr>\n",
       "      <th>38</th>\n",
       "      <td>356</td>\n",
       "      <td>1767</td>\n",
       "      <td>49</td>\n",
       "      <td>0.027731</td>\n",
       "    </tr>\n",
       "    <tr>\n",
       "      <th>53</th>\n",
       "      <td>188</td>\n",
       "      <td>827</td>\n",
       "      <td>28</td>\n",
       "      <td>0.033857</td>\n",
       "    </tr>\n",
       "    <tr>\n",
       "      <th>65</th>\n",
       "      <td>608</td>\n",
       "      <td>572</td>\n",
       "      <td>19</td>\n",
       "      <td>0.033217</td>\n",
       "    </tr>\n",
       "    <tr>\n",
       "      <th>80</th>\n",
       "      <td>320</td>\n",
       "      <td>255</td>\n",
       "      <td>11</td>\n",
       "      <td>0.043137</td>\n",
       "    </tr>\n",
       "    <tr>\n",
       "      <th>96</th>\n",
       "      <td>218</td>\n",
       "      <td>129</td>\n",
       "      <td>9</td>\n",
       "      <td>0.069767</td>\n",
       "    </tr>\n",
       "    <tr>\n",
       "      <th>101</th>\n",
       "      <td>862</td>\n",
       "      <td>114</td>\n",
       "      <td>11</td>\n",
       "      <td>0.096491</td>\n",
       "    </tr>\n",
       "    <tr>\n",
       "      <th>103</th>\n",
       "      <td>690</td>\n",
       "      <td>103</td>\n",
       "      <td>3</td>\n",
       "      <td>0.029126</td>\n",
       "    </tr>\n",
       "  </tbody>\n",
       "</table>\n",
       "</div>"
      ],
      "text/plain": [
       "     Pays  NTrans  fraude    Fratio\n",
       "13     36    5569     157  0.028192\n",
       "14     76    5159     246  0.047684\n",
       "16    792    4315     253  0.058633\n",
       "38    356    1767      49  0.027731\n",
       "53    188     827      28  0.033857\n",
       "65    608     572      19  0.033217\n",
       "80    320     255      11  0.043137\n",
       "96    218     129       9  0.069767\n",
       "101   862     114      11  0.096491\n",
       "103   690     103       3  0.029126"
      ]
     },
     "execution_count": 112,
     "metadata": {},
     "output_type": "execute_result"
    }
   ],
   "source": [
    "cmerged[(cmerged[\"Fratio\"]>0.025)]"
   ]
  },
  {
   "cell_type": "code",
   "execution_count": 113,
   "id": "0798ea9f",
   "metadata": {},
   "outputs": [
    {
     "data": {
      "image/png": "[encoded data removed]",
      "text/plain": [
       "<Figure size 432x288 with 1 Axes>"
      ]
     },
     "metadata": {
      "needs_background": "light"
     },
     "output_type": "display_data"
    }
   ],
   "source": [
    "kmeans = KMeans(n_clusters=2, init='random', n_init=1000)\n",
    "cmerged['label'] = kmeans.fit_predict(cmerged[['Fratio']])\n",
    "ax = cmerged[cmerged['label']==0].plot.scatter(x='Fratio', y='label', s=50, color='white', edgecolor='black')\n",
    "cmerged[cmerged['label']==1].plot.scatter(x='Fratio', y='label', s=50, color='white', ax=ax, edgecolor='red')\n",
    "plt.scatter(kmeans.cluster_centers_.ravel(), [0.5]*len(kmeans.cluster_centers_), s=100, color='green', marker='*');"
   ]
  },
  {
   "cell_type": "code",
   "execution_count": 114,
   "id": "80d627f2",
   "metadata": {},
   "outputs": [
    {
     "data": {
      "text/html": [
       "<div>\n",
       "<style scoped>\n",
       "    .dataframe tbody tr th:only-of-type {\n",
       "        vertical-align: middle;\n",
       "    }\n",
       "\n",
       "    .dataframe tbody tr th {\n",
       "        vertical-align: top;\n",
       "    }\n",
       "\n",
       "    .dataframe thead th {\n",
       "        text-align: right;\n",
       "    }\n",
       "</style>\n",
       "<table border=\"1\" class=\"dataframe\">\n",
       "  <thead>\n",
       "    <tr style=\"text-align: right;\">\n",
       "      <th></th>\n",
       "      <th>Pays</th>\n",
       "      <th>NTrans</th>\n",
       "      <th>fraude</th>\n",
       "      <th>Fratio</th>\n",
       "      <th>label</th>\n",
       "    </tr>\n",
       "  </thead>\n",
       "  <tbody>\n",
       "    <tr>\n",
       "      <th>0</th>\n",
       "      <td>840</td>\n",
       "      <td>136230</td>\n",
       "      <td>650</td>\n",
       "      <td>0.004771</td>\n",
       "      <td>1</td>\n",
       "    </tr>\n",
       "    <tr>\n",
       "      <th>1</th>\n",
       "      <td>724</td>\n",
       "      <td>128555</td>\n",
       "      <td>873</td>\n",
       "      <td>0.006791</td>\n",
       "      <td>1</td>\n",
       "    </tr>\n",
       "    <tr>\n",
       "      <th>2</th>\n",
       "      <td>56</td>\n",
       "      <td>115534</td>\n",
       "      <td>390</td>\n",
       "      <td>0.003376</td>\n",
       "      <td>1</td>\n",
       "    </tr>\n",
       "    <tr>\n",
       "      <th>3</th>\n",
       "      <td>826</td>\n",
       "      <td>106114</td>\n",
       "      <td>664</td>\n",
       "      <td>0.006257</td>\n",
       "      <td>1</td>\n",
       "    </tr>\n",
       "    <tr>\n",
       "      <th>4</th>\n",
       "      <td>380</td>\n",
       "      <td>70671</td>\n",
       "      <td>493</td>\n",
       "      <td>0.006976</td>\n",
       "      <td>1</td>\n",
       "    </tr>\n",
       "    <tr>\n",
       "      <th>...</th>\n",
       "      <td>...</td>\n",
       "      <td>...</td>\n",
       "      <td>...</td>\n",
       "      <td>...</td>\n",
       "      <td>...</td>\n",
       "    </tr>\n",
       "    <tr>\n",
       "      <th>162</th>\n",
       "      <td>328</td>\n",
       "      <td>1</td>\n",
       "      <td>0</td>\n",
       "      <td>0.000000</td>\n",
       "      <td>1</td>\n",
       "    </tr>\n",
       "    <tr>\n",
       "      <th>163</th>\n",
       "      <td>96</td>\n",
       "      <td>1</td>\n",
       "      <td>0</td>\n",
       "      <td>0.000000</td>\n",
       "      <td>1</td>\n",
       "    </tr>\n",
       "    <tr>\n",
       "      <th>164</th>\n",
       "      <td>275</td>\n",
       "      <td>1</td>\n",
       "      <td>0</td>\n",
       "      <td>0.000000</td>\n",
       "      <td>1</td>\n",
       "    </tr>\n",
       "    <tr>\n",
       "      <th>165</th>\n",
       "      <td>231</td>\n",
       "      <td>1</td>\n",
       "      <td>0</td>\n",
       "      <td>0.000000</td>\n",
       "      <td>1</td>\n",
       "    </tr>\n",
       "    <tr>\n",
       "      <th>166</th>\n",
       "      <td>795</td>\n",
       "      <td>1</td>\n",
       "      <td>0</td>\n",
       "      <td>0.000000</td>\n",
       "      <td>1</td>\n",
       "    </tr>\n",
       "  </tbody>\n",
       "</table>\n",
       "<p>156 rows × 5 columns</p>\n",
       "</div>"
      ],
      "text/plain": [
       "     Pays  NTrans  fraude    Fratio  label\n",
       "0     840  136230     650  0.004771      1\n",
       "1     724  128555     873  0.006791      1\n",
       "2      56  115534     390  0.003376      1\n",
       "3     826  106114     664  0.006257      1\n",
       "4     380   70671     493  0.006976      1\n",
       "..    ...     ...     ...       ...    ...\n",
       "162   328       1       0  0.000000      1\n",
       "163    96       1       0  0.000000      1\n",
       "164   275       1       0  0.000000      1\n",
       "165   231       1       0  0.000000      1\n",
       "166   795       1       0  0.000000      1\n",
       "\n",
       "[156 rows x 5 columns]"
      ]
     },
     "execution_count": 114,
     "metadata": {},
     "output_type": "execute_result"
    }
   ],
   "source": [
    "cmerged[cmerged['label']==1]"
   ]
  },
  {
   "cell_type": "code",
   "execution_count": 115,
   "id": "b3bda40c",
   "metadata": {},
   "outputs": [],
   "source": [
    "# K-Means and a 0.025 threshold level bring the same result"
   ]
  },
  {
   "cell_type": "markdown",
   "id": "56d15923",
   "metadata": {},
   "source": [
    "#### And the high risk countries are: Australia (36), Brasil (76), Turkey (792), India (356), Costa Rica (188), Philippines (608), Taiwan (158), Guatemala (320), Ecuador (218), Venezuela (862)."
   ]
  },
  {
   "cell_type": "code",
   "execution_count": 116,
   "id": "a878e972",
   "metadata": {},
   "outputs": [],
   "source": [
    "X_train[\"Pays_ris\"]=0"
   ]
  },
  {
   "cell_type": "code",
   "execution_count": 117,
   "id": "ebbd7eee",
   "metadata": {},
   "outputs": [],
   "source": [
    "X_train[\"Pays_ris\"]=0\n",
    "#conditions = [X_train.Pays==36, X_train.Pays==76, X_train.Pays==792, X_train.Pays==356, X_train.Pays==188,\n",
    "#                                X_train.Pays==608, X_train.Pays==158, X_train.Pays==320, X_train.Pays==218, X_train.Pays==862]\n",
    "X_train['AUX1'] = np.where(np.logical_or(X_train.Pays==36, X_train.Pays==76, X_train.Pays==792)\n",
    "                               ,1, 0)\n",
    "X_train['AUX2'] = np.where(np.logical_or(X_train.Pays==356, X_train.Pays==188, X_train.Pays==608)\n",
    "                               ,1, 0)\n",
    "X_train['AUX3'] = np.where(np.logical_or(X_train.Pays==158, X_train.Pays==320, X_train.Pays==218)\n",
    "                               ,1, 0)\n",
    "X_train['AUX4'] = np.where(X_train.Pays==862,1,0)\n",
    "X_train['AUX12'] = np.where(np.logical_or(X_train.AUX1==1, X_train.AUX2==1)\n",
    "                               ,1, 0)\n",
    "X_train['Pays_ris'] = np.where(np.logical_or(X_train.AUX12==1, X_train.AUX3==1, X_train.AUX4==1)\n",
    "                               ,1, 0)\n",
    "X_train = X_train.drop(columns=[\"AUX1\",\"AUX2\", \"AUX3\", \"AUX4\", \"AUX12\",\"Pays\"])"
   ]
  },
  {
   "cell_type": "code",
   "execution_count": 118,
   "id": "805c9d4d",
   "metadata": {},
   "outputs": [],
   "source": [
    "X_test[\"Pays_ris\"]=0\n",
    "#conditions = [X_train.Pays==36, X_train.Pays==76, X_train.Pays==792, X_train.Pays==356, X_train.Pays==188,\n",
    "#                                X_train.Pays==608, X_train.Pays==158, X_train.Pays==320, X_train.Pays==218, X_train.Pays==862]\n",
    "X_test['AUX1'] = np.where(np.logical_or(X_test.Pays==36, X_test.Pays==76, X_test.Pays==792)\n",
    "                               ,1, 0)\n",
    "X_test['AUX2'] = np.where(np.logical_or(X_test.Pays==356, X_test.Pays==188, X_test.Pays==608)\n",
    "                               ,1, 0)\n",
    "X_test['AUX3'] = np.where(np.logical_or(X_test.Pays==158, X_test.Pays==320, X_test.Pays==218)\n",
    "                               ,1, 0)\n",
    "X_test['AUX4'] = np.where(X_test.Pays==862,1,0)\n",
    "X_test['AUX12'] = np.where(np.logical_or(X_test.AUX1==1, X_test.AUX2==1)\n",
    "                               ,1, 0)\n",
    "X_test['Pays_ris'] = np.where(np.logical_or(X_test.AUX12==1, X_test.AUX3==1, X_test.AUX4==1)\n",
    "                               ,1, 0)\n",
    "X_test = X_test.drop(columns=[\"AUX1\",\"AUX2\", \"AUX3\", \"AUX4\", \"AUX12\",\"Pays\"])"
   ]
  },
  {
   "cell_type": "code",
   "execution_count": 119,
   "id": "6217b980",
   "metadata": {},
   "outputs": [
    {
     "data": {
      "text/plain": [
       "0.017344870111984833"
      ]
     },
     "execution_count": 119,
     "metadata": {},
     "output_type": "execute_result"
    }
   ],
   "source": [
    "sum(X_train[\"Pays_ris\"])/len(X_train)"
   ]
  },
  {
   "cell_type": "code",
   "execution_count": 120,
   "id": "9c83bde1",
   "metadata": {},
   "outputs": [
    {
     "data": {
      "text/plain": [
       "0.017980488087311466"
      ]
     },
     "execution_count": 120,
     "metadata": {},
     "output_type": "execute_result"
    }
   ],
   "source": [
    "sum(X_test[\"Pays_ris\"])/len(X_test)"
   ]
  },
  {
   "cell_type": "markdown",
   "id": "794f36e9",
   "metadata": {},
   "source": [
    "## Verifying if there are clusters in the hours of the day."
   ]
  },
  {
   "cell_type": "code",
   "execution_count": 121,
   "id": "cc9b4985",
   "metadata": {},
   "outputs": [
    {
     "data": {
      "text/html": [
       "<div>\n",
       "<style scoped>\n",
       "    .dataframe tbody tr th:only-of-type {\n",
       "        vertical-align: middle;\n",
       "    }\n",
       "\n",
       "    .dataframe tbody tr th {\n",
       "        vertical-align: top;\n",
       "    }\n",
       "\n",
       "    .dataframe thead th {\n",
       "        text-align: right;\n",
       "    }\n",
       "</style>\n",
       "<table border=\"1\" class=\"dataframe\">\n",
       "  <thead>\n",
       "    <tr style=\"text-align: right;\">\n",
       "      <th></th>\n",
       "      <th>fraude</th>\n",
       "    </tr>\n",
       "    <tr>\n",
       "      <th>Heure</th>\n",
       "      <th></th>\n",
       "    </tr>\n",
       "  </thead>\n",
       "  <tbody>\n",
       "    <tr>\n",
       "      <th>06</th>\n",
       "      <td>67</td>\n",
       "    </tr>\n",
       "    <tr>\n",
       "      <th>05</th>\n",
       "      <td>73</td>\n",
       "    </tr>\n",
       "    <tr>\n",
       "      <th>04</th>\n",
       "      <td>93</td>\n",
       "    </tr>\n",
       "    <tr>\n",
       "      <th>07</th>\n",
       "      <td>93</td>\n",
       "    </tr>\n",
       "    <tr>\n",
       "      <th>08</th>\n",
       "      <td>98</td>\n",
       "    </tr>\n",
       "    <tr>\n",
       "      <th>03</th>\n",
       "      <td>103</td>\n",
       "    </tr>\n",
       "    <tr>\n",
       "      <th>09</th>\n",
       "      <td>139</td>\n",
       "    </tr>\n",
       "    <tr>\n",
       "      <th>01</th>\n",
       "      <td>148</td>\n",
       "    </tr>\n",
       "    <tr>\n",
       "      <th>02</th>\n",
       "      <td>149</td>\n",
       "    </tr>\n",
       "    <tr>\n",
       "      <th>00</th>\n",
       "      <td>150</td>\n",
       "    </tr>\n",
       "    <tr>\n",
       "      <th>10</th>\n",
       "      <td>187</td>\n",
       "    </tr>\n",
       "    <tr>\n",
       "      <th>22</th>\n",
       "      <td>189</td>\n",
       "    </tr>\n",
       "    <tr>\n",
       "      <th>23</th>\n",
       "      <td>204</td>\n",
       "    </tr>\n",
       "    <tr>\n",
       "      <th>21</th>\n",
       "      <td>234</td>\n",
       "    </tr>\n",
       "    <tr>\n",
       "      <th>11</th>\n",
       "      <td>235</td>\n",
       "    </tr>\n",
       "    <tr>\n",
       "      <th>13</th>\n",
       "      <td>272</td>\n",
       "    </tr>\n",
       "    <tr>\n",
       "      <th>20</th>\n",
       "      <td>272</td>\n",
       "    </tr>\n",
       "    <tr>\n",
       "      <th>14</th>\n",
       "      <td>296</td>\n",
       "    </tr>\n",
       "    <tr>\n",
       "      <th>18</th>\n",
       "      <td>328</td>\n",
       "    </tr>\n",
       "    <tr>\n",
       "      <th>19</th>\n",
       "      <td>328</td>\n",
       "    </tr>\n",
       "    <tr>\n",
       "      <th>12</th>\n",
       "      <td>333</td>\n",
       "    </tr>\n",
       "    <tr>\n",
       "      <th>15</th>\n",
       "      <td>341</td>\n",
       "    </tr>\n",
       "    <tr>\n",
       "      <th>16</th>\n",
       "      <td>363</td>\n",
       "    </tr>\n",
       "    <tr>\n",
       "      <th>17</th>\n",
       "      <td>377</td>\n",
       "    </tr>\n",
       "  </tbody>\n",
       "</table>\n",
       "</div>"
      ],
      "text/plain": [
       "       fraude\n",
       "Heure        \n",
       "06         67\n",
       "05         73\n",
       "04         93\n",
       "07         93\n",
       "08         98\n",
       "03        103\n",
       "09        139\n",
       "01        148\n",
       "02        149\n",
       "00        150\n",
       "10        187\n",
       "22        189\n",
       "23        204\n",
       "21        234\n",
       "11        235\n",
       "13        272\n",
       "20        272\n",
       "14        296\n",
       "18        328\n",
       "19        328\n",
       "12        333\n",
       "15        341\n",
       "16        363\n",
       "17        377"
      ]
     },
     "execution_count": 121,
     "metadata": {},
     "output_type": "execute_result"
    }
   ],
   "source": [
    "sumh= train.groupby(\"Heure\").sum()[[\"fraude\"]]\n",
    "sumh.sort_values(by=\"fraude\")"
   ]
  },
  {
   "cell_type": "code",
   "execution_count": 122,
   "id": "999c326e",
   "metadata": {},
   "outputs": [],
   "source": [
    "counth = pd.Series(train[\"Heure\"]).value_counts()\n",
    "counth = pd.DataFrame(counth)\n",
    "counth = counth.rename(columns={\"Heure\":\"NTrans\"})"
   ]
  },
  {
   "cell_type": "code",
   "execution_count": 123,
   "id": "7ee24e18",
   "metadata": {},
   "outputs": [
    {
     "data": {
      "image/png": "[encoded data removed]",
      "text/plain": [
       "<Figure size 432x288 with 1 Axes>"
      ]
     },
     "metadata": {
      "needs_background": "light"
     },
     "output_type": "display_data"
    }
   ],
   "source": [
    "hmerged = pd.merge(counth, sumh, left_index=True, right_index=True)\n",
    "hmerged.reset_index(inplace=True)\n",
    "hmerged = hmerged.rename(columns={\"index\":\"Heure\"})\n",
    "hmerged[\"Fratio\"] = hmerged[\"fraude\"]/hmerged[\"NTrans\"]\n",
    "hmerged[\"Fratio\"].plot(kind = 'hist');"
   ]
  },
  {
   "cell_type": "code",
   "execution_count": 124,
   "id": "694563f8",
   "metadata": {},
   "outputs": [
    {
     "data": {
      "image/png": "[encoded data removed]",
      "text/plain": [
       "<Figure size 432x288 with 1 Axes>"
      ]
     },
     "metadata": {
      "needs_background": "light"
     },
     "output_type": "display_data"
    }
   ],
   "source": [
    "kmeans = KMeans(n_clusters=2, init='random', n_init=1000)\n",
    "hmerged['label'] = kmeans.fit_predict(hmerged[['Fratio']])\n",
    "ax = hmerged[hmerged['label']==0].plot.scatter(x='Fratio', y='label', s=50, color='white', edgecolor='black')\n",
    "hmerged[hmerged['label']==1].plot.scatter(x='Fratio', y='label', s=50, color='white', ax=ax, edgecolor='red')\n",
    "plt.scatter(kmeans.cluster_centers_.ravel(), [0.5]*len(kmeans.cluster_centers_), s=100, color='green', marker='*');"
   ]
  },
  {
   "cell_type": "code",
   "execution_count": 125,
   "id": "62a2eb09",
   "metadata": {},
   "outputs": [
    {
     "data": {
      "text/html": [
       "<div>\n",
       "<style scoped>\n",
       "    .dataframe tbody tr th:only-of-type {\n",
       "        vertical-align: middle;\n",
       "    }\n",
       "\n",
       "    .dataframe tbody tr th {\n",
       "        vertical-align: top;\n",
       "    }\n",
       "\n",
       "    .dataframe thead th {\n",
       "        text-align: right;\n",
       "    }\n",
       "</style>\n",
       "<table border=\"1\" class=\"dataframe\">\n",
       "  <thead>\n",
       "    <tr style=\"text-align: right;\">\n",
       "      <th></th>\n",
       "      <th>Heure</th>\n",
       "      <th>NTrans</th>\n",
       "      <th>fraude</th>\n",
       "      <th>Fratio</th>\n",
       "      <th>label</th>\n",
       "    </tr>\n",
       "  </thead>\n",
       "  <tbody>\n",
       "    <tr>\n",
       "      <th>0</th>\n",
       "      <td>16</td>\n",
       "      <td>66530</td>\n",
       "      <td>363</td>\n",
       "      <td>0.005456</td>\n",
       "      <td>1</td>\n",
       "    </tr>\n",
       "    <tr>\n",
       "      <th>1</th>\n",
       "      <td>15</td>\n",
       "      <td>65782</td>\n",
       "      <td>341</td>\n",
       "      <td>0.005184</td>\n",
       "      <td>1</td>\n",
       "    </tr>\n",
       "    <tr>\n",
       "      <th>2</th>\n",
       "      <td>17</td>\n",
       "      <td>65123</td>\n",
       "      <td>377</td>\n",
       "      <td>0.005789</td>\n",
       "      <td>1</td>\n",
       "    </tr>\n",
       "    <tr>\n",
       "      <th>3</th>\n",
       "      <td>14</td>\n",
       "      <td>57685</td>\n",
       "      <td>296</td>\n",
       "      <td>0.005131</td>\n",
       "      <td>1</td>\n",
       "    </tr>\n",
       "    <tr>\n",
       "      <th>4</th>\n",
       "      <td>18</td>\n",
       "      <td>55390</td>\n",
       "      <td>328</td>\n",
       "      <td>0.005922</td>\n",
       "      <td>1</td>\n",
       "    </tr>\n",
       "    <tr>\n",
       "      <th>5</th>\n",
       "      <td>11</td>\n",
       "      <td>54692</td>\n",
       "      <td>235</td>\n",
       "      <td>0.004297</td>\n",
       "      <td>1</td>\n",
       "    </tr>\n",
       "    <tr>\n",
       "      <th>6</th>\n",
       "      <td>12</td>\n",
       "      <td>53194</td>\n",
       "      <td>333</td>\n",
       "      <td>0.006260</td>\n",
       "      <td>1</td>\n",
       "    </tr>\n",
       "    <tr>\n",
       "      <th>7</th>\n",
       "      <td>13</td>\n",
       "      <td>48693</td>\n",
       "      <td>272</td>\n",
       "      <td>0.005586</td>\n",
       "      <td>1</td>\n",
       "    </tr>\n",
       "    <tr>\n",
       "      <th>8</th>\n",
       "      <td>10</td>\n",
       "      <td>47104</td>\n",
       "      <td>187</td>\n",
       "      <td>0.003970</td>\n",
       "      <td>1</td>\n",
       "    </tr>\n",
       "    <tr>\n",
       "      <th>10</th>\n",
       "      <td>09</td>\n",
       "      <td>34581</td>\n",
       "      <td>139</td>\n",
       "      <td>0.004020</td>\n",
       "      <td>1</td>\n",
       "    </tr>\n",
       "    <tr>\n",
       "      <th>13</th>\n",
       "      <td>22</td>\n",
       "      <td>26914</td>\n",
       "      <td>189</td>\n",
       "      <td>0.007022</td>\n",
       "      <td>1</td>\n",
       "    </tr>\n",
       "    <tr>\n",
       "      <th>14</th>\n",
       "      <td>08</td>\n",
       "      <td>23225</td>\n",
       "      <td>98</td>\n",
       "      <td>0.004220</td>\n",
       "      <td>1</td>\n",
       "    </tr>\n",
       "    <tr>\n",
       "      <th>17</th>\n",
       "      <td>07</td>\n",
       "      <td>12977</td>\n",
       "      <td>93</td>\n",
       "      <td>0.007167</td>\n",
       "      <td>1</td>\n",
       "    </tr>\n",
       "  </tbody>\n",
       "</table>\n",
       "</div>"
      ],
      "text/plain": [
       "   Heure  NTrans  fraude    Fratio  label\n",
       "0     16   66530     363  0.005456      1\n",
       "1     15   65782     341  0.005184      1\n",
       "2     17   65123     377  0.005789      1\n",
       "3     14   57685     296  0.005131      1\n",
       "4     18   55390     328  0.005922      1\n",
       "5     11   54692     235  0.004297      1\n",
       "6     12   53194     333  0.006260      1\n",
       "7     13   48693     272  0.005586      1\n",
       "8     10   47104     187  0.003970      1\n",
       "10    09   34581     139  0.004020      1\n",
       "13    22   26914     189  0.007022      1\n",
       "14    08   23225      98  0.004220      1\n",
       "17    07   12977      93  0.007167      1"
      ]
     },
     "execution_count": 125,
     "metadata": {},
     "output_type": "execute_result"
    }
   ],
   "source": [
    "hmerged[hmerged['label']==1]"
   ]
  },
  {
   "cell_type": "markdown",
   "id": "55811e00",
   "metadata": {},
   "source": [
    "Fraudes are more frequent during night hours even if it is possible that they are constant during the day and the thing which changes the most is the number of transactions during the day."
   ]
  },
  {
   "cell_type": "markdown",
   "id": "fd4c11d3",
   "metadata": {},
   "source": [
    "## Checking possible seasonalities."
   ]
  },
  {
   "cell_type": "code",
   "execution_count": 126,
   "id": "dd766442",
   "metadata": {},
   "outputs": [
    {
     "data": {
      "text/html": [
       "<div>\n",
       "<style scoped>\n",
       "    .dataframe tbody tr th:only-of-type {\n",
       "        vertical-align: middle;\n",
       "    }\n",
       "\n",
       "    .dataframe tbody tr th {\n",
       "        vertical-align: top;\n",
       "    }\n",
       "\n",
       "    .dataframe thead th {\n",
       "        text-align: right;\n",
       "    }\n",
       "</style>\n",
       "<table border=\"1\" class=\"dataframe\">\n",
       "  <thead>\n",
       "    <tr style=\"text-align: right;\">\n",
       "      <th></th>\n",
       "      <th>fraude</th>\n",
       "    </tr>\n",
       "    <tr>\n",
       "      <th>Month</th>\n",
       "      <th></th>\n",
       "    </tr>\n",
       "  </thead>\n",
       "  <tbody>\n",
       "    <tr>\n",
       "      <th>4</th>\n",
       "      <td>495</td>\n",
       "    </tr>\n",
       "    <tr>\n",
       "      <th>2</th>\n",
       "      <td>531</td>\n",
       "    </tr>\n",
       "    <tr>\n",
       "      <th>11</th>\n",
       "      <td>562</td>\n",
       "    </tr>\n",
       "    <tr>\n",
       "      <th>3</th>\n",
       "      <td>622</td>\n",
       "    </tr>\n",
       "    <tr>\n",
       "      <th>5</th>\n",
       "      <td>689</td>\n",
       "    </tr>\n",
       "    <tr>\n",
       "      <th>1</th>\n",
       "      <td>696</td>\n",
       "    </tr>\n",
       "    <tr>\n",
       "      <th>12</th>\n",
       "      <td>730</td>\n",
       "    </tr>\n",
       "    <tr>\n",
       "      <th>6</th>\n",
       "      <td>747</td>\n",
       "    </tr>\n",
       "  </tbody>\n",
       "</table>\n",
       "</div>"
      ],
      "text/plain": [
       "       fraude\n",
       "Month        \n",
       "4         495\n",
       "2         531\n",
       "11        562\n",
       "3         622\n",
       "5         689\n",
       "1         696\n",
       "12        730\n",
       "6         747"
      ]
     },
     "execution_count": 126,
     "metadata": {},
     "output_type": "execute_result"
    }
   ],
   "source": [
    "summ= train.groupby(\"Month\").sum()[[\"fraude\"]]\n",
    "summ.sort_values(by=\"fraude\")"
   ]
  },
  {
   "cell_type": "code",
   "execution_count": 127,
   "id": "ca1db424",
   "metadata": {},
   "outputs": [],
   "source": [
    "mcount = pd.Series(train[\"Month\"]).value_counts()\n",
    "mcount = pd.DataFrame(mcount)\n",
    "mcount = mcount.rename(columns={\"Month\":\"NTrans\"})"
   ]
  },
  {
   "cell_type": "code",
   "execution_count": 128,
   "id": "6daac7cf",
   "metadata": {},
   "outputs": [
    {
     "data": {
      "image/png": "[encoded data removed]",
      "text/plain": [
       "<Figure size 432x288 with 1 Axes>"
      ]
     },
     "metadata": {
      "needs_background": "light"
     },
     "output_type": "display_data"
    }
   ],
   "source": [
    "mmerged = pd.merge(mcount, summ, left_index=True, right_index=True)\n",
    "mmerged.reset_index(inplace=True)\n",
    "mmerged = mmerged.rename(columns={\"index\":\"Month\"})\n",
    "mmerged[\"Fratio\"] = mmerged[\"fraude\"]/mmerged[\"NTrans\"]\n",
    "mmerged[\"Fratio\"].plot(kind = 'hist');"
   ]
  },
  {
   "cell_type": "code",
   "execution_count": 129,
   "id": "6ee116ff",
   "metadata": {},
   "outputs": [
    {
     "data": {
      "image/png": "[encoded data removed]",
      "text/plain": [
       "<Figure size 432x288 with 1 Axes>"
      ]
     },
     "metadata": {
      "needs_background": "light"
     },
     "output_type": "display_data"
    }
   ],
   "source": [
    "kmeans = KMeans(n_clusters=2, init='random', n_init=1000)\n",
    "mmerged['label'] = kmeans.fit_predict(mmerged[['Fratio']])\n",
    "ax = mmerged[mmerged['label']==0].plot.scatter(x='Fratio', y='label', s=50, color='white', edgecolor='black')\n",
    "mmerged[mmerged['label']==1].plot.scatter(x='Fratio', y='label', s=50, color='white', ax=ax, edgecolor='red')\n",
    "plt.scatter(kmeans.cluster_centers_.ravel(), [0.5]*len(kmeans.cluster_centers_), s=100, color='green', marker='*');"
   ]
  },
  {
   "cell_type": "code",
   "execution_count": 130,
   "id": "ec743e73",
   "metadata": {},
   "outputs": [
    {
     "data": {
      "text/html": [
       "<div>\n",
       "<style scoped>\n",
       "    .dataframe tbody tr th:only-of-type {\n",
       "        vertical-align: middle;\n",
       "    }\n",
       "\n",
       "    .dataframe tbody tr th {\n",
       "        vertical-align: top;\n",
       "    }\n",
       "\n",
       "    .dataframe thead th {\n",
       "        text-align: right;\n",
       "    }\n",
       "</style>\n",
       "<table border=\"1\" class=\"dataframe\">\n",
       "  <thead>\n",
       "    <tr style=\"text-align: right;\">\n",
       "      <th></th>\n",
       "      <th>Month</th>\n",
       "      <th>NTrans</th>\n",
       "      <th>fraude</th>\n",
       "      <th>Fratio</th>\n",
       "      <th>label</th>\n",
       "    </tr>\n",
       "  </thead>\n",
       "  <tbody>\n",
       "    <tr>\n",
       "      <th>2</th>\n",
       "      <td>6</td>\n",
       "      <td>107543</td>\n",
       "      <td>747</td>\n",
       "      <td>0.006946</td>\n",
       "      <td>1</td>\n",
       "    </tr>\n",
       "    <tr>\n",
       "      <th>4</th>\n",
       "      <td>12</td>\n",
       "      <td>96164</td>\n",
       "      <td>730</td>\n",
       "      <td>0.007591</td>\n",
       "      <td>1</td>\n",
       "    </tr>\n",
       "    <tr>\n",
       "      <th>7</th>\n",
       "      <td>1</td>\n",
       "      <td>86233</td>\n",
       "      <td>696</td>\n",
       "      <td>0.008071</td>\n",
       "      <td>1</td>\n",
       "    </tr>\n",
       "  </tbody>\n",
       "</table>\n",
       "</div>"
      ],
      "text/plain": [
       "   Month  NTrans  fraude    Fratio  label\n",
       "2      6  107543     747  0.006946      1\n",
       "4     12   96164     730  0.007591      1\n",
       "7      1   86233     696  0.008071      1"
      ]
     },
     "execution_count": 130,
     "metadata": {},
     "output_type": "execute_result"
    }
   ],
   "source": [
    "mmerged[mmerged['label']==1]"
   ]
  },
  {
   "cell_type": "code",
   "execution_count": 131,
   "id": "1553667c",
   "metadata": {},
   "outputs": [
    {
     "data": {
      "text/html": [
       "<div>\n",
       "<style scoped>\n",
       "    .dataframe tbody tr th:only-of-type {\n",
       "        vertical-align: middle;\n",
       "    }\n",
       "\n",
       "    .dataframe tbody tr th {\n",
       "        vertical-align: top;\n",
       "    }\n",
       "\n",
       "    .dataframe thead th {\n",
       "        text-align: right;\n",
       "    }\n",
       "</style>\n",
       "<table border=\"1\" class=\"dataframe\">\n",
       "  <thead>\n",
       "    <tr style=\"text-align: right;\">\n",
       "      <th></th>\n",
       "      <th>Month</th>\n",
       "      <th>NTrans</th>\n",
       "      <th>fraude</th>\n",
       "      <th>Fratio</th>\n",
       "      <th>label</th>\n",
       "    </tr>\n",
       "  </thead>\n",
       "  <tbody>\n",
       "    <tr>\n",
       "      <th>0</th>\n",
       "      <td>5</td>\n",
       "      <td>119275</td>\n",
       "      <td>689</td>\n",
       "      <td>0.005777</td>\n",
       "      <td>0</td>\n",
       "    </tr>\n",
       "    <tr>\n",
       "      <th>1</th>\n",
       "      <td>4</td>\n",
       "      <td>114400</td>\n",
       "      <td>495</td>\n",
       "      <td>0.004327</td>\n",
       "      <td>0</td>\n",
       "    </tr>\n",
       "    <tr>\n",
       "      <th>3</th>\n",
       "      <td>3</td>\n",
       "      <td>98875</td>\n",
       "      <td>622</td>\n",
       "      <td>0.006291</td>\n",
       "      <td>0</td>\n",
       "    </tr>\n",
       "    <tr>\n",
       "      <th>5</th>\n",
       "      <td>2</td>\n",
       "      <td>95150</td>\n",
       "      <td>531</td>\n",
       "      <td>0.005581</td>\n",
       "      <td>0</td>\n",
       "    </tr>\n",
       "    <tr>\n",
       "      <th>6</th>\n",
       "      <td>11</td>\n",
       "      <td>88362</td>\n",
       "      <td>562</td>\n",
       "      <td>0.006360</td>\n",
       "      <td>0</td>\n",
       "    </tr>\n",
       "  </tbody>\n",
       "</table>\n",
       "</div>"
      ],
      "text/plain": [
       "   Month  NTrans  fraude    Fratio  label\n",
       "0      5  119275     689  0.005777      0\n",
       "1      4  114400     495  0.004327      0\n",
       "3      3   98875     622  0.006291      0\n",
       "5      2   95150     531  0.005581      0\n",
       "6     11   88362     562  0.006360      0"
      ]
     },
     "execution_count": 131,
     "metadata": {},
     "output_type": "execute_result"
    }
   ],
   "source": [
    "mmerged[mmerged['label']==0]"
   ]
  },
  {
   "cell_type": "markdown",
   "id": "3620e45b",
   "metadata": {},
   "source": [
    "In this case I can't see a difference in frauds given the month."
   ]
  },
  {
   "cell_type": "markdown",
   "id": "c8cb77b8",
   "metadata": {},
   "source": [
    "# Modelisation"
   ]
  },
  {
   "cell_type": "code",
   "execution_count": 132,
   "id": "349c39e7",
   "metadata": {},
   "outputs": [],
   "source": [
    "X_train = X_train.drop(columns=[\"Heure\",\"Month\"]) # Can be held eventually\n",
    "X_test = X_test.drop(columns=[\"Heure\",\"Month\"]) # Can be held eventually"
   ]
  },
  {
   "cell_type": "markdown",
   "id": "8c93eda7",
   "metadata": {},
   "source": [
    "## Random Forest for base model"
   ]
  },
  {
   "cell_type": "code",
   "execution_count": 44,
   "id": "1de133d7",
   "metadata": {},
   "outputs": [],
   "source": [
    "from sklearn.model_selection import train_test_split\n",
    "from sklearn.ensemble import RandomForestClassifier\n",
    "from skopt import BayesSearchCV\n",
    "from skopt.space import Real, Integer,Categorical\n",
    "from timeit import default_timer as timer\n",
    "from sklearn.metrics import roc_curve, auc\n",
    "import matplotlib.pyplot as plt\n",
    "from sklearn.metrics import precision_recall_curve"
   ]
  },
  {
   "cell_type": "code",
   "execution_count": 46,
   "id": "3a00aac5",
   "metadata": {},
   "outputs": [
    {
     "name": "stdout",
     "output_type": "stream",
     "text": [
      " #### RECHERCHE DES PARAMETRES OPTIMAUX POUR LE RANDOM FOREST #### \n",
      " \n",
      " Durée de recherche en seconde :\n",
      "2517.2420313000002\n",
      "\n",
      " Paramètres optimaux : \n",
      "OrderedDict([('bootstrap', False), ('criterion', 'entropy'), ('max_depth', 10), ('n_estimators', 152)])\n",
      "\n",
      " Résultats  : 0.8110954897230045\n"
     ]
    }
   ],
   "source": [
    "# param_dict_bayes_RF = {\n",
    "#     'n_estimators' : Integer(10,200),\n",
    "#     'criterion': Categorical(['gini', 'entropy']), \n",
    "#     'max_depth': Integer(3,10),\n",
    "#     'bootstrap':Categorical([True,False])}\n",
    "\n",
    "# NB_ITER = 5\n",
    "\n",
    "# opt = BayesSearchCV(RandomForestClassifier(),param_dict_bayes_RF,n_iter=NB_ITER,cv=5,scoring = 'roc_auc')\n",
    "\n",
    "# start = timer()  \n",
    "# opt.fit(X_train, Y_train)\n",
    "# delais = timer()- start\n",
    "# best_param_opti_bayes = opt.best_params_\n",
    "# best_score_opti_bayes = opt.best_score_\n",
    "# all_result_opti_bayes = opt.cv_results_\n",
    "# print(\" #### RECHERCHE DES PARAMETRES OPTIMAUX POUR LE RANDOM FOREST #### \")\n",
    "# print(\" \\n Durée de recherche en seconde :\")\n",
    "# print(delais)\n",
    "# print(\"\\n Paramètres optimaux : \")\n",
    "# best_param_opti_bayes =opt.best_params_\n",
    "# print(best_param_opti_bayes)\n",
    "# best_score_opti_bayes = opt.best_score_\n",
    "# print(\"\\n Résultats  : \" + str(best_score_opti_bayes))"
   ]
  },
  {
   "cell_type": "code",
   "execution_count": 90,
   "id": "77128823",
   "metadata": {},
   "outputs": [
    {
     "data": {
      "image/png": "[encoded data removed]",
      "text/plain": [
       "<Figure size 432x288 with 1 Axes>"
      ]
     },
     "metadata": {
      "needs_background": "light"
     },
     "output_type": "display_data"
    },
    {
     "data": {
      "image/png": "[encoded data removed]",
      "text/plain": [
       "<Figure size 432x288 with 1 Axes>"
      ]
     },
     "metadata": {
      "needs_background": "light"
     },
     "output_type": "display_data"
    }
   ],
   "source": [
    "# rf_clf = RandomForestClassifier(**opt.best_params_)\n",
    "\n",
    "# rf_clf.fit(X_train,Y_train)\n",
    "\n",
    "# #Calcul des métriques\n",
    "\n",
    "# fpr_train_RF, tpr_train_RF, thresholds_train_RF = roc_curve(Y_train, rf_clf.predict_proba(X_train)[:,1])\n",
    "# roc_auc_train_RF = auc(fpr_train_RF, tpr_train_RF)\n",
    "\n",
    "# fpr_test_RF, tpr_test_RF, thresholds_test_RF = roc_curve(Y_test, rf_clf.predict_proba(X_test)[:,1])\n",
    "# roc_auc_test_RF = auc(fpr_test_RF, tpr_test_RF)\n",
    "\n",
    "# plt.figure()\n",
    "# lw = 2\n",
    "# plt.plot(fpr_train_RF, tpr_train_RF, color='darkorange',\n",
    "#          lw=lw, label='Train -RF - ROC curve (area = %0.2f)' % roc_auc_train_RF)\n",
    "# plt.plot(fpr_test_RF, tpr_test_RF, color='darkblue',\n",
    "#          lw=lw, label='Test -RF - ROC curve (area = %0.2f)' % roc_auc_test_RF)\n",
    "\n",
    "# plt.plot([0, 1], [0, 1], color='navy', lw=lw, linestyle='--')\n",
    "# plt.xlim([0.0, 1.0])\n",
    "# plt.ylim([0.0, 1.05])\n",
    "# plt.xlabel('False Positive Rate')\n",
    "# plt.ylabel('True Positive Rate')\n",
    "# plt.title('Comparaison courve ROC Train ')\n",
    "# plt.legend(loc=\"lower right\")\n",
    "# plt.show()\n",
    "\n",
    "\n",
    "\n",
    "# ### COURBES PRECISION RAPPEL\n",
    "\n",
    "# precision_train_RF, recall_train_RF, thresholds_train_RF = precision_recall_curve(Y_train,\n",
    "#                                                                          rf_clf.predict_proba(X_train)[:,1])\n",
    "\n",
    "# precision_test_RF, recall_test_RF, thresholds_test_RF = precision_recall_curve(Y_test,\n",
    "#                                                                          rf_clf.predict_proba(X_test)[:,1])\n",
    "\n",
    "# plt.figure()\n",
    "# lw = 2\n",
    "# plt.plot(recall_train_RF,precision_train_RF, color='darkorange',\n",
    "#          lw=lw, label='Train - RF')\n",
    "# plt.plot(recall_test_RF,precision_test_RF, color='darkblue',\n",
    "#          lw=lw, label='Test - RF')\n",
    "# plt.xlim([0.0, 1.0])\n",
    "# plt.ylim([0.0, 1.05])\n",
    "# plt.xlabel('Recall')\n",
    "# plt.ylabel('Precision')\n",
    "# plt.title('Comparaison courbe PRECISION / RAPPEL')\n",
    "# plt.legend(loc=\"lower left\")\n",
    "# plt.show()"
   ]
  },
  {
   "cell_type": "code",
   "execution_count": 133,
   "id": "66c1abba",
   "metadata": {},
   "outputs": [
    {
     "name": "stdout",
     "output_type": "stream",
     "text": [
      "Les 10 variables les plus importantes : \n",
      "\n"
     ]
    },
    {
     "data": {
      "text/html": [
       "<div>\n",
       "<style scoped>\n",
       "    .dataframe tbody tr th:only-of-type {\n",
       "        vertical-align: middle;\n",
       "    }\n",
       "\n",
       "    .dataframe tbody tr th {\n",
       "        vertical-align: top;\n",
       "    }\n",
       "\n",
       "    .dataframe thead th {\n",
       "        text-align: right;\n",
       "    }\n",
       "</style>\n",
       "<table border=\"1\" class=\"dataframe\">\n",
       "  <thead>\n",
       "    <tr style=\"text-align: right;\">\n",
       "      <th></th>\n",
       "      <th>Variable</th>\n",
       "      <th>Feature Importance</th>\n",
       "    </tr>\n",
       "  </thead>\n",
       "  <tbody>\n",
       "    <tr>\n",
       "      <th>9</th>\n",
       "      <td>FM_Sum_24</td>\n",
       "      <td>0.175370</td>\n",
       "    </tr>\n",
       "    <tr>\n",
       "      <th>5</th>\n",
       "      <td>FM_Velocity_Condition_24</td>\n",
       "      <td>0.145146</td>\n",
       "    </tr>\n",
       "    <tr>\n",
       "      <th>4</th>\n",
       "      <td>FM_Velocity_Condition_12</td>\n",
       "      <td>0.078680</td>\n",
       "    </tr>\n",
       "    <tr>\n",
       "      <th>8</th>\n",
       "      <td>FM_Sum_12</td>\n",
       "      <td>0.077987</td>\n",
       "    </tr>\n",
       "    <tr>\n",
       "      <th>7</th>\n",
       "      <td>FM_Sum_6</td>\n",
       "      <td>0.066749</td>\n",
       "    </tr>\n",
       "    <tr>\n",
       "      <th>3</th>\n",
       "      <td>FM_Velocity_Condition_6</td>\n",
       "      <td>0.066550</td>\n",
       "    </tr>\n",
       "    <tr>\n",
       "      <th>1</th>\n",
       "      <td>Montant</td>\n",
       "      <td>0.062316</td>\n",
       "    </tr>\n",
       "    <tr>\n",
       "      <th>6</th>\n",
       "      <td>FM_Sum_3</td>\n",
       "      <td>0.049883</td>\n",
       "    </tr>\n",
       "    <tr>\n",
       "      <th>18</th>\n",
       "      <td>Pays_ris</td>\n",
       "      <td>0.043784</td>\n",
       "    </tr>\n",
       "    <tr>\n",
       "      <th>2</th>\n",
       "      <td>FM_Velocity_Condition_3</td>\n",
       "      <td>0.042803</td>\n",
       "    </tr>\n",
       "  </tbody>\n",
       "</table>\n",
       "</div>"
      ],
      "text/plain": [
       "                    Variable  Feature Importance\n",
       "9                  FM_Sum_24            0.175370\n",
       "5   FM_Velocity_Condition_24            0.145146\n",
       "4   FM_Velocity_Condition_12            0.078680\n",
       "8                  FM_Sum_12            0.077987\n",
       "7                   FM_Sum_6            0.066749\n",
       "3    FM_Velocity_Condition_6            0.066550\n",
       "1                    Montant            0.062316\n",
       "6                   FM_Sum_3            0.049883\n",
       "18                  Pays_ris            0.043784\n",
       "2    FM_Velocity_Condition_3            0.042803"
      ]
     },
     "execution_count": 133,
     "metadata": {},
     "output_type": "execute_result"
    }
   ],
   "source": [
    "importance_variable_rf = pd.DataFrame()\n",
    "importance_variable_rf[\"Variable\"]= X_train.columns.tolist()\n",
    "importance_variable_rf[\"Feature Importance\"] = rf_clf.feature_importances_\n",
    "\n",
    "importance_variable_rf.sort_values(by = \"Feature Importance\", axis=0, ascending=False, inplace=True)\n",
    "\n",
    "print(\"Les 10 variables les plus importantes : \\n\")\n",
    "importance_variable_rf.head(10)"
   ]
  },
  {
   "cell_type": "markdown",
   "id": "80970298",
   "metadata": {},
   "source": [
    "### Without country risk"
   ]
  },
  {
   "cell_type": "code",
   "execution_count": 135,
   "id": "9066a00f",
   "metadata": {},
   "outputs": [],
   "source": [
    "X_train2 = X_train.drop(columns=[\"Pays_ris\"]) # Can be held eventually\n",
    "X_test2 = X_test.drop(columns=[\"Pays_ris\"]) # Can be held eventually"
   ]
  },
  {
   "cell_type": "code",
   "execution_count": 137,
   "id": "d9a3412b",
   "metadata": {},
   "outputs": [
    {
     "name": "stdout",
     "output_type": "stream",
     "text": [
      " #### RECHERCHE DES PARAMETRES OPTIMAUX POUR LE RANDOM FOREST #### \n",
      " \n",
      " Durée de recherche en seconde :\n",
      "2892.6683301999983\n",
      "\n",
      " Paramètres optimaux : \n",
      "OrderedDict([('bootstrap', True), ('criterion', 'entropy'), ('max_depth', 6), ('n_estimators', 141)])\n",
      "\n",
      " Résultats  : 0.8001867113682548\n"
     ]
    }
   ],
   "source": [
    "param_dict_bayes_RF = {\n",
    "    'n_estimators' : Integer(10,200),\n",
    "    'criterion': Categorical(['gini', 'entropy']), \n",
    "    'max_depth': Integer(3,10),\n",
    "    'bootstrap':Categorical([True,False])}\n",
    "\n",
    "NB_ITER = 5\n",
    "\n",
    "opt = BayesSearchCV(RandomForestClassifier(),param_dict_bayes_RF,n_iter=NB_ITER,cv=5,scoring = 'roc_auc')\n",
    "\n",
    "start = timer()  \n",
    "opt.fit(X_train2, Y_train)\n",
    "delais = timer()- start\n",
    "best_param_opti_bayes = opt.best_params_\n",
    "best_score_opti_bayes = opt.best_score_\n",
    "all_result_opti_bayes = opt.cv_results_\n",
    "print(\" #### RECHERCHE DES PARAMETRES OPTIMAUX POUR LE RANDOM FOREST #### \")\n",
    "print(\" \\n Durée de recherche en seconde :\")\n",
    "print(delais)\n",
    "print(\"\\n Paramètres optimaux : \")\n",
    "best_param_opti_bayes =opt.best_params_\n",
    "print(best_param_opti_bayes)\n",
    "best_score_opti_bayes = opt.best_score_\n",
    "print(\"\\n Résultats  : \" + str(best_score_opti_bayes))"
   ]
  },
  {
   "cell_type": "code",
   "execution_count": 139,
   "id": "25a1c284",
   "metadata": {},
   "outputs": [
    {
     "data": {
      "image/png": "[encoded data removed]",
      "text/plain": [
       "<Figure size 432x288 with 1 Axes>"
      ]
     },
     "metadata": {
      "needs_background": "light"
     },
     "output_type": "display_data"
    },
    {
     "data": {
      "image/png": "[encoded data removed]",
      "text/plain": [
       "<Figure size 432x288 with 1 Axes>"
      ]
     },
     "metadata": {
      "needs_background": "light"
     },
     "output_type": "display_data"
    }
   ],
   "source": [
    "rf_clf = RandomForestClassifier(**opt.best_params_)\n",
    "\n",
    "rf_clf.fit(X_train2,Y_train)\n",
    "\n",
    "#Calcul des métriques\n",
    "\n",
    "fpr_train_RF, tpr_train_RF, thresholds_train_RF = roc_curve(Y_train, rf_clf.predict_proba(X_train2)[:,1])\n",
    "roc_auc_train_RF = auc(fpr_train_RF, tpr_train_RF)\n",
    "\n",
    "fpr_test_RF, tpr_test_RF, thresholds_test_RF = roc_curve(Y_test, rf_clf.predict_proba(X_test2)[:,1])\n",
    "roc_auc_test_RF = auc(fpr_test_RF, tpr_test_RF)\n",
    "\n",
    "plt.figure()\n",
    "lw = 2\n",
    "plt.plot(fpr_train_RF, tpr_train_RF, color='darkorange',\n",
    "         lw=lw, label='Train -RF - ROC curve (area = %0.2f)' % roc_auc_train_RF)\n",
    "plt.plot(fpr_test_RF, tpr_test_RF, color='darkblue',\n",
    "         lw=lw, label='Test -RF - ROC curve (area = %0.2f)' % roc_auc_test_RF)\n",
    "\n",
    "plt.plot([0, 1], [0, 1], color='navy', lw=lw, linestyle='--')\n",
    "plt.xlim([0.0, 1.0])\n",
    "plt.ylim([0.0, 1.05])\n",
    "plt.xlabel('False Positive Rate')\n",
    "plt.ylabel('True Positive Rate')\n",
    "plt.title('Comparaison courve ROC Train ')\n",
    "plt.legend(loc=\"lower right\")\n",
    "plt.show()\n",
    "\n",
    "\n",
    "\n",
    "### COURBES PRECISION RAPPEL\n",
    "\n",
    "precision_train_RF, recall_train_RF, thresholds_train_RF = precision_recall_curve(Y_train,\n",
    "                                                                         rf_clf.predict_proba(X_train2)[:,1])\n",
    "\n",
    "precision_test_RF, recall_test_RF, thresholds_test_RF = precision_recall_curve(Y_test,\n",
    "                                                                         rf_clf.predict_proba(X_test2)[:,1])\n",
    "\n",
    "plt.figure()\n",
    "lw = 2\n",
    "plt.plot(recall_train_RF,precision_train_RF, color='darkorange',\n",
    "         lw=lw, label='Train - RF')\n",
    "plt.plot(recall_test_RF,precision_test_RF, color='darkblue',\n",
    "         lw=lw, label='Test - RF')\n",
    "plt.xlim([0.0, 1.0])\n",
    "plt.ylim([0.0, 1.05])\n",
    "plt.xlabel('Recall')\n",
    "plt.ylabel('Precision')\n",
    "plt.title('Comparaison courbe PRECISION / RAPPEL')\n",
    "plt.legend(loc=\"lower left\")\n",
    "plt.show()"
   ]
  },
  {
   "cell_type": "code",
   "execution_count": null,
   "id": "2b70ec46",
   "metadata": {},
   "outputs": [],
   "source": [
    "import scikitplot as skplt\n",
    "\n",
    "plt.figure(figsize=(7,7))\n",
    "Y_predict_proba = rf_clf.predict_proba(X_test)\n",
    "skplt.metrics.plot_lift_curve(Y_test,Y_predict_proba  )\n",
    "plt.show()\n",
    "plt.show()"
   ]
  }
 ],
 "metadata": {
  "kernelspec": {
   "display_name": "Python 3 (ipykernel)",
   "language": "python",
   "name": "python3"
  },
  "language_info": {
   "codemirror_mode": {
    "name": "ipython",
    "version": 3
   },
   "file_extension": ".py",
   "mimetype": "text/x-python",
   "name": "python",
   "nbconvert_exporter": "python",
   "pygments_lexer": "ipython3",
   "version": "3.9.7"
  }
 },
 "nbformat": 4,
 "nbformat_minor": 5
}
