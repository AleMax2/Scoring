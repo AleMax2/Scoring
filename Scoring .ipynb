{
 "cells": [
  {
   "cell_type": "markdown",
   "id": "1388a6e2",
   "metadata": {},
   "source": [
    "# Scoring\n",
    "#### Gros probleme, la variable fraude a seulement 7246 on peut avoir un modele bete que previse toujours 0...."
   ]
  },
  {
   "cell_type": "code",
   "execution_count": null,
   "id": "08e4faec",
   "metadata": {},
   "outputs": [],
   "source": [
    "import pandas as pd"
   ]
  },
  {
   "cell_type": "code",
   "execution_count": 3,
   "id": "e4eb0442",
   "metadata": {},
   "outputs": [],
   "source": [
    "data = pd.read_csv(\"D:\\\\Universita\\\\STatistica\\\\TIDE\\\\Deeplearn\\\\Scoring\\\\autorisations.csv\")"
   ]
  },
  {
   "cell_type": "code",
   "execution_count": 4,
   "id": "e0124585",
   "metadata": {},
   "outputs": [
    {
     "data": {
      "text/html": [
       "<div>\n",
       "<style scoped>\n",
       "    .dataframe tbody tr th:only-of-type {\n",
       "        vertical-align: middle;\n",
       "    }\n",
       "\n",
       "    .dataframe tbody tr th {\n",
       "        vertical-align: top;\n",
       "    }\n",
       "\n",
       "    .dataframe thead th {\n",
       "        text-align: right;\n",
       "    }\n",
       "</style>\n",
       "<table border=\"1\" class=\"dataframe\">\n",
       "  <thead>\n",
       "    <tr style=\"text-align: right;\">\n",
       "      <th></th>\n",
       "      <th>Carte</th>\n",
       "      <th>Pays</th>\n",
       "      <th>Date</th>\n",
       "      <th>Heure</th>\n",
       "      <th>dateheure</th>\n",
       "      <th>CodeRep</th>\n",
       "      <th>MCC</th>\n",
       "      <th>Montant</th>\n",
       "      <th>fraude</th>\n",
       "      <th>FM_Velocity_Condition_3</th>\n",
       "      <th>...</th>\n",
       "      <th>FM_Sum_12</th>\n",
       "      <th>FM_Sum_24</th>\n",
       "      <th>FM_Redondance_MCC_3</th>\n",
       "      <th>FM_Redondance_MCC_6</th>\n",
       "      <th>FM_Redondance_MCC_12</th>\n",
       "      <th>FM_Redondance_MCC_24</th>\n",
       "      <th>FM_Difference_Pays_3</th>\n",
       "      <th>FM_Difference_Pays_6</th>\n",
       "      <th>FM_Difference_Pays_12</th>\n",
       "      <th>FM_Difference_Pays_24</th>\n",
       "    </tr>\n",
       "  </thead>\n",
       "  <tbody>\n",
       "    <tr>\n",
       "      <th>0</th>\n",
       "      <td>0</td>\n",
       "      <td>840</td>\n",
       "      <td>02/12/2003</td>\n",
       "      <td>17:47:52</td>\n",
       "      <td>02/12/2003</td>\n",
       "      <td>15</td>\n",
       "      <td>5812</td>\n",
       "      <td>69.25</td>\n",
       "      <td>0</td>\n",
       "      <td>0</td>\n",
       "      <td>...</td>\n",
       "      <td>69.25</td>\n",
       "      <td>69.25</td>\n",
       "      <td>1</td>\n",
       "      <td>1</td>\n",
       "      <td>1</td>\n",
       "      <td>1</td>\n",
       "      <td>1</td>\n",
       "      <td>1</td>\n",
       "      <td>1</td>\n",
       "      <td>1</td>\n",
       "    </tr>\n",
       "    <tr>\n",
       "      <th>1</th>\n",
       "      <td>1</td>\n",
       "      <td>158</td>\n",
       "      <td>25/11/2003</td>\n",
       "      <td>06:00:20</td>\n",
       "      <td>25/11/2003</td>\n",
       "      <td>15</td>\n",
       "      <td>5311</td>\n",
       "      <td>1.00</td>\n",
       "      <td>0</td>\n",
       "      <td>0</td>\n",
       "      <td>...</td>\n",
       "      <td>1.00</td>\n",
       "      <td>1.00</td>\n",
       "      <td>1</td>\n",
       "      <td>1</td>\n",
       "      <td>1</td>\n",
       "      <td>1</td>\n",
       "      <td>1</td>\n",
       "      <td>1</td>\n",
       "      <td>1</td>\n",
       "      <td>1</td>\n",
       "    </tr>\n",
       "    <tr>\n",
       "      <th>2</th>\n",
       "      <td>2</td>\n",
       "      <td>826</td>\n",
       "      <td>12/11/2003</td>\n",
       "      <td>14:10:57</td>\n",
       "      <td>12/11/2003</td>\n",
       "      <td>15</td>\n",
       "      <td>5211</td>\n",
       "      <td>516.95</td>\n",
       "      <td>0</td>\n",
       "      <td>0</td>\n",
       "      <td>...</td>\n",
       "      <td>516.95</td>\n",
       "      <td>516.95</td>\n",
       "      <td>1</td>\n",
       "      <td>1</td>\n",
       "      <td>1</td>\n",
       "      <td>1</td>\n",
       "      <td>1</td>\n",
       "      <td>1</td>\n",
       "      <td>1</td>\n",
       "      <td>1</td>\n",
       "    </tr>\n",
       "    <tr>\n",
       "      <th>3</th>\n",
       "      <td>3</td>\n",
       "      <td>840</td>\n",
       "      <td>07/11/2003</td>\n",
       "      <td>03:41:55</td>\n",
       "      <td>07/11/2003</td>\n",
       "      <td>14</td>\n",
       "      <td>7399</td>\n",
       "      <td>0.01</td>\n",
       "      <td>0</td>\n",
       "      <td>0</td>\n",
       "      <td>...</td>\n",
       "      <td>0.01</td>\n",
       "      <td>0.01</td>\n",
       "      <td>1</td>\n",
       "      <td>1</td>\n",
       "      <td>1</td>\n",
       "      <td>1</td>\n",
       "      <td>1</td>\n",
       "      <td>1</td>\n",
       "      <td>1</td>\n",
       "      <td>1</td>\n",
       "    </tr>\n",
       "    <tr>\n",
       "      <th>4</th>\n",
       "      <td>4</td>\n",
       "      <td>158</td>\n",
       "      <td>23/11/2003</td>\n",
       "      <td>05:07:03</td>\n",
       "      <td>23/11/2003</td>\n",
       "      <td>15</td>\n",
       "      <td>5311</td>\n",
       "      <td>1.00</td>\n",
       "      <td>0</td>\n",
       "      <td>0</td>\n",
       "      <td>...</td>\n",
       "      <td>1.00</td>\n",
       "      <td>1.00</td>\n",
       "      <td>1</td>\n",
       "      <td>1</td>\n",
       "      <td>1</td>\n",
       "      <td>1</td>\n",
       "      <td>1</td>\n",
       "      <td>1</td>\n",
       "      <td>1</td>\n",
       "      <td>1</td>\n",
       "    </tr>\n",
       "  </tbody>\n",
       "</table>\n",
       "<p>5 rows × 25 columns</p>\n",
       "</div>"
      ],
      "text/plain": [
       "   Carte  Pays        Date     Heure   dateheure  CodeRep   MCC  Montant  \\\n",
       "0      0   840  02/12/2003  17:47:52  02/12/2003       15  5812    69.25   \n",
       "1      1   158  25/11/2003  06:00:20  25/11/2003       15  5311     1.00   \n",
       "2      2   826  12/11/2003  14:10:57  12/11/2003       15  5211   516.95   \n",
       "3      3   840  07/11/2003  03:41:55  07/11/2003       14  7399     0.01   \n",
       "4      4   158  23/11/2003  05:07:03  23/11/2003       15  5311     1.00   \n",
       "\n",
       "   fraude  FM_Velocity_Condition_3  ...  FM_Sum_12  FM_Sum_24  \\\n",
       "0       0                        0  ...      69.25      69.25   \n",
       "1       0                        0  ...       1.00       1.00   \n",
       "2       0                        0  ...     516.95     516.95   \n",
       "3       0                        0  ...       0.01       0.01   \n",
       "4       0                        0  ...       1.00       1.00   \n",
       "\n",
       "   FM_Redondance_MCC_3  FM_Redondance_MCC_6  FM_Redondance_MCC_12  \\\n",
       "0                    1                    1                     1   \n",
       "1                    1                    1                     1   \n",
       "2                    1                    1                     1   \n",
       "3                    1                    1                     1   \n",
       "4                    1                    1                     1   \n",
       "\n",
       "   FM_Redondance_MCC_24  FM_Difference_Pays_3  FM_Difference_Pays_6  \\\n",
       "0                     1                     1                     1   \n",
       "1                     1                     1                     1   \n",
       "2                     1                     1                     1   \n",
       "3                     1                     1                     1   \n",
       "4                     1                     1                     1   \n",
       "\n",
       "   FM_Difference_Pays_12  FM_Difference_Pays_24  \n",
       "0                      1                      1  \n",
       "1                      1                      1  \n",
       "2                      1                      1  \n",
       "3                      1                      1  \n",
       "4                      1                      1  \n",
       "\n",
       "[5 rows x 25 columns]"
      ]
     },
     "execution_count": 4,
     "metadata": {},
     "output_type": "execute_result"
    }
   ],
   "source": [
    "data.head()"
   ]
  },
  {
   "cell_type": "code",
   "execution_count": 6,
   "id": "6efeae85",
   "metadata": {},
   "outputs": [
    {
     "data": {
      "text/plain": [
       "(1151432, 25)"
      ]
     },
     "execution_count": 6,
     "metadata": {},
     "output_type": "execute_result"
    }
   ],
   "source": [
    "data.shape"
   ]
  },
  {
   "cell_type": "code",
   "execution_count": 7,
   "id": "ff749514",
   "metadata": {},
   "outputs": [
    {
     "data": {
      "text/plain": [
       "Carte                         int64\n",
       "Pays                          int64\n",
       "Date                         object\n",
       "Heure                        object\n",
       "dateheure                    object\n",
       "CodeRep                       int64\n",
       "MCC                           int64\n",
       "Montant                     float64\n",
       "fraude                        int64\n",
       "FM_Velocity_Condition_3       int64\n",
       "FM_Velocity_Condition_6       int64\n",
       "FM_Velocity_Condition_12      int64\n",
       "FM_Velocity_Condition_24      int64\n",
       "FM_Sum_3                    float64\n",
       "FM_Sum_6                    float64\n",
       "FM_Sum_12                   float64\n",
       "FM_Sum_24                   float64\n",
       "FM_Redondance_MCC_3           int64\n",
       "FM_Redondance_MCC_6           int64\n",
       "FM_Redondance_MCC_12          int64\n",
       "FM_Redondance_MCC_24          int64\n",
       "FM_Difference_Pays_3          int64\n",
       "FM_Difference_Pays_6          int64\n",
       "FM_Difference_Pays_12         int64\n",
       "FM_Difference_Pays_24         int64\n",
       "dtype: object"
      ]
     },
     "execution_count": 7,
     "metadata": {},
     "output_type": "execute_result"
    }
   ],
   "source": [
    "data.dtypes"
   ]
  },
  {
   "cell_type": "code",
   "execution_count": 16,
   "id": "39edeaf0",
   "metadata": {},
   "outputs": [],
   "source": [
    "data['fraude'] = data['fraude'].astype('bool')"
   ]
  },
  {
   "cell_type": "code",
   "execution_count": 20,
   "id": "c75a919b",
   "metadata": {},
   "outputs": [
    {
     "data": {
      "text/plain": [
       "7246"
      ]
     },
     "execution_count": 20,
     "metadata": {},
     "output_type": "execute_result"
    }
   ],
   "source": [
    "sum(data['fraude'])"
   ]
  },
  {
   "cell_type": "code",
   "execution_count": 18,
   "id": "96c6e78c",
   "metadata": {},
   "outputs": [
    {
     "data": {
      "text/plain": [
       "Carte                         int64\n",
       "Pays                          int64\n",
       "Date                         object\n",
       "Heure                        object\n",
       "dateheure                    object\n",
       "CodeRep                       int64\n",
       "MCC                           int64\n",
       "Montant                     float64\n",
       "fraude                         bool\n",
       "FM_Velocity_Condition_3       int64\n",
       "FM_Velocity_Condition_6       int64\n",
       "FM_Velocity_Condition_12      int64\n",
       "FM_Velocity_Condition_24      int64\n",
       "FM_Sum_3                    float64\n",
       "FM_Sum_6                    float64\n",
       "FM_Sum_12                   float64\n",
       "FM_Sum_24                   float64\n",
       "FM_Redondance_MCC_3           int64\n",
       "FM_Redondance_MCC_6           int64\n",
       "FM_Redondance_MCC_12          int64\n",
       "FM_Redondance_MCC_24          int64\n",
       "FM_Difference_Pays_3          int64\n",
       "FM_Difference_Pays_6          int64\n",
       "FM_Difference_Pays_12         int64\n",
       "FM_Difference_Pays_24         int64\n",
       "dtype: object"
      ]
     },
     "execution_count": 18,
     "metadata": {},
     "output_type": "execute_result"
    }
   ],
   "source": [
    "data.dtypes"
   ]
  },
  {
   "cell_type": "code",
   "execution_count": 26,
   "id": "578d76e4",
   "metadata": {},
   "outputs": [],
   "source": [
    "info_df_num = data.describe()\n",
    "info_types = pd.DataFrame(data.dtypes)"
   ]
  },
  {
   "cell_type": "code",
   "execution_count": 24,
   "id": "29f03140",
   "metadata": {},
   "outputs": [
    {
     "name": "stdout",
     "output_type": "stream",
     "text": [
      "                   variables  Nb value distinct  Nb value missing  \\\n",
      "0                      Carte             198044                 0   \n",
      "1                       Pays                167                 0   \n",
      "2                    CodeRep                 15                 0   \n",
      "3                        MCC                662                 0   \n",
      "4                    Montant              81202                 0   \n",
      "5    FM_Velocity_Condition_3                 47                 0   \n",
      "6    FM_Velocity_Condition_6                 82                 0   \n",
      "7   FM_Velocity_Condition_12                111                 0   \n",
      "8   FM_Velocity_Condition_24                130                 0   \n",
      "9                   FM_Sum_3             109836                 0   \n",
      "10                  FM_Sum_6             115524                 0   \n",
      "11                 FM_Sum_12             121192                 0   \n",
      "12                 FM_Sum_24             134264                 0   \n",
      "13       FM_Redondance_MCC_3                 39                 0   \n",
      "14       FM_Redondance_MCC_6                 39                 0   \n",
      "15      FM_Redondance_MCC_12                 46                 0   \n",
      "16      FM_Redondance_MCC_24                 59                 0   \n",
      "17      FM_Difference_Pays_3                 10                 0   \n",
      "18      FM_Difference_Pays_6                 15                 0   \n",
      "19     FM_Difference_Pays_12                 15                 0   \n",
      "20     FM_Difference_Pays_24                 17                 0   \n",
      "\n",
      "    %Modalité_missing  \n",
      "0                 0.0  \n",
      "1                 0.0  \n",
      "2                 0.0  \n",
      "3                 0.0  \n",
      "4                 0.0  \n",
      "5                 0.0  \n",
      "6                 0.0  \n",
      "7                 0.0  \n",
      "8                 0.0  \n",
      "9                 0.0  \n",
      "10                0.0  \n",
      "11                0.0  \n",
      "12                0.0  \n",
      "13                0.0  \n",
      "14                0.0  \n",
      "15                0.0  \n",
      "16                0.0  \n",
      "17                0.0  \n",
      "18                0.0  \n",
      "19                0.0  \n",
      "20                0.0  \n"
     ]
    }
   ],
   "source": [
    "nb_nan = []\n",
    "nb_distincts =[]\n",
    "for v in info_df_num.columns.tolist():\n",
    "    nb_nan.append(data[v].isnull().sum())\n",
    "    nb_distincts.append(len(set(data[v])))\n",
    "    \n",
    "info_df_num_2 = pd.DataFrame()\n",
    "info_df_num_2 [\"variables\"] = info_df_num.columns.tolist()\n",
    "info_df_num_2[\"Nb value distinct\"] = nb_distincts\n",
    "info_df_num_2[\"Nb value missing\"] = nb_nan \n",
    "info_df_num_2[\"%Modalité_missing\"] = info_df_num_2[\"Nb value missing\"]/len(data)\n",
    "\n",
    "print(info_df_num_2)"
   ]
  },
  {
   "cell_type": "code",
   "execution_count": 28,
   "id": "cdda7c06",
   "metadata": {},
   "outputs": [
    {
     "name": "stdout",
     "output_type": "stream",
     "text": [
      "   variables  Nb value distinct  Nb value missing\n",
      "0       Date                243                 0\n",
      "1      Heure              85697                 0\n",
      "2  dateheure                243                 0\n"
     ]
    }
   ],
   "source": [
    "list_var_cat = info_types[info_types[0]==\"object\"].index.tolist()\n",
    "\n",
    "info_df_cat = pd.DataFrame()\n",
    "nb_nan = []\n",
    "nb_distincts =[]\n",
    "for v in list_var_cat :\n",
    "    nb_nan.append(data[v].isnull().sum())\n",
    "    nb_distincts.append(len(set(data[v])))\n",
    "    \n",
    "info_df_cat[\"variables\"] = list_var_cat\n",
    "info_df_cat[\"Nb value distinct\"] = nb_distincts\n",
    "info_df_cat[\"Nb value missing\"] = nb_nan\n",
    "\n",
    "print(info_df_cat)"
   ]
  },
  {
   "cell_type": "code",
   "execution_count": null,
   "id": "1386b687",
   "metadata": {},
   "outputs": [],
   "source": []
  }
 ],
 "metadata": {
  "kernelspec": {
   "display_name": "Python 3 (ipykernel)",
   "language": "python",
   "name": "python3"
  },
  "language_info": {
   "codemirror_mode": {
    "name": "ipython",
    "version": 3
   },
   "file_extension": ".py",
   "mimetype": "text/x-python",
   "name": "python",
   "nbconvert_exporter": "python",
   "pygments_lexer": "ipython3",
   "version": "3.9.7"
  }
 },
 "nbformat": 4,
 "nbformat_minor": 5
}
