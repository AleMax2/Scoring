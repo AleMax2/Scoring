{
 "cells": [
  {
   "cell_type": "markdown",
   "id": "1388a6e2",
   "metadata": {},
   "source": [
    "# Scoring\n",
    "#### Gros probleme, la variable fraude a seulement 7246 on peut avoir un modele bete que previse toujours 0...."
   ]
  },
  {
   "cell_type": "code",
   "execution_count": 1,
   "id": "08e4faec",
   "metadata": {},
   "outputs": [],
   "source": [
    "import pandas as pd\n",
    "import numpy as np\n",
    "import seaborn as sns"
   ]
  },
  {
   "cell_type": "code",
   "execution_count": 2,
   "id": "e4eb0442",
   "metadata": {},
   "outputs": [],
   "source": [
    "data = pd.read_csv(\"/Users/macbook/Documents/Documentos/M2 TIDE/Scoring/autorisations.csv\")"
   ]
  },
  {
   "cell_type": "code",
   "execution_count": 3,
   "id": "e0124585",
   "metadata": {},
   "outputs": [
    {
     "data": {
      "text/html": [
       "<div>\n",
       "<style scoped>\n",
       "    .dataframe tbody tr th:only-of-type {\n",
       "        vertical-align: middle;\n",
       "    }\n",
       "\n",
       "    .dataframe tbody tr th {\n",
       "        vertical-align: top;\n",
       "    }\n",
       "\n",
       "    .dataframe thead th {\n",
       "        text-align: right;\n",
       "    }\n",
       "</style>\n",
       "<table border=\"1\" class=\"dataframe\">\n",
       "  <thead>\n",
       "    <tr style=\"text-align: right;\">\n",
       "      <th></th>\n",
       "      <th>Carte</th>\n",
       "      <th>Pays</th>\n",
       "      <th>Date</th>\n",
       "      <th>Heure</th>\n",
       "      <th>dateheure</th>\n",
       "      <th>CodeRep</th>\n",
       "      <th>MCC</th>\n",
       "      <th>Montant</th>\n",
       "      <th>fraude</th>\n",
       "      <th>FM_Velocity_Condition_3</th>\n",
       "      <th>...</th>\n",
       "      <th>FM_Sum_12</th>\n",
       "      <th>FM_Sum_24</th>\n",
       "      <th>FM_Redondance_MCC_3</th>\n",
       "      <th>FM_Redondance_MCC_6</th>\n",
       "      <th>FM_Redondance_MCC_12</th>\n",
       "      <th>FM_Redondance_MCC_24</th>\n",
       "      <th>FM_Difference_Pays_3</th>\n",
       "      <th>FM_Difference_Pays_6</th>\n",
       "      <th>FM_Difference_Pays_12</th>\n",
       "      <th>FM_Difference_Pays_24</th>\n",
       "    </tr>\n",
       "  </thead>\n",
       "  <tbody>\n",
       "    <tr>\n",
       "      <th>0</th>\n",
       "      <td>0</td>\n",
       "      <td>840</td>\n",
       "      <td>02/12/2003</td>\n",
       "      <td>17:47:52</td>\n",
       "      <td>02/12/2003</td>\n",
       "      <td>15</td>\n",
       "      <td>5812</td>\n",
       "      <td>69.25</td>\n",
       "      <td>0</td>\n",
       "      <td>0</td>\n",
       "      <td>...</td>\n",
       "      <td>69.25</td>\n",
       "      <td>69.25</td>\n",
       "      <td>1</td>\n",
       "      <td>1</td>\n",
       "      <td>1</td>\n",
       "      <td>1</td>\n",
       "      <td>1</td>\n",
       "      <td>1</td>\n",
       "      <td>1</td>\n",
       "      <td>1</td>\n",
       "    </tr>\n",
       "    <tr>\n",
       "      <th>1</th>\n",
       "      <td>1</td>\n",
       "      <td>158</td>\n",
       "      <td>25/11/2003</td>\n",
       "      <td>06:00:20</td>\n",
       "      <td>25/11/2003</td>\n",
       "      <td>15</td>\n",
       "      <td>5311</td>\n",
       "      <td>1.00</td>\n",
       "      <td>0</td>\n",
       "      <td>0</td>\n",
       "      <td>...</td>\n",
       "      <td>1.00</td>\n",
       "      <td>1.00</td>\n",
       "      <td>1</td>\n",
       "      <td>1</td>\n",
       "      <td>1</td>\n",
       "      <td>1</td>\n",
       "      <td>1</td>\n",
       "      <td>1</td>\n",
       "      <td>1</td>\n",
       "      <td>1</td>\n",
       "    </tr>\n",
       "    <tr>\n",
       "      <th>2</th>\n",
       "      <td>2</td>\n",
       "      <td>826</td>\n",
       "      <td>12/11/2003</td>\n",
       "      <td>14:10:57</td>\n",
       "      <td>12/11/2003</td>\n",
       "      <td>15</td>\n",
       "      <td>5211</td>\n",
       "      <td>516.95</td>\n",
       "      <td>0</td>\n",
       "      <td>0</td>\n",
       "      <td>...</td>\n",
       "      <td>516.95</td>\n",
       "      <td>516.95</td>\n",
       "      <td>1</td>\n",
       "      <td>1</td>\n",
       "      <td>1</td>\n",
       "      <td>1</td>\n",
       "      <td>1</td>\n",
       "      <td>1</td>\n",
       "      <td>1</td>\n",
       "      <td>1</td>\n",
       "    </tr>\n",
       "    <tr>\n",
       "      <th>3</th>\n",
       "      <td>3</td>\n",
       "      <td>840</td>\n",
       "      <td>07/11/2003</td>\n",
       "      <td>03:41:55</td>\n",
       "      <td>07/11/2003</td>\n",
       "      <td>14</td>\n",
       "      <td>7399</td>\n",
       "      <td>0.01</td>\n",
       "      <td>0</td>\n",
       "      <td>0</td>\n",
       "      <td>...</td>\n",
       "      <td>0.01</td>\n",
       "      <td>0.01</td>\n",
       "      <td>1</td>\n",
       "      <td>1</td>\n",
       "      <td>1</td>\n",
       "      <td>1</td>\n",
       "      <td>1</td>\n",
       "      <td>1</td>\n",
       "      <td>1</td>\n",
       "      <td>1</td>\n",
       "    </tr>\n",
       "    <tr>\n",
       "      <th>4</th>\n",
       "      <td>4</td>\n",
       "      <td>158</td>\n",
       "      <td>23/11/2003</td>\n",
       "      <td>05:07:03</td>\n",
       "      <td>23/11/2003</td>\n",
       "      <td>15</td>\n",
       "      <td>5311</td>\n",
       "      <td>1.00</td>\n",
       "      <td>0</td>\n",
       "      <td>0</td>\n",
       "      <td>...</td>\n",
       "      <td>1.00</td>\n",
       "      <td>1.00</td>\n",
       "      <td>1</td>\n",
       "      <td>1</td>\n",
       "      <td>1</td>\n",
       "      <td>1</td>\n",
       "      <td>1</td>\n",
       "      <td>1</td>\n",
       "      <td>1</td>\n",
       "      <td>1</td>\n",
       "    </tr>\n",
       "  </tbody>\n",
       "</table>\n",
       "<p>5 rows × 25 columns</p>\n",
       "</div>"
      ],
      "text/plain": [
       "   Carte  Pays        Date     Heure   dateheure  CodeRep   MCC  Montant  \\\n",
       "0      0   840  02/12/2003  17:47:52  02/12/2003       15  5812    69.25   \n",
       "1      1   158  25/11/2003  06:00:20  25/11/2003       15  5311     1.00   \n",
       "2      2   826  12/11/2003  14:10:57  12/11/2003       15  5211   516.95   \n",
       "3      3   840  07/11/2003  03:41:55  07/11/2003       14  7399     0.01   \n",
       "4      4   158  23/11/2003  05:07:03  23/11/2003       15  5311     1.00   \n",
       "\n",
       "   fraude  FM_Velocity_Condition_3  ...  FM_Sum_12  FM_Sum_24  \\\n",
       "0       0                        0  ...      69.25      69.25   \n",
       "1       0                        0  ...       1.00       1.00   \n",
       "2       0                        0  ...     516.95     516.95   \n",
       "3       0                        0  ...       0.01       0.01   \n",
       "4       0                        0  ...       1.00       1.00   \n",
       "\n",
       "   FM_Redondance_MCC_3  FM_Redondance_MCC_6  FM_Redondance_MCC_12  \\\n",
       "0                    1                    1                     1   \n",
       "1                    1                    1                     1   \n",
       "2                    1                    1                     1   \n",
       "3                    1                    1                     1   \n",
       "4                    1                    1                     1   \n",
       "\n",
       "   FM_Redondance_MCC_24  FM_Difference_Pays_3  FM_Difference_Pays_6  \\\n",
       "0                     1                     1                     1   \n",
       "1                     1                     1                     1   \n",
       "2                     1                     1                     1   \n",
       "3                     1                     1                     1   \n",
       "4                     1                     1                     1   \n",
       "\n",
       "   FM_Difference_Pays_12  FM_Difference_Pays_24  \n",
       "0                      1                      1  \n",
       "1                      1                      1  \n",
       "2                      1                      1  \n",
       "3                      1                      1  \n",
       "4                      1                      1  \n",
       "\n",
       "[5 rows x 25 columns]"
      ]
     },
     "execution_count": 3,
     "metadata": {},
     "output_type": "execute_result"
    }
   ],
   "source": [
    "data.head()"
   ]
  },
  {
   "cell_type": "code",
   "execution_count": 4,
   "id": "6efeae85",
   "metadata": {},
   "outputs": [
    {
     "data": {
      "text/plain": [
       "(1151432, 25)"
      ]
     },
     "execution_count": 4,
     "metadata": {},
     "output_type": "execute_result"
    }
   ],
   "source": [
    "data.shape"
   ]
  },
  {
   "cell_type": "code",
   "execution_count": 5,
   "id": "ff749514",
   "metadata": {},
   "outputs": [
    {
     "data": {
      "text/plain": [
       "Carte                         int64\n",
       "Pays                          int64\n",
       "Date                         object\n",
       "Heure                        object\n",
       "dateheure                    object\n",
       "CodeRep                       int64\n",
       "MCC                           int64\n",
       "Montant                     float64\n",
       "fraude                        int64\n",
       "FM_Velocity_Condition_3       int64\n",
       "FM_Velocity_Condition_6       int64\n",
       "FM_Velocity_Condition_12      int64\n",
       "FM_Velocity_Condition_24      int64\n",
       "FM_Sum_3                    float64\n",
       "FM_Sum_6                    float64\n",
       "FM_Sum_12                   float64\n",
       "FM_Sum_24                   float64\n",
       "FM_Redondance_MCC_3           int64\n",
       "FM_Redondance_MCC_6           int64\n",
       "FM_Redondance_MCC_12          int64\n",
       "FM_Redondance_MCC_24          int64\n",
       "FM_Difference_Pays_3          int64\n",
       "FM_Difference_Pays_6          int64\n",
       "FM_Difference_Pays_12         int64\n",
       "FM_Difference_Pays_24         int64\n",
       "dtype: object"
      ]
     },
     "execution_count": 5,
     "metadata": {},
     "output_type": "execute_result"
    }
   ],
   "source": [
    "data.dtypes"
   ]
  },
  {
   "cell_type": "code",
   "execution_count": 6,
   "id": "babe4331",
   "metadata": {},
   "outputs": [
    {
     "data": {
      "text/plain": [
       "Carte                          int64\n",
       "Pays                        category\n",
       "Date                          object\n",
       "Heure                         object\n",
       "dateheure                     object\n",
       "CodeRep                     category\n",
       "MCC                         category\n",
       "Montant                      float64\n",
       "fraude                         int64\n",
       "FM_Velocity_Condition_3        int64\n",
       "FM_Velocity_Condition_6        int64\n",
       "FM_Velocity_Condition_12       int64\n",
       "FM_Velocity_Condition_24       int64\n",
       "FM_Sum_3                     float64\n",
       "FM_Sum_6                     float64\n",
       "FM_Sum_12                    float64\n",
       "FM_Sum_24                    float64\n",
       "FM_Redondance_MCC_3            int64\n",
       "FM_Redondance_MCC_6            int64\n",
       "FM_Redondance_MCC_12           int64\n",
       "FM_Redondance_MCC_24           int64\n",
       "FM_Difference_Pays_3           int64\n",
       "FM_Difference_Pays_6           int64\n",
       "FM_Difference_Pays_12          int64\n",
       "FM_Difference_Pays_24          int64\n",
       "dtype: object"
      ]
     },
     "execution_count": 6,
     "metadata": {},
     "output_type": "execute_result"
    }
   ],
   "source": [
    "# Certaines colonnes qui devraient être des categories sont int\n",
    "# Colonnes à convertir en categories\n",
    "\n",
    "to_categorical = [\"Pays\", \"CodeRep\", \"MCC\"]\n",
    "data[to_categorical] = data[to_categorical].astype('category')\n",
    "data.dtypes"
   ]
  },
  {
   "cell_type": "code",
   "execution_count": 7,
   "id": "39edeaf0",
   "metadata": {},
   "outputs": [],
   "source": [
    "data['fraude'] = data['fraude'].astype('bool')"
   ]
  },
  {
   "cell_type": "code",
   "execution_count": 8,
   "id": "c75a919b",
   "metadata": {},
   "outputs": [
    {
     "data": {
      "text/plain": [
       "7246"
      ]
     },
     "execution_count": 8,
     "metadata": {},
     "output_type": "execute_result"
    }
   ],
   "source": [
    "sum(data['fraude'])"
   ]
  },
  {
   "cell_type": "code",
   "execution_count": 9,
   "id": "96c6e78c",
   "metadata": {},
   "outputs": [
    {
     "data": {
      "text/plain": [
       "Carte                          int64\n",
       "Pays                        category\n",
       "Date                          object\n",
       "Heure                         object\n",
       "dateheure                     object\n",
       "CodeRep                     category\n",
       "MCC                         category\n",
       "Montant                      float64\n",
       "fraude                          bool\n",
       "FM_Velocity_Condition_3        int64\n",
       "FM_Velocity_Condition_6        int64\n",
       "FM_Velocity_Condition_12       int64\n",
       "FM_Velocity_Condition_24       int64\n",
       "FM_Sum_3                     float64\n",
       "FM_Sum_6                     float64\n",
       "FM_Sum_12                    float64\n",
       "FM_Sum_24                    float64\n",
       "FM_Redondance_MCC_3            int64\n",
       "FM_Redondance_MCC_6            int64\n",
       "FM_Redondance_MCC_12           int64\n",
       "FM_Redondance_MCC_24           int64\n",
       "FM_Difference_Pays_3           int64\n",
       "FM_Difference_Pays_6           int64\n",
       "FM_Difference_Pays_12          int64\n",
       "FM_Difference_Pays_24          int64\n",
       "dtype: object"
      ]
     },
     "execution_count": 9,
     "metadata": {},
     "output_type": "execute_result"
    }
   ],
   "source": [
    "data.dtypes"
   ]
  },
  {
   "cell_type": "code",
   "execution_count": 10,
   "id": "578d76e4",
   "metadata": {},
   "outputs": [],
   "source": [
    "info_df_num = data.describe()\n",
    "info_types = pd.DataFrame(data.dtypes)"
   ]
  },
  {
   "cell_type": "code",
   "execution_count": 11,
   "id": "29f03140",
   "metadata": {},
   "outputs": [
    {
     "name": "stdout",
     "output_type": "stream",
     "text": [
      "                   variables  Nb value distinct  Nb value missing  \\\n",
      "0                      Carte             198044                 0   \n",
      "1                    Montant              81202                 0   \n",
      "2    FM_Velocity_Condition_3                 47                 0   \n",
      "3    FM_Velocity_Condition_6                 82                 0   \n",
      "4   FM_Velocity_Condition_12                111                 0   \n",
      "5   FM_Velocity_Condition_24                130                 0   \n",
      "6                   FM_Sum_3             109836                 0   \n",
      "7                   FM_Sum_6             115524                 0   \n",
      "8                  FM_Sum_12             121192                 0   \n",
      "9                  FM_Sum_24             134264                 0   \n",
      "10       FM_Redondance_MCC_3                 39                 0   \n",
      "11       FM_Redondance_MCC_6                 39                 0   \n",
      "12      FM_Redondance_MCC_12                 46                 0   \n",
      "13      FM_Redondance_MCC_24                 59                 0   \n",
      "14      FM_Difference_Pays_3                 10                 0   \n",
      "15      FM_Difference_Pays_6                 15                 0   \n",
      "16     FM_Difference_Pays_12                 15                 0   \n",
      "17     FM_Difference_Pays_24                 17                 0   \n",
      "\n",
      "    %Modalité_missing  \n",
      "0                 0.0  \n",
      "1                 0.0  \n",
      "2                 0.0  \n",
      "3                 0.0  \n",
      "4                 0.0  \n",
      "5                 0.0  \n",
      "6                 0.0  \n",
      "7                 0.0  \n",
      "8                 0.0  \n",
      "9                 0.0  \n",
      "10                0.0  \n",
      "11                0.0  \n",
      "12                0.0  \n",
      "13                0.0  \n",
      "14                0.0  \n",
      "15                0.0  \n",
      "16                0.0  \n",
      "17                0.0  \n"
     ]
    }
   ],
   "source": [
    "nb_nan = []\n",
    "nb_distincts =[]\n",
    "for v in info_df_num.columns.tolist():\n",
    "    nb_nan.append(data[v].isnull().sum())\n",
    "    nb_distincts.append(len(set(data[v])))\n",
    "    \n",
    "info_df_num_2 = pd.DataFrame()\n",
    "info_df_num_2 [\"variables\"] = info_df_num.columns.tolist()\n",
    "info_df_num_2[\"Nb value distinct\"] = nb_distincts\n",
    "info_df_num_2[\"Nb value missing\"] = nb_nan \n",
    "info_df_num_2[\"%Modalité_missing\"] = info_df_num_2[\"Nb value missing\"]/len(data)\n",
    "\n",
    "print(info_df_num_2)"
   ]
  },
  {
   "cell_type": "code",
   "execution_count": 12,
   "id": "cdda7c06",
   "metadata": {},
   "outputs": [
    {
     "name": "stdout",
     "output_type": "stream",
     "text": [
      "   variables  Nb value distinct  Nb value missing\n",
      "0       Pays                167                 0\n",
      "1       Date                243                 0\n",
      "2      Heure              85697                 0\n",
      "3  dateheure                243                 0\n",
      "4    CodeRep                 15                 0\n",
      "5        MCC                661                 0\n"
     ]
    }
   ],
   "source": [
    "list_var_cat = info_types[(info_types[0]==\"object\") | (info_types[0]==\"category\")].index.tolist()\n",
    "\n",
    "info_df_cat = pd.DataFrame()\n",
    "nb_nan = []\n",
    "nb_distincts =[]\n",
    "for v in list_var_cat :\n",
    "    nb_nan.append(data[v].isnull().sum())\n",
    "    nb_distincts.append(len(set(data[v])))\n",
    "    \n",
    "info_df_cat[\"variables\"] = list_var_cat\n",
    "info_df_cat[\"Nb value distinct\"] = nb_distincts\n",
    "info_df_cat[\"Nb value missing\"] = nb_nan\n",
    "\n",
    "print(info_df_cat)"
   ]
  },
  {
   "cell_type": "markdown",
   "id": "d4c820b7",
   "metadata": {},
   "source": [
    "### Traitement des données"
   ]
  },
  {
   "cell_type": "code",
   "execution_count": 13,
   "id": "c5de9b11",
   "metadata": {},
   "outputs": [],
   "source": [
    "# Problème avec trop de categories par variable\n",
    "# solution proposé : \n",
    "# 1. On recupère juste l'heure dans la variables Heure (actuellement il y a les minutes et secondes)\n",
    "# 2. On recupère le mois dans la date (Hypothèse: Pendant les mois de vacances les fraudes pourraient augmenter)\n",
    "# 3. On transforme la variable CodeRep en indicatrice si la demandé a été acepté (les 0 devient de 1) ou non (0)\n",
    "# 4. On regroupe les pays par continent"
   ]
  },
  {
   "cell_type": "code",
   "execution_count": 14,
   "id": "c8ec00d4",
   "metadata": {},
   "outputs": [],
   "source": [
    "data[\"Heure\"] = data[\"Heure\"].str.split(':', expand=True)[0]\n",
    "data[\"Heure\"] = data[\"Heure\"].astype(int)"
   ]
  },
  {
   "cell_type": "code",
   "execution_count": 15,
   "id": "ef34dcf6",
   "metadata": {},
   "outputs": [],
   "source": [
    "data.loc[(data[\"Heure\"]>6) & (data[\"Heure\"]<12), \"Parties_Jour\"] = 'Matinée'\n",
    "data.loc[(data[\"Heure\"]>12) & (data[\"Heure\"]<18), \"Parties_Jour\"] = 'Après-midi'\n",
    "data.loc[(data[\"Heure\"]>18) & (data[\"Heure\"]<6), \"Parties_Jour\"] = 'Nuit'"
   ]
  },
  {
   "cell_type": "code",
   "execution_count": 16,
   "id": "47d17027",
   "metadata": {},
   "outputs": [],
   "source": [
    "data[\"Date\"] = pd.to_datetime(data[\"Date\"], format='%d/%m/%Y')"
   ]
  },
  {
   "cell_type": "code",
   "execution_count": 17,
   "id": "e2a87332",
   "metadata": {},
   "outputs": [],
   "source": [
    "data[\"Month\"] = data[\"Date\"].dt.month"
   ]
  },
  {
   "cell_type": "code",
   "execution_count": 18,
   "id": "d10a4fe8",
   "metadata": {},
   "outputs": [],
   "source": [
    "data[\"Month\"] = data[\"Month\"].astype('object')"
   ]
  },
  {
   "cell_type": "code",
   "execution_count": 19,
   "id": "ea42a396",
   "metadata": {},
   "outputs": [],
   "source": [
    "data[\"CodeRep\"]=np.where(data[\"CodeRep\"] == 0,1,0)"
   ]
  },
  {
   "cell_type": "code",
   "execution_count": 20,
   "id": "652fbb98",
   "metadata": {},
   "outputs": [],
   "source": [
    "continents = pd.read_excel(\"continents.xlsx\", index_col = \"Code numérique\")"
   ]
  },
  {
   "cell_type": "code",
   "execution_count": 21,
   "id": "516c0d3c",
   "metadata": {},
   "outputs": [],
   "source": [
    "data[\"Continent\"] = data['Pays'].map(continents[\"Continent\"])"
   ]
  },
  {
   "cell_type": "code",
   "execution_count": 22,
   "id": "ab10ae31",
   "metadata": {},
   "outputs": [],
   "source": [
    "data[\"Continent\"] = np.where(data[\"Pays\"]==891, 'Europe', data[\"Continent\"])\n",
    "data[\"Continent\"] = np.where(data[\"Pays\"]==530, 'Amérique du Nord', data[\"Continent\"])\n",
    "data[\"Continent\"] = np.where((data[\"Pays\"]==999)|(data[\"Pays\"]==900), 'Unknown', data[\"Continent\"])"
   ]
  },
  {
   "cell_type": "code",
   "execution_count": 24,
   "id": "bac88b37",
   "metadata": {},
   "outputs": [
    {
     "data": {
      "text/html": [
       "<div>\n",
       "<style scoped>\n",
       "    .dataframe tbody tr th:only-of-type {\n",
       "        vertical-align: middle;\n",
       "    }\n",
       "\n",
       "    .dataframe tbody tr th {\n",
       "        vertical-align: top;\n",
       "    }\n",
       "\n",
       "    .dataframe thead th {\n",
       "        text-align: right;\n",
       "    }\n",
       "</style>\n",
       "<table border=\"1\" class=\"dataframe\">\n",
       "  <thead>\n",
       "    <tr style=\"text-align: right;\">\n",
       "      <th></th>\n",
       "      <th>fraude</th>\n",
       "    </tr>\n",
       "    <tr>\n",
       "      <th>Pays</th>\n",
       "      <th></th>\n",
       "    </tr>\n",
       "  </thead>\n",
       "  <tbody>\n",
       "    <tr>\n",
       "      <th>8</th>\n",
       "      <td>0</td>\n",
       "    </tr>\n",
       "    <tr>\n",
       "      <th>508</th>\n",
       "      <td>0</td>\n",
       "    </tr>\n",
       "    <tr>\n",
       "      <th>498</th>\n",
       "      <td>0</td>\n",
       "    </tr>\n",
       "    <tr>\n",
       "      <th>496</th>\n",
       "      <td>0</td>\n",
       "    </tr>\n",
       "    <tr>\n",
       "      <th>492</th>\n",
       "      <td>0</td>\n",
       "    </tr>\n",
       "    <tr>\n",
       "      <th>...</th>\n",
       "      <td>...</td>\n",
       "    </tr>\n",
       "    <tr>\n",
       "      <th>56</th>\n",
       "      <td>545</td>\n",
       "    </tr>\n",
       "    <tr>\n",
       "      <th>380</th>\n",
       "      <td>711</td>\n",
       "    </tr>\n",
       "    <tr>\n",
       "      <th>840</th>\n",
       "      <td>922</td>\n",
       "    </tr>\n",
       "    <tr>\n",
       "      <th>826</th>\n",
       "      <td>954</td>\n",
       "    </tr>\n",
       "    <tr>\n",
       "      <th>724</th>\n",
       "      <td>1245</td>\n",
       "    </tr>\n",
       "  </tbody>\n",
       "</table>\n",
       "<p>167 rows × 1 columns</p>\n",
       "</div>"
      ],
      "text/plain": [
       "      fraude\n",
       "Pays        \n",
       "8          0\n",
       "508        0\n",
       "498        0\n",
       "496        0\n",
       "492        0\n",
       "...      ...\n",
       "56       545\n",
       "380      711\n",
       "840      922\n",
       "826      954\n",
       "724     1245\n",
       "\n",
       "[167 rows x 1 columns]"
      ]
     },
     "execution_count": 24,
     "metadata": {},
     "output_type": "execute_result"
    }
   ],
   "source": [
    "summa= data.groupby(\"Pays\").sum()[[\"fraude\"]]\n",
    "summa.sort_values(by=\"fraude\")"
   ]
  },
  {
   "cell_type": "code",
   "execution_count": 25,
   "id": "51ffae04",
   "metadata": {},
   "outputs": [],
   "source": [
    "summa['FD'] = summa.index.map(continents[\"FD\"])"
   ]
  },
  {
   "cell_type": "code",
   "execution_count": 26,
   "id": "a92c70fd",
   "metadata": {},
   "outputs": [
    {
     "data": {
      "text/html": [
       "<div>\n",
       "<style scoped>\n",
       "    .dataframe tbody tr th:only-of-type {\n",
       "        vertical-align: middle;\n",
       "    }\n",
       "\n",
       "    .dataframe tbody tr th {\n",
       "        vertical-align: top;\n",
       "    }\n",
       "\n",
       "    .dataframe thead th {\n",
       "        text-align: right;\n",
       "    }\n",
       "</style>\n",
       "<table border=\"1\" class=\"dataframe\">\n",
       "  <thead>\n",
       "    <tr style=\"text-align: right;\">\n",
       "      <th></th>\n",
       "      <th>fraude</th>\n",
       "      <th>FD</th>\n",
       "    </tr>\n",
       "  </thead>\n",
       "  <tbody>\n",
       "    <tr>\n",
       "      <th>fraude</th>\n",
       "      <td>1.000000</td>\n",
       "      <td>0.513135</td>\n",
       "    </tr>\n",
       "    <tr>\n",
       "      <th>FD</th>\n",
       "      <td>0.513135</td>\n",
       "      <td>1.000000</td>\n",
       "    </tr>\n",
       "  </tbody>\n",
       "</table>\n",
       "</div>"
      ],
      "text/plain": [
       "          fraude        FD\n",
       "fraude  1.000000  0.513135\n",
       "FD      0.513135  1.000000"
      ]
     },
     "execution_count": 26,
     "metadata": {},
     "output_type": "execute_result"
    }
   ],
   "source": [
    "summa.corr()"
   ]
  },
  {
   "cell_type": "code",
   "execution_count": 27,
   "id": "7689e81f",
   "metadata": {},
   "outputs": [
    {
     "data": {
      "text/html": [
       "<div>\n",
       "<style scoped>\n",
       "    .dataframe tbody tr th:only-of-type {\n",
       "        vertical-align: middle;\n",
       "    }\n",
       "\n",
       "    .dataframe tbody tr th {\n",
       "        vertical-align: top;\n",
       "    }\n",
       "\n",
       "    .dataframe thead th {\n",
       "        text-align: right;\n",
       "    }\n",
       "</style>\n",
       "<table border=\"1\" class=\"dataframe\">\n",
       "  <thead>\n",
       "    <tr style=\"text-align: right;\">\n",
       "      <th></th>\n",
       "      <th>fraude</th>\n",
       "      <th>FD</th>\n",
       "    </tr>\n",
       "    <tr>\n",
       "      <th>Pays</th>\n",
       "      <th></th>\n",
       "      <th></th>\n",
       "    </tr>\n",
       "  </thead>\n",
       "  <tbody>\n",
       "    <tr>\n",
       "      <th>20</th>\n",
       "      <td>14</td>\n",
       "      <td>NaN</td>\n",
       "    </tr>\n",
       "    <tr>\n",
       "      <th>60</th>\n",
       "      <td>0</td>\n",
       "      <td>NaN</td>\n",
       "    </tr>\n",
       "    <tr>\n",
       "      <th>92</th>\n",
       "      <td>0</td>\n",
       "      <td>NaN</td>\n",
       "    </tr>\n",
       "    <tr>\n",
       "      <th>136</th>\n",
       "      <td>0</td>\n",
       "      <td>NaN</td>\n",
       "    </tr>\n",
       "    <tr>\n",
       "      <th>158</th>\n",
       "      <td>15</td>\n",
       "      <td>NaN</td>\n",
       "    </tr>\n",
       "    <tr>\n",
       "      <th>175</th>\n",
       "      <td>0</td>\n",
       "      <td>NaN</td>\n",
       "    </tr>\n",
       "    <tr>\n",
       "      <th>184</th>\n",
       "      <td>0</td>\n",
       "      <td>NaN</td>\n",
       "    </tr>\n",
       "    <tr>\n",
       "      <th>192</th>\n",
       "      <td>0</td>\n",
       "      <td>NaN</td>\n",
       "    </tr>\n",
       "    <tr>\n",
       "      <th>254</th>\n",
       "      <td>0</td>\n",
       "      <td>NaN</td>\n",
       "    </tr>\n",
       "    <tr>\n",
       "      <th>275</th>\n",
       "      <td>0</td>\n",
       "      <td>NaN</td>\n",
       "    </tr>\n",
       "    <tr>\n",
       "      <th>312</th>\n",
       "      <td>0</td>\n",
       "      <td>NaN</td>\n",
       "    </tr>\n",
       "    <tr>\n",
       "      <th>316</th>\n",
       "      <td>0</td>\n",
       "      <td>NaN</td>\n",
       "    </tr>\n",
       "    <tr>\n",
       "      <th>474</th>\n",
       "      <td>0</td>\n",
       "      <td>NaN</td>\n",
       "    </tr>\n",
       "    <tr>\n",
       "      <th>492</th>\n",
       "      <td>0</td>\n",
       "      <td>NaN</td>\n",
       "    </tr>\n",
       "    <tr>\n",
       "      <th>530</th>\n",
       "      <td>6</td>\n",
       "      <td>NaN</td>\n",
       "    </tr>\n",
       "    <tr>\n",
       "      <th>540</th>\n",
       "      <td>0</td>\n",
       "      <td>NaN</td>\n",
       "    </tr>\n",
       "    <tr>\n",
       "      <th>630</th>\n",
       "      <td>3</td>\n",
       "      <td>NaN</td>\n",
       "    </tr>\n",
       "    <tr>\n",
       "      <th>638</th>\n",
       "      <td>0</td>\n",
       "      <td>NaN</td>\n",
       "    </tr>\n",
       "    <tr>\n",
       "      <th>660</th>\n",
       "      <td>0</td>\n",
       "      <td>NaN</td>\n",
       "    </tr>\n",
       "    <tr>\n",
       "      <th>666</th>\n",
       "      <td>0</td>\n",
       "      <td>NaN</td>\n",
       "    </tr>\n",
       "    <tr>\n",
       "      <th>716</th>\n",
       "      <td>0</td>\n",
       "      <td>NaN</td>\n",
       "    </tr>\n",
       "    <tr>\n",
       "      <th>796</th>\n",
       "      <td>0</td>\n",
       "      <td>NaN</td>\n",
       "    </tr>\n",
       "    <tr>\n",
       "      <th>850</th>\n",
       "      <td>0</td>\n",
       "      <td>NaN</td>\n",
       "    </tr>\n",
       "    <tr>\n",
       "      <th>891</th>\n",
       "      <td>3</td>\n",
       "      <td>NaN</td>\n",
       "    </tr>\n",
       "    <tr>\n",
       "      <th>900</th>\n",
       "      <td>0</td>\n",
       "      <td>NaN</td>\n",
       "    </tr>\n",
       "    <tr>\n",
       "      <th>999</th>\n",
       "      <td>0</td>\n",
       "      <td>NaN</td>\n",
       "    </tr>\n",
       "  </tbody>\n",
       "</table>\n",
       "</div>"
      ],
      "text/plain": [
       "      fraude  FD\n",
       "Pays            \n",
       "20        14 NaN\n",
       "60         0 NaN\n",
       "92         0 NaN\n",
       "136        0 NaN\n",
       "158       15 NaN\n",
       "175        0 NaN\n",
       "184        0 NaN\n",
       "192        0 NaN\n",
       "254        0 NaN\n",
       "275        0 NaN\n",
       "312        0 NaN\n",
       "316        0 NaN\n",
       "474        0 NaN\n",
       "492        0 NaN\n",
       "530        6 NaN\n",
       "540        0 NaN\n",
       "630        3 NaN\n",
       "638        0 NaN\n",
       "660        0 NaN\n",
       "666        0 NaN\n",
       "716        0 NaN\n",
       "796        0 NaN\n",
       "850        0 NaN\n",
       "891        3 NaN\n",
       "900        0 NaN\n",
       "999        0 NaN"
      ]
     },
     "execution_count": 27,
     "metadata": {},
     "output_type": "execute_result"
    }
   ],
   "source": [
    "summa[summa['FD'].isna()]"
   ]
  },
  {
   "cell_type": "code",
   "execution_count": 28,
   "id": "551fd7d2",
   "metadata": {},
   "outputs": [],
   "source": [
    "data[\"FD\"] = data['Pays'].map(continents[\"FD\"])"
   ]
  },
  {
   "cell_type": "code",
   "execution_count": 29,
   "id": "55a33891",
   "metadata": {},
   "outputs": [],
   "source": [
    "data[\"FD\"] = np.where((data[\"FD\"].isna()) & (data[\"Continent\"]=='Europe'), 0.502679705619812, data[\"FD\"])\n",
    "data[\"FD\"] = np.where((data[\"FD\"].isna()) & ((data[\"Continent\"]=='Asie')|(data[\"Continent\"]=='Océanie')), 0.350481420755386, data[\"FD\"])\n",
    "data[\"FD\"] = np.where((data[\"FD\"].isna()) & (data[\"Continent\"]=='Afrique'), 0.1582290828228, data[\"FD\"])\n",
    "data[\"FD\"] = np.where((data[\"FD\"].isna()) & ((data[\"Continent\"]=='Amérique du Nord')|(data[\"Continent\"]=='Amérique du Sud')), 0.324424803256989, data[\"FD\"])\n",
    "data[\"FD\"] = np.where((data[\"FD\"].isna()) & (data[\"Continent\"]=='Unknown'), 0.319519817829132, data[\"FD\"])"
   ]
  },
  {
   "cell_type": "code",
   "execution_count": 30,
   "id": "58269bbe",
   "metadata": {},
   "outputs": [],
   "source": [
    "#sns.displot(data, x=\"Montant\", hue=\"fraude\",stat=\"density\",common_norm=False)"
   ]
  },
  {
   "cell_type": "code",
   "execution_count": 31,
   "id": "f581a4c5",
   "metadata": {},
   "outputs": [],
   "source": [
    "X = data.drop(columns=[\"fraude\", \"Carte\", \"Date\", \"dateheure\", \"MCC\", \"Pays\", 'Heure'])\n",
    "Y = data[\"fraude\"]"
   ]
  },
  {
   "cell_type": "code",
   "execution_count": 32,
   "id": "7c4f5abd",
   "metadata": {},
   "outputs": [
    {
     "data": {
      "text/plain": [
       "['CodeRep',\n",
       " 'Montant',\n",
       " 'FM_Velocity_Condition_3',\n",
       " 'FM_Velocity_Condition_6',\n",
       " 'FM_Velocity_Condition_12',\n",
       " 'FM_Velocity_Condition_24',\n",
       " 'FM_Sum_3',\n",
       " 'FM_Sum_6',\n",
       " 'FM_Sum_12',\n",
       " 'FM_Sum_24',\n",
       " 'FM_Redondance_MCC_3',\n",
       " 'FM_Redondance_MCC_6',\n",
       " 'FM_Redondance_MCC_12',\n",
       " 'FM_Redondance_MCC_24',\n",
       " 'FM_Difference_Pays_3',\n",
       " 'FM_Difference_Pays_6',\n",
       " 'FM_Difference_Pays_12',\n",
       " 'FM_Difference_Pays_24',\n",
       " 'Parties_Jour',\n",
       " 'Month',\n",
       " 'Continent',\n",
       " 'FD']"
      ]
     },
     "execution_count": 32,
     "metadata": {},
     "output_type": "execute_result"
    }
   ],
   "source": [
    "X.columns.tolist()"
   ]
  },
  {
   "cell_type": "markdown",
   "id": "d8f8729c",
   "metadata": {},
   "source": [
    "### Modélisation "
   ]
  },
  {
   "cell_type": "code",
   "execution_count": 33,
   "id": "e0f2ba95",
   "metadata": {},
   "outputs": [],
   "source": [
    "from sklearn.model_selection import train_test_split\n",
    "from sklearn.ensemble import RandomForestClassifier\n",
    "from skopt import BayesSearchCV\n",
    "from skopt.space import Real, Integer,Categorical\n",
    "from timeit import default_timer as timer\n",
    "from sklearn.metrics import roc_curve, auc\n",
    "import matplotlib.pyplot as plt\n",
    "from sklearn.metrics import precision_recall_curve"
   ]
  },
  {
   "cell_type": "code",
   "execution_count": 34,
   "id": "cd9c3cad",
   "metadata": {},
   "outputs": [],
   "source": [
    "X_train, X_test, y_train, y_test = train_test_split(X, Y,\n",
    "                                                    test_size=0.3, stratify=Y)"
   ]
  },
  {
   "cell_type": "code",
   "execution_count": 35,
   "id": "ef6add0b",
   "metadata": {},
   "outputs": [],
   "source": [
    "# Création des dummies pour les variables categorielles"
   ]
  },
  {
   "cell_type": "code",
   "execution_count": 36,
   "id": "b5cdc72d",
   "metadata": {},
   "outputs": [],
   "source": [
    "X_train = pd.concat([X_train,pd.get_dummies(X_train[['Continent', 'Parties_Jour', 'Month']],prefix=['Continent', 'Parties_Jour', 'Month'],\n",
    "                                            dummy_na = True,drop_first=True)],axis = 1)\n",
    "X_test = pd.concat([X_test,pd.get_dummies(X_test[['Continent', 'Parties_Jour', 'Month']], prefix=['Continent', 'Parties_Jour', 'Month'],\n",
    "                                          dummy_na = True,drop_first=True)], axis = 1)"
   ]
  },
  {
   "cell_type": "code",
   "execution_count": 37,
   "id": "0d8d89ca",
   "metadata": {},
   "outputs": [],
   "source": [
    "# on vérifie que les deux bases (train et test) ont les mêmes correlations"
   ]
  },
  {
   "cell_type": "code",
   "execution_count": 38,
   "id": "0ab06bea",
   "metadata": {},
   "outputs": [
    {
     "name": "stdout",
     "output_type": "stream",
     "text": [
      "Matrice correlation : train\n"
     ]
    },
    {
     "data": {
      "text/plain": [
       "<AxesSubplot:>"
      ]
     },
     "execution_count": 38,
     "metadata": {},
     "output_type": "execute_result"
    },
    {
     "data": {
      "image/png": "[encoded data removed]",
      "text/plain": [
       "<Figure size 432x288 with 2 Axes>"
      ]
     },
     "metadata": {
      "needs_background": "light"
     },
     "output_type": "display_data"
    }
   ],
   "source": [
    "corrMatrix_train = X_train.corr()\n",
    "print(\"Matrice correlation : train\")\n",
    "sns.heatmap(corrMatrix_train) "
   ]
  },
  {
   "cell_type": "code",
   "execution_count": 39,
   "id": "a7ea281b",
   "metadata": {},
   "outputs": [
    {
     "name": "stdout",
     "output_type": "stream",
     "text": [
      "Matrice correlation : test\n"
     ]
    },
    {
     "data": {
      "text/plain": [
       "<AxesSubplot:>"
      ]
     },
     "execution_count": 39,
     "metadata": {},
     "output_type": "execute_result"
    },
    {
     "data": {
      "image/png": "[encoded data removed]",
      "text/plain": [
       "<Figure size 432x288 with 2 Axes>"
      ]
     },
     "metadata": {
      "needs_background": "light"
     },
     "output_type": "display_data"
    }
   ],
   "source": [
    "corrMatrix_test = X_test.corr()\n",
    "print(\"Matrice correlation : test\")\n",
    "sns.heatmap(corrMatrix_test) "
   ]
  },
  {
   "cell_type": "code",
   "execution_count": 40,
   "id": "801cff6d",
   "metadata": {},
   "outputs": [],
   "source": [
    "# On observe que les variables Sum, Redondance, Difference_Pays sont très correlés entre ces temporalités.\n",
    "# On conserve juste les variables relatives aux dernières 3 et 24 heures"
   ]
  },
  {
   "cell_type": "code",
   "execution_count": 41,
   "id": "0aff3da9",
   "metadata": {},
   "outputs": [],
   "source": [
    "X_train.drop(['FM_Sum_6','FM_Sum_12','FM_Redondance_MCC_6', 'FM_Redondance_MCC_12','FM_Difference_Pays_6','FM_Difference_Pays_12', 'FM_Velocity_Condition_6', 'FM_Velocity_Condition_12', \n",
    "              'Continent', 'Parties_Jour', 'Month', 'Continent_nan', 'Parties_Jour_nan','Month_nan'], axis=1, inplace=True)\n",
    "X_test.drop(['FM_Sum_6','FM_Sum_12','FM_Redondance_MCC_6', 'FM_Redondance_MCC_12','FM_Difference_Pays_6','FM_Difference_Pays_12', 'FM_Velocity_Condition_6', 'FM_Velocity_Condition_12',\n",
    "            'Continent', 'Parties_Jour', 'Month', 'Continent_nan', 'Parties_Jour_nan','Month_nan'], axis=1, inplace=True)"
   ]
  },
  {
   "cell_type": "markdown",
   "id": "989b86cc",
   "metadata": {},
   "source": [
    "### Balance dataset"
   ]
  },
  {
   "cell_type": "code",
   "execution_count": 42,
   "id": "59ea1bc0",
   "metadata": {},
   "outputs": [],
   "source": [
    "from imblearn.over_sampling import SMOTE\n",
    "from collections import Counter"
   ]
  },
  {
   "cell_type": "code",
   "execution_count": 43,
   "id": "6fabc79e",
   "metadata": {},
   "outputs": [
    {
     "name": "stdout",
     "output_type": "stream",
     "text": [
      "Training target statistics: Counter({False: 800930, True: 800930})\n",
      "Testing target statistics: Counter({False: 343256, True: 2174})\n"
     ]
    }
   ],
   "source": [
    "over_sampler = SMOTE(k_neighbors=2)\n",
    "X_res, y_res = over_sampler.fit_resample(X_train, y_train)\n",
    "print(f\"Training target statistics: {Counter(y_res)}\")\n",
    "print(f\"Testing target statistics: {Counter(y_test)}\")"
   ]
  },
  {
   "cell_type": "markdown",
   "id": "96c4a0e7",
   "metadata": {},
   "source": [
    "### Random Forest"
   ]
  },
  {
   "cell_type": "code",
   "execution_count": 45,
   "id": "9808596c",
   "metadata": {},
   "outputs": [
    {
     "name": "stdout",
     "output_type": "stream",
     "text": [
      " #### RECHERCHE DES PARAMETRES OPTIMAUX POUR LE RANDOM FOREST #### \n",
      " \n",
      " Durée de recherche en seconde :\n",
      "4188.584586005\n",
      "\n",
      " Paramètres optimaux : \n",
      "OrderedDict([('bootstrap', True), ('criterion', 'entropy'), ('max_depth', 9), ('n_estimators', 55)])\n",
      "\n",
      " Résultats  : 0.9586432440582804\n"
     ]
    }
   ],
   "source": [
    "param_dict_bayes_RF = {\n",
    "    'n_estimators' : Integer(10,200),\n",
    "    'criterion': Categorical(['gini', 'entropy']), \n",
    "    'max_depth': Integer(3,10),\n",
    "    'bootstrap':Categorical([True,False])}\n",
    "\n",
    "NB_ITER = 5\n",
    "\n",
    "opt = BayesSearchCV(RandomForestClassifier(),param_dict_bayes_RF,n_iter=NB_ITER,cv=5,scoring = 'roc_auc')\n",
    "\n",
    "start = timer()  \n",
    "opt.fit(X_res, y_res)\n",
    "delais = timer()- start\n",
    "best_param_opti_bayes = opt.best_params_\n",
    "best_score_opti_bayes = opt.best_score_\n",
    "all_result_opti_bayes = opt.cv_results_\n",
    "print(\" #### RECHERCHE DES PARAMETRES OPTIMAUX POUR LE RANDOM FOREST #### \")\n",
    "print(\" \\n Durée de recherche en seconde :\")\n",
    "print(delais)\n",
    "print(\"\\n Paramètres optimaux : \")\n",
    "best_param_opti_bayes =opt.best_params_\n",
    "print(best_param_opti_bayes)\n",
    "best_score_opti_bayes = opt.best_score_\n",
    "print(\"\\n Résultats  : \" + str(best_score_opti_bayes))"
   ]
  },
  {
   "cell_type": "code",
   "execution_count": 46,
   "id": "6ece315d",
   "metadata": {},
   "outputs": [
    {
     "data": {
      "image/png": "[encoded data removed]",
      "text/plain": [
       "<Figure size 432x288 with 1 Axes>"
      ]
     },
     "metadata": {
      "needs_background": "light"
     },
     "output_type": "display_data"
    },
    {
     "data": {
      "image/png": "[encoded data removed]",
      "text/plain": [
       "<Figure size 432x288 with 1 Axes>"
      ]
     },
     "metadata": {
      "needs_background": "light"
     },
     "output_type": "display_data"
    }
   ],
   "source": [
    "# Apprentissage du modèle\n",
    "\n",
    "rf_clf = RandomForestClassifier(**opt.best_params_)\n",
    "\n",
    "rf_clf.fit(X_res,y_res)\n",
    "\n",
    "#Calcul des métriques\n",
    "\n",
    "fpr_train_RF, tpr_train_RF, thresholds_train_RF = roc_curve(y_train, rf_clf.predict_proba(X_train)[:,1])\n",
    "roc_auc_train_RF = auc(fpr_train_RF, tpr_train_RF)\n",
    "\n",
    "fpr_test_RF, tpr_test_RF, thresholds_test_RF = roc_curve(y_test, rf_clf.predict_proba(X_test)[:,1])\n",
    "roc_auc_test_RF = auc(fpr_test_RF, tpr_test_RF)\n",
    "\n",
    "plt.figure()\n",
    "lw = 2\n",
    "plt.plot(fpr_train_RF, tpr_train_RF, color='darkorange',\n",
    "         lw=lw, label='Train -RF - ROC curve (area = %0.2f)' % roc_auc_train_RF)\n",
    "plt.plot(fpr_test_RF, tpr_test_RF, color='darkblue',\n",
    "         lw=lw, label='Test -RF - ROC curve (area = %0.2f)' % roc_auc_test_RF)\n",
    "\n",
    "plt.plot([0, 1], [0, 1], color='navy', lw=lw, linestyle='--')\n",
    "plt.xlim([0.0, 1.0])\n",
    "plt.ylim([0.0, 1.05])\n",
    "plt.xlabel('False Positive Rate')\n",
    "plt.ylabel('True Positive Rate')\n",
    "plt.title('Comparaison courve ROC Train ')\n",
    "plt.legend(loc=\"lower right\")\n",
    "plt.show()\n",
    "\n",
    "\n",
    "\n",
    "### COURBES PRECISION RAPPEL\n",
    "\n",
    "precision_train_RF, recall_train_RF, thresholds_train_RF = precision_recall_curve(y_train,\n",
    "                                                                         rf_clf.predict_proba(X_train)[:,1])\n",
    "\n",
    "precision_test_RF, recall_test_RF, thresholds_test_RF = precision_recall_curve(y_test,\n",
    "                                                                         rf_clf.predict_proba(X_test)[:,1])\n",
    "\n",
    "plt.figure()\n",
    "lw = 2\n",
    "plt.plot(recall_train_RF,precision_train_RF, color='darkorange',\n",
    "         lw=lw, label='Train - RF')\n",
    "plt.plot(recall_test_RF,precision_test_RF, color='darkblue',\n",
    "         lw=lw, label='Test - RF')\n",
    "plt.xlim([0.0, 1.0])\n",
    "plt.ylim([0.0, 1.05])\n",
    "plt.xlabel('Recall')\n",
    "plt.ylabel('Precision')\n",
    "plt.title('Comparaison courbe PRECISION / RAPPEL')\n",
    "plt.legend(loc=\"lower left\")\n",
    "plt.show()"
   ]
  },
  {
   "cell_type": "code",
   "execution_count": 47,
   "id": "0a4ce2c8",
   "metadata": {},
   "outputs": [
    {
     "name": "stdout",
     "output_type": "stream",
     "text": [
      "Les 10 variables les plus importantes : \n",
      "\n"
     ]
    },
    {
     "data": {
      "text/html": [
       "<div>\n",
       "<style scoped>\n",
       "    .dataframe tbody tr th:only-of-type {\n",
       "        vertical-align: middle;\n",
       "    }\n",
       "\n",
       "    .dataframe tbody tr th {\n",
       "        vertical-align: top;\n",
       "    }\n",
       "\n",
       "    .dataframe thead th {\n",
       "        text-align: right;\n",
       "    }\n",
       "</style>\n",
       "<table border=\"1\" class=\"dataframe\">\n",
       "  <thead>\n",
       "    <tr style=\"text-align: right;\">\n",
       "      <th></th>\n",
       "      <th>Variable</th>\n",
       "      <th>Feature Importance</th>\n",
       "    </tr>\n",
       "  </thead>\n",
       "  <tbody>\n",
       "    <tr>\n",
       "      <th>5</th>\n",
       "      <td>FM_Sum_24</td>\n",
       "      <td>0.163652</td>\n",
       "    </tr>\n",
       "    <tr>\n",
       "      <th>10</th>\n",
       "      <td>FD</td>\n",
       "      <td>0.141291</td>\n",
       "    </tr>\n",
       "    <tr>\n",
       "      <th>0</th>\n",
       "      <td>CodeRep</td>\n",
       "      <td>0.093191</td>\n",
       "    </tr>\n",
       "    <tr>\n",
       "      <th>3</th>\n",
       "      <td>FM_Velocity_Condition_24</td>\n",
       "      <td>0.077684</td>\n",
       "    </tr>\n",
       "    <tr>\n",
       "      <th>17</th>\n",
       "      <td>Parties_Jour_Matinée</td>\n",
       "      <td>0.067245</td>\n",
       "    </tr>\n",
       "    <tr>\n",
       "      <th>4</th>\n",
       "      <td>FM_Sum_3</td>\n",
       "      <td>0.059581</td>\n",
       "    </tr>\n",
       "    <tr>\n",
       "      <th>11</th>\n",
       "      <td>Continent_Amérique du Nord</td>\n",
       "      <td>0.057841</td>\n",
       "    </tr>\n",
       "    <tr>\n",
       "      <th>14</th>\n",
       "      <td>Continent_Europe</td>\n",
       "      <td>0.057553</td>\n",
       "    </tr>\n",
       "    <tr>\n",
       "      <th>2</th>\n",
       "      <td>FM_Velocity_Condition_3</td>\n",
       "      <td>0.044511</td>\n",
       "    </tr>\n",
       "    <tr>\n",
       "      <th>20</th>\n",
       "      <td>Month_4.0</td>\n",
       "      <td>0.035633</td>\n",
       "    </tr>\n",
       "  </tbody>\n",
       "</table>\n",
       "</div>"
      ],
      "text/plain": [
       "                      Variable  Feature Importance\n",
       "5                    FM_Sum_24            0.163652\n",
       "10                          FD            0.141291\n",
       "0                      CodeRep            0.093191\n",
       "3     FM_Velocity_Condition_24            0.077684\n",
       "17        Parties_Jour_Matinée            0.067245\n",
       "4                     FM_Sum_3            0.059581\n",
       "11  Continent_Amérique du Nord            0.057841\n",
       "14            Continent_Europe            0.057553\n",
       "2      FM_Velocity_Condition_3            0.044511\n",
       "20                   Month_4.0            0.035633"
      ]
     },
     "execution_count": 47,
     "metadata": {},
     "output_type": "execute_result"
    }
   ],
   "source": [
    "importance_variable_rf = pd.DataFrame()\n",
    "importance_variable_rf[\"Variable\"]= X_train.columns.tolist()\n",
    "importance_variable_rf[\"Feature Importance\"] = rf_clf.feature_importances_\n",
    "\n",
    "importance_variable_rf.sort_values(by = \"Feature Importance\", axis=0, ascending=False, inplace=True)\n",
    "\n",
    "print(\"Les 10 variables les plus importantes : \\n\")\n",
    "importance_variable_rf.head(10)"
   ]
  },
  {
   "cell_type": "code",
   "execution_count": null,
   "id": "193c3142",
   "metadata": {},
   "outputs": [],
   "source": [
    "# Les variables qui ont les plus d'impact sont le montant cummulé, l'indice de developpement financier et le code de réponse."
   ]
  }
 ],
 "metadata": {
  "kernelspec": {
   "display_name": "Python 3",
   "language": "python",
   "name": "python3"
  },
  "language_info": {
   "codemirror_mode": {
    "name": "ipython",
    "version": 3
   },
   "file_extension": ".py",
   "mimetype": "text/x-python",
   "name": "python",
   "nbconvert_exporter": "python",
   "pygments_lexer": "ipython3",
   "version": "3.8.8"
  }
 },
 "nbformat": 4,
 "nbformat_minor": 5
}
